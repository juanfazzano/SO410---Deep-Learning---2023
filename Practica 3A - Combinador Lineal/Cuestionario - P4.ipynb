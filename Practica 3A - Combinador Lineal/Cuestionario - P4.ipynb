{
 "cells": [
  {
   "cell_type": "code",
   "execution_count": 1,
   "id": "dc4d9d9e-4064-4673-a9bd-6f52d8b54c81",
   "metadata": {},
   "outputs": [
    {
     "data": {
      "text/latex": [
       "$\\displaystyle 2 j^{2} - 2 j k + 18 j + k^{2} - 20 k + 201$"
      ],
      "text/plain": [
       "2*j**2 - 2*j*k + 18*j + k**2 - 20*k + 201"
      ]
     },
     "execution_count": 1,
     "metadata": {},
     "output_type": "execute_result"
    }
   ],
   "source": [
    "from sympy import symbols, diff\n",
    "from funciones import meshgridXY, graficar3D, optimize_function\n",
    "\n",
    "j, k= symbols('j k', real=True) \n",
    "\n",
    "f = 𝑘**2 - 2*𝑗*𝑘 + 2*(𝑗**2) + 18*𝑗 - 20*𝑘 + 201\n",
    "\n",
    "# x=j & y=k\n",
    "\n",
    "def df(j, k):\n",
    "    return 𝑘**2 - 2*𝑗*𝑘 + 2*(𝑗**2) + 18*𝑗 - 20*𝑘 + 201\n",
    "\n",
    "\n",
    "def df_dj(pj, pk):\n",
    "    df_dj = diff(f, j)\n",
    "    return df_dj.evalf(subs = { j:pj, k:pk } )\n",
    "\n",
    "\n",
    "def df_dk(pj, pk):\n",
    "    df_dk = diff(f, k)\n",
    "    return df_dk.evalf(subs = { j:pj, k:pk } )\n",
    "\n",
    "\n",
    "X, Y = meshgridXY()\n",
    "Z = df(X, Y)\n",
    "\n",
    "f"
   ]
  },
  {
   "cell_type": "code",
   "execution_count": 3,
   "id": "49a064bd-85bf-4c5b-b6be-24ce6bfdfab1",
   "metadata": {},
   "outputs": [
    {
     "name": "stdout",
     "output_type": "stream",
     "text": [
      "iteraciones = 46   x= 1.01352   y=11.02188   v=100.00025274\n",
      "Dif error:  9.937778915514173e-05\n",
      "\n",
      "iteraciones = 36   x= 1.00913   y=11.01477   v=100.00011510\n",
      "Dif error:  7.86150275757791e-05\n",
      "\n",
      "iteraciones = 100   x= 0.94907   y=10.91759   v=100.00358507\n",
      "Dif error:  0.0002904060944501907\n"
     ]
    }
   ],
   "source": [
    "MAX_ITE_value = 100\n",
    "cota_error_value = 10e-5\n",
    "optimizer = optimize_function(df_dj, df_dk, df)\n",
    "\n",
    "alfa_value = 0.2\n",
    "x_initial, y_initial = 78, 16\n",
    "optimizer(x_initial, y_initial, alfa_value, MAX_ITE_value, cota_error_value)\n",
    "print()\n",
    "alfa_value = 0.3\n",
    "x_initial, y_initial = -6, 200\n",
    "optimizer(x_initial, y_initial, alfa_value, MAX_ITE_value, cota_error_value)\n",
    "print()\n",
    "alfa_value = 0.05\n",
    "x_initial, y_initial = 2, 5\n",
    "optimizer(x_initial, y_initial, alfa_value, MAX_ITE_value, cota_error_value)"
   ]
  },
  {
   "cell_type": "code",
   "execution_count": null,
   "id": "12cf0811-d513-41ea-a59c-0d877993d486",
   "metadata": {},
   "outputs": [],
   "source": []
  }
 ],
 "metadata": {
  "kernelspec": {
   "display_name": "Python 3 (ipykernel)",
   "language": "python",
   "name": "python3"
  },
  "language_info": {
   "codemirror_mode": {
    "name": "ipython",
    "version": 3
   },
   "file_extension": ".py",
   "mimetype": "text/x-python",
   "name": "python",
   "nbconvert_exporter": "python",
   "pygments_lexer": "ipython3",
   "version": "3.11.5"
  }
 },
 "nbformat": 4,
 "nbformat_minor": 5
}
