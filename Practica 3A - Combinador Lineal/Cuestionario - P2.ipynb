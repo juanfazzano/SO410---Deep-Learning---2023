{
 "cells": [
  {
   "cell_type": "code",
   "execution_count": 1,
   "id": "577a813e-f7a6-42e2-9141-e5cb3fe80ce9",
   "metadata": {},
   "outputs": [
    {
     "data": {
      "text/latex": [
       "$\\displaystyle \\frac{x}{2 x^{2} + 3 y^{2} + 1}$"
      ],
      "text/plain": [
       "x/(2*x**2 + 3*y**2 + 1)"
      ]
     },
     "execution_count": 1,
     "metadata": {},
     "output_type": "execute_result"
    }
   ],
   "source": [
    "from sympy import symbols, diff\n",
    "\n",
    "x, y = symbols('x y', real=True) \n",
    "\n",
    "f = x / ((2*(x**2)) + (3*(y**2)) + 1)\n",
    "\n",
    "# x=j & y=k\n",
    "\n",
    "def df(x, y):\n",
    "    return x / ((2*(x**2)) + (3*(y**2)) + 1)\n",
    "\n",
    "\n",
    "def df_dx(px, py):\n",
    "    df_dx = diff(f, x)\n",
    "    return df_dx.evalf(subs = { x:px, y:py } )\n",
    "\n",
    "\n",
    "def df_dy(px, py):\n",
    "    df_dy = diff(f, y)\n",
    "    return df_dy.evalf(subs = { x:px, y:py } )\n",
    "\n",
    "f"
   ]
  },
  {
   "cell_type": "code",
   "execution_count": 3,
   "id": "13159204-e177-4f4c-a484-3b026ceaf228",
   "metadata": {},
   "outputs": [],
   "source": [
    "from funciones import meshgridXY, graficar3D, optimize_function\n",
    "\n",
    "X, Y = meshgridXY()\n",
    "Z = df(X, Y)\n"
   ]
  },
  {
   "cell_type": "code",
   "execution_count": 4,
   "id": "e92bbf41-194e-4f37-b5a0-10d4e11904a7",
   "metadata": {},
   "outputs": [],
   "source": [
    "# import math\n",
    "# def optimize_function(dx_fun, dy_fun, fun):\n",
    "#     def inner(x, y, alfa, MAX_ITE=100, cota_error=1e-6):\n",
    "#         ite = 1\n",
    "#         v_new = fun(x, y)   # valor inicial\n",
    "#         v = v_new - 1 # fuerza entrada al while\n",
    "        \n",
    "#         try:\n",
    "#             while ((ite < MAX_ITE) and (math.fabs(v - v_new) > cota_error)):\n",
    "#                 # print('dif error', math.fabs(v - v_new))\n",
    "\n",
    "#                 v = v_new\n",
    "    \n",
    "#                 grad_x = dx_fun(x, y)  # derivada respecto de x en punto actual\n",
    "#                 grad_y = dy_fun(x, y)  # derivada respecto de y en punto actual\n",
    "    \n",
    "#                 x = x - alfa * grad_x  # avanza en dirección al gradiente en x\n",
    "#                 y = y - alfa * grad_y  # avanza en dirección al gradiente en y\n",
    "    \n",
    "#                 v_new = fun(x, y)  # calcula valor en nueva posición\n",
    "#                 ite = ite + 1\n",
    "    \n",
    "#             print(\"iteraciones = %d   x= %.5f   y=%.5f   v=%.8f\" % (ite, x, y, v_new))\n",
    "#         except OverflowError as e:\n",
    "#             print(\"Oooops: después de la iteracion %d algún valor tiende a infinito:\\n x = %.1e \\n y = %.1e\" % (ite, x,y))\n",
    "#     return inner\n"
   ]
  },
  {
   "cell_type": "code",
   "execution_count": 5,
   "id": "1dbb285b-162f-4eb9-a750-e58e1e642c6a",
   "metadata": {},
   "outputs": [
    {
     "name": "stdout",
     "output_type": "stream",
     "text": [
      "iteraciones = 100   x= -0.85918   y=0.68873   v=-0.22033486\n",
      "Dif error:  0.005791212535506379\n",
      "\n",
      "iteraciones = 52   x= -0.69450   y=0.00000   v=-0.35349615\n",
      "Dif error:  9.431294915318578e-06\n",
      "\n",
      "iteraciones = 100   x= -0.74819   y=-0.03099   v=-0.35251105\n",
      "Dif error:  0.000183761040533581\n"
     ]
    }
   ],
   "source": [
    "alfa_value = 0.1\n",
    "MAX_ITE_value = 100\n",
    "cota_error_value = 10e-6\n",
    "optimizer = optimize_function(df_dx, df_dy, df)\n",
    "\n",
    "x_initial, y_initial = 0.5, 1.2\n",
    "optimizer(x_initial, y_initial, alfa_value, MAX_ITE_value, cota_error_value)\n",
    "print()\n",
    "\n",
    "x_initial, y_initial = 0.5, 0\n",
    "optimizer(x_initial, y_initial, alfa_value, MAX_ITE_value, cota_error_value)\n",
    "print()\n",
    "\n",
    "\n",
    "x_initial, y_initial = 0.2, -1.2\n",
    "optimizer(x_initial, y_initial, alfa_value, MAX_ITE_value, cota_error_value)\n"
   ]
  },
  {
   "cell_type": "code",
   "execution_count": null,
   "id": "655ad925-5271-4fea-888c-4d0d4cc5431a",
   "metadata": {},
   "outputs": [],
   "source": []
  }
 ],
 "metadata": {
  "kernelspec": {
   "display_name": "Python 3 (ipykernel)",
   "language": "python",
   "name": "python3"
  },
  "language_info": {
   "codemirror_mode": {
    "name": "ipython",
    "version": 3
   },
   "file_extension": ".py",
   "mimetype": "text/x-python",
   "name": "python",
   "nbconvert_exporter": "python",
   "pygments_lexer": "ipython3",
   "version": "3.11.5"
  }
 },
 "nbformat": 4,
 "nbformat_minor": 5
}
