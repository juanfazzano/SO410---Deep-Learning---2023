{
 "cells": [
  {
   "cell_type": "markdown",
   "metadata": {
    "id": "RBFyaFx_aM0k"
   },
   "source": [
    "---\n",
    "Para la práctica y el cuestionario la mayoría de los calculos pueden realizarse de forma manual. No obstante también puede utilizarse una biblioteca como sympy para realizar cálculos que tienen que ver con funciones, derivadas  e integrales entre otras muchas operaciones.\n",
    "\n",
    "***Tenga en cuenta que este script es una guía para ayudar en la resolución de los ejercicios. Las consignas, items y/o valores pueden no coincidir con los de la práctica.***\n"
   ]
  },
  {
   "cell_type": "code",
   "execution_count": null,
   "metadata": {
    "id": "QBkEOI1VW3tW"
   },
   "outputs": [],
   "source": [
    "# si no esta instalado sympy:\n",
    "# Para instalar con conda:\n",
    "# conda install -c anaconda sympy\n",
    "# Para instalar con pip:\n",
    "# pip install sympy # usar ! al inicio para colab"
   ]
  },
  {
   "cell_type": "code",
   "execution_count": 3,
   "metadata": {
    "colab": {
     "base_uri": "https://localhost:8080/",
     "height": 54
    },
    "executionInfo": {
     "elapsed": 996,
     "status": "ok",
     "timestamp": 1693791018934,
     "user": {
      "displayName": "Cesar Estrebou",
      "userId": "12510511812709829812"
     },
     "user_tz": 180
    },
    "id": "8ORLIMa0xIoD",
    "outputId": "5bd31035-a7b4-433d-cdd8-5de6eb47ed53"
   },
   "outputs": [
    {
     "data": {
      "text/latex": [
       "$\\displaystyle \\frac{6}{3 x^{2} + 2 y^{2} + 1}$"
      ],
      "text/plain": [
       "6/(3*x**2 + 2*y**2 + 1)"
      ]
     },
     "execution_count": 3,
     "metadata": {},
     "output_type": "execute_result"
    }
   ],
   "source": [
    "from sympy import symbols, diff\n",
    "\n",
    "# establece variables a usar en la funcion\n",
    "x, y= symbols('x y', real=True)\n",
    "\n",
    "# define la funcion\n",
    "f = 6/(3*x**2+2*y*y+1)\n",
    "f"
   ]
  },
  {
   "cell_type": "code",
   "execution_count": 4,
   "metadata": {
    "colab": {
     "base_uri": "https://localhost:8080/",
     "height": 58
    },
    "executionInfo": {
     "elapsed": 453,
     "status": "ok",
     "timestamp": 1693791027324,
     "user": {
      "displayName": "Cesar Estrebou",
      "userId": "12510511812709829812"
     },
     "user_tz": 180
    },
    "id": "CvYO-AYPyo6q",
    "outputId": "6d5e4f02-49bd-4a9e-e6e3-8f6785694995"
   },
   "outputs": [
    {
     "data": {
      "text/latex": [
       "$\\displaystyle - \\frac{36 x}{\\left(3 x^{2} + 2 y^{2} + 1\\right)^{2}}$"
      ],
      "text/plain": [
       "-36*x/(3*x**2 + 2*y**2 + 1)**2"
      ]
     },
     "execution_count": 4,
     "metadata": {},
     "output_type": "execute_result"
    }
   ],
   "source": [
    "# obtiene función de derivada parcial\n",
    "df_dx = diff(f, x)\n",
    "df_dx"
   ]
  },
  {
   "cell_type": "code",
   "execution_count": 5,
   "metadata": {
    "colab": {
     "base_uri": "https://localhost:8080/",
     "height": 58
    },
    "executionInfo": {
     "elapsed": 361,
     "status": "ok",
     "timestamp": 1693791031956,
     "user": {
      "displayName": "Cesar Estrebou",
      "userId": "12510511812709829812"
     },
     "user_tz": 180
    },
    "id": "Nj9HYMlyyyRD",
    "outputId": "6d72df58-36c1-455b-e887-ded271c66d14"
   },
   "outputs": [
    {
     "data": {
      "text/latex": [
       "$\\displaystyle - \\frac{24 y}{\\left(3 x^{2} + 2 y^{2} + 1\\right)^{2}}$"
      ],
      "text/plain": [
       "-24*y/(3*x**2 + 2*y**2 + 1)**2"
      ]
     },
     "execution_count": 5,
     "metadata": {},
     "output_type": "execute_result"
    }
   ],
   "source": [
    "# obtiene función de derivada parcial\n",
    "df_dy = diff(f, y)\n",
    "df_dy"
   ]
  },
  {
   "cell_type": "code",
   "execution_count": 6,
   "metadata": {
    "colab": {
     "base_uri": "https://localhost:8080/"
    },
    "executionInfo": {
     "elapsed": 303,
     "status": "ok",
     "timestamp": 1693791039345,
     "user": {
      "displayName": "Cesar Estrebou",
      "userId": "12510511812709829812"
     },
     "user_tz": 180
    },
    "id": "cxxk7kRBNOrU",
    "outputId": "17352bc6-00a3-4138-8d63-b0b88df05fc6"
   },
   "outputs": [
    {
     "name": "stdout",
     "output_type": "stream",
     "text": [
      "\n",
      "Dada la función f(x,y) =  6/(3*x**2 + 2*y**2 + 1)\n",
      "  en (1.000000,-1.000000) vale 1.000000\n",
      "\n",
      " - La derivada respecto de x es -36*x/(3*x**2 + 2*y**2 + 1)**2\n",
      "   y en (1.000000,-1.000000) vale -1.000000\n",
      "\n",
      " - La derivada respecto de y es -24*y/(3*x**2 + 2*y**2 + 1)**2\n",
      "   y en (1.000000,-1.000000) vale 0.666667\n",
      "\n",
      "\n",
      "Dada la función f(x,y) =  6/(3*x**2 + 2*y**2 + 1)\n",
      " en (0.900000,-0.933333) vale 1.160043\n",
      "\n"
     ]
    }
   ],
   "source": [
    "# coordenadas del punto a calcular\n",
    "px = 1\n",
    "py = -1\n",
    "\n",
    "# evalua la funcion f en x e y\n",
    "pz = f.evalf(subs = {x:px, y:py})\n",
    "print(\"\\nDada la función f(x,y) = \", f)\n",
    "print(\"  en (%f,%f) vale %f\\n\" % (px, py, pz) )\n",
    "\n",
    "# evalua la derivada de la funcion f respecto de x en el punto (x e y)\n",
    "pz = df_dx.evalf(subs = {x:px, y:py} )\n",
    "print(\" - La derivada respecto de x es\", df_dx )\n",
    "print(\"   y en (%f,%f) vale %f\\n\" % (px, py, pz) )\n",
    "\n",
    "# evalua la derivada de la funcion f respecto de x en el punto (x e y)\n",
    "pz = df_dy.evalf(subs = {x:px,y:py} )\n",
    "print(\" - La derivada respecto de y es\", df_dy)\n",
    "print(\"   y en (%f,%f) vale %f\\n\" % (px, py, pz) )\n",
    "\n",
    "# la función crece en dirección al gradiente\n",
    "rx = px+0.1*df_dx.evalf(subs = {x:px,y:py})\n",
    "ry = py+0.1*df_dy.evalf(subs = {x:px,y:py})\n",
    "pz = f.evalf(subs = {x:rx, y:ry})\n",
    "print(\"\\nDada la función f(x,y) = \", f)\n",
    "print(\" en (%f,%f) vale %f\\n\" % (rx, ry, pz) )"
   ]
  },
  {
   "cell_type": "code",
   "execution_count": null,
   "metadata": {},
   "outputs": [],
   "source": []
  },
  {
   "cell_type": "code",
   "execution_count": null,
   "metadata": {},
   "outputs": [],
   "source": []
  }
 ],
 "metadata": {
  "colab": {
   "authorship_tag": "ABX9TyOpk5lfbh++HKMd5Ui6QiZP",
   "provenance": []
  },
  "kernelspec": {
   "display_name": "Python 3 (ipykernel)",
   "language": "python",
   "name": "python3"
  },
  "language_info": {
   "codemirror_mode": {
    "name": "ipython",
    "version": 3
   },
   "file_extension": ".py",
   "mimetype": "text/x-python",
   "name": "python",
   "nbconvert_exporter": "python",
   "pygments_lexer": "ipython3",
   "version": "3.11.5"
  }
 },
 "nbformat": 4,
 "nbformat_minor": 4
}
