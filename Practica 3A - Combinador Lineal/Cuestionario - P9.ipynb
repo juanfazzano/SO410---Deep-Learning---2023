{
 "cells": [
  {
   "cell_type": "code",
   "execution_count": 1,
   "id": "9e8fbb5b-85a3-4164-a177-65ad6d307266",
   "metadata": {},
   "outputs": [
    {
     "name": "stdout",
     "output_type": "stream",
     "text": [
      "Mate = 9. Fisica =: 6.95114633\n",
      "Mate = 9. Fisica =: 6.06773805\n",
      "Mate = 9. Fisica =: 6.10929936\n"
     ]
    }
   ],
   "source": [
    "x=9\n",
    "# Función para hacer predicciones\n",
    "def predecir_nota(nota_matematicas, w, b):\n",
    "    return w * nota_matematicas + b\n",
    "\n",
    "nota_mate = 7\n",
    "\n",
    "w_entrenado = 1.01960201\n",
    "b_entrenado = -0.18606774\n",
    "nota_predicha = predecir_nota(nota_mate, w_entrenado, b_entrenado)\n",
    "print(f\"Mate = {x}. Fisica =: {nota_predicha}\")\n",
    "\n",
    "w_entrenado = 0.91090581\n",
    "b_entrenado = -0.30860262\n",
    "nota_predicha = predecir_nota(nota_mate, w_entrenado, b_entrenado)\n",
    "print(f\"Mate = {x}. Fisica =: {nota_predicha}\")\n",
    "\n",
    "w_entrenado = 0.79816056\n",
    "b_entrenado = 0.52217544\n",
    "nota_predicha = predecir_nota(nota_mate, w_entrenado, b_entrenado)\n",
    "print(f\"Mate = {x}. Fisica =: {nota_predicha}\")\n"
   ]
  },
  {
   "cell_type": "code",
   "execution_count": null,
   "id": "882d5a1c-13ec-4bba-9bfe-c005ff82dd82",
   "metadata": {},
   "outputs": [],
   "source": []
  }
 ],
 "metadata": {
  "kernelspec": {
   "display_name": "Python 3 (ipykernel)",
   "language": "python",
   "name": "python3"
  },
  "language_info": {
   "codemirror_mode": {
    "name": "ipython",
    "version": 3
   },
   "file_extension": ".py",
   "mimetype": "text/x-python",
   "name": "python",
   "nbconvert_exporter": "python",
   "pygments_lexer": "ipython3",
   "version": "3.11.5"
  }
 },
 "nbformat": 4,
 "nbformat_minor": 5
}
