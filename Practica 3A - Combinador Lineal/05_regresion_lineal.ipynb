{
 "cells": [
  {
   "cell_type": "markdown",
   "metadata": {
    "id": "vdWG2FEMDVST"
   },
   "source": [
    "# Regresión lineal simple\n",
    "---\n",
    "\n",
    "***Tenga en cuenta que este script es una guía para ayudar en la resolución de los ejercicios. Las consignas, incisos, datasets, tablas, parámetros y/o demás valores utilizados pueden no coincidir con los de la práctica.***"
   ]
  },
  {
   "cell_type": "markdown",
   "metadata": {
    "id": "Uo28j-NUANeL"
   },
   "source": [
    "**Montar la carpeta de Google Drive y definir constantes para trabajar**"
   ]
  },
  {
   "cell_type": "code",
   "execution_count": null,
   "metadata": {
    "id": "AxTXXFi-ALES"
   },
   "outputs": [],
   "source": []
  },
  {
   "cell_type": "code",
   "execution_count": null,
   "metadata": {
    "colab": {
     "base_uri": "https://localhost:8080/"
    },
    "executionInfo": {
     "elapsed": 37113,
     "status": "ok",
     "timestamp": 1694233924269,
     "user": {
      "displayName": "Cesar Estrebou",
      "userId": "12510511812709829812"
     },
     "user_tz": 180
    },
    "id": "mr0R32SUEfCn",
    "outputId": "e50c5de4-71ea-4c2d-9d01-759a56d31efa"
   },
   "outputs": [
    {
     "name": "stdout",
     "output_type": "stream",
     "text": [
      "Mounted at /content/drive/\n"
     ]
    }
   ],
   "source": [
    "MNT_DRIVE_DIR = '/content/drive/'\n",
    "DRIVE_DIR = '/content/drive/MyDrive/'\n",
    "DATOS_DIR = DRIVE_DIR + 'Colab Notebooks/Datos/'\n",
    "FUENTES_DIR = DRIVE_DIR + 'Colab Notebooks/Fuentes'\n",
    "\n",
    "from google.colab import drive\n",
    "drive.mount(MNT_DRIVE_DIR)\n",
    "\n",
    "# agrega ruta de busqueda donde tenemos archivos .py\n",
    "import sys\n",
    "sys.path.append(FUENTES_DIR)"
   ]
  },
  {
   "cell_type": "markdown",
   "metadata": {
    "id": "b2t-SR2qcsU-"
   },
   "source": [
    "#    Variantes del Descenso del Gradiente\n",
    "**Descenso del Gradiente por Lotes (Batch Gradient Descent):**\n",
    "\n",
    "* Calcula el gradiente utilizando todo el conjunto de datos en cada época.\n",
    "* Ajusta los pesos una vez por época en función del gradiente global promedio.\n",
    "* Adecuado para conjuntos de datos pequeños o medianos, pero costoso en conjuntos de datos grandes.\n",
    "\n",
    "**Descenso de Gradiente Estocástico (Stocastic Gradient Descent):**\n",
    "\n",
    "* Calcula el gradiente utilizando un solo ejemplo a la vez en cada iteración.\n",
    "* Ajusta los pesos después de cada ejemplo.\n",
    "* Converge más rápido, especialmente en conjuntos de datos grandes, pero con mayor variabilidad en la dirección del gradiente debido a la estocasticidad.\n",
    "\n",
    "**Descenso del Gradiente por Mini-lotes (Mini-Batch Gradient Descent):**\n",
    "\n",
    "* Calcula el gradiente utilizando un mini-lote (un pequeño subconjunto de ejemplos) en cada iteración.\n",
    "* Ajusta los pesos después de cada mini-lote.\n",
    "* Equilibra la eficiencia y la estabilidad del gradiente, utilizado comúnmente en prácticas de entrenamiento.\n",
    "\n",
    "---\n",
    "\n",
    "**Error Cuadrático Medio  (Mean Square Error)**\n",
    "$$\n",
    "MSE = \\frac{1}{m} \\sum_{i=1}^{m} (y_i - \\hat{y}_i)^2 \\\\\n",
    "$$\n",
    "\n",
    "\n",
    "Donde:\n",
    "\n",
    "- $MSE$ es el Error Cuadrático Medio.\n",
    "- $m$ es el número de observaciones o ejemplos del conjunto de datos.\n",
    "- $y_i$ es el valor real (que se quiere predecir) del ejemplo $i$.\n",
    "- $\\hat{y}_i$ es la predicción del modelo para el ejemplo $i$.\n",
    "\n",
    "\n"
   ]
  },
  {
   "cell_type": "code",
   "execution_count": 3,
   "metadata": {
    "colab": {
     "base_uri": "https://localhost:8080/",
     "height": 599
    },
    "executionInfo": {
     "elapsed": 7,
     "status": "ok",
     "timestamp": 1694236435613,
     "user": {
      "displayName": "Cesar Estrebou",
      "userId": "12510511812709829812"
     },
     "user_tz": 180
    },
    "id": "1bXcltrY4sWk",
    "outputId": "fd6ad123-4524-4531-f648-6f3b0187905c"
   },
   "outputs": [
    {
     "data": {
      "image/png": "[encoded data removed]",
      "text/plain": [
       "<Figure size 600x600 with 1 Axes>"
      ]
     },
     "metadata": {},
     "output_type": "display_data"
    },
    {
     "data": {
      "text/plain": [
       "array([[1.        , 0.81072217],\n",
       "       [0.81072217, 1.        ]])"
      ]
     },
     "execution_count": 3,
     "metadata": {},
     "output_type": "execute_result"
    }
   ],
   "source": [
    "import numpy as np\n",
    "import matplotlib.pyplot as plt\n",
    "from pylab import meshgrid #,imshow,contour\n",
    "from matplotlib import cm\n",
    "from matplotlib.ticker import LinearLocator, FormatStrFormatter\n",
    "\n",
    "\n",
    "# Valores para \"Horas de Estudio\" (en horas)\n",
    "horas_estudio = [2, 3, 4, 5, 6, 7, 8, 9, 10, 2, 3, 4, 5, 6, 7, 8, 9, 10, 1, 11]\n",
    "\n",
    "# Valores para \"Nota\" (en una escala de 0 a 10, correlacionados positivamente)\n",
    "nota_materia = [5, 6, 6, 7, 7, 8, 8, 9, 9, 4, 9, 5, 8, 7, 9, 6, 9, 10, 3, 10]\n",
    "\n",
    "X = np.array(horas_estudio)\n",
    "Y = np.array(nota_materia)\n",
    "\n",
    "# grafica para ver correlación\n",
    "plt.figure(figsize=(6,6))\n",
    "plt.plot(X, Y,'o', color='red')\n",
    "plt.title('Estudio')\n",
    "plt.xlabel('Horas')\n",
    "plt.ylabel('Nota')\n",
    "plt.show()\n",
    "\n",
    "np.corrcoef(X, Y)"
   ]
  },
  {
   "cell_type": "code",
   "execution_count": 5,
   "metadata": {
    "colab": {
     "base_uri": "https://localhost:8080/",
     "height": 1000
    },
    "executionInfo": {
     "elapsed": 16073,
     "status": "ok",
     "timestamp": 1694236925137,
     "user": {
      "displayName": "Cesar Estrebou",
      "userId": "12510511812709829812"
     },
     "user_tz": 180
    },
    "id": "31U4F4YICm74",
    "outputId": "cb35caa2-658d-4e54-dc1c-3706c665a841"
   },
   "outputs": [
    {
     "data": {
      "image/png": "[encoded data removed]",
      "text/plain": [
       "<Figure size 640x480 with 1 Axes>"
      ]
     },
     "metadata": {},
     "output_type": "display_data"
    },
    {
     "name": "stdout",
     "output_type": "stream",
     "text": [
      "w = 0.6287697830862246\n",
      "b = 3.195202330317859\n",
      "Errores:\n",
      "  0 => 153.512026\n",
      "  1 => 80.166045\n",
      "  2 => 78.229757\n",
      "  3 => 76.448579\n",
      "  4 => 74.733937\n",
      "  5 => 73.083092\n",
      "  6 => 71.493658\n",
      "  7 => 69.963340\n",
      "  8 => 68.489930\n",
      "  9 => 67.071300\n",
      " 10 => 65.705403\n",
      " 11 => 64.390270\n",
      " 12 => 63.124005\n",
      " 13 => 61.904781\n",
      " 14 => 60.730841\n",
      " 15 => 59.600496\n",
      " 16 => 58.512116\n",
      " 17 => 57.464135\n",
      " 18 => 56.455044\n",
      " 19 => 55.483393\n",
      " 20 => 54.547783\n",
      " 21 => 53.646869\n",
      " 22 => 52.779358\n",
      " 23 => 51.944001\n",
      " 24 => 51.139601\n",
      " 25 => 50.365002\n",
      " 26 => 49.619093\n",
      " 27 => 48.900803\n",
      " 28 => 48.209104\n",
      " 29 => 47.543003\n",
      " 30 => 46.901547\n",
      " 31 => 46.283816\n",
      " 32 => 45.688928\n",
      " 33 => 45.116030\n",
      " 34 => 44.564304\n",
      " 35 => 44.032960\n",
      " 36 => 43.521241\n",
      " 37 => 43.028414\n",
      " 38 => 42.553777\n",
      " 39 => 42.096653\n",
      " 40 => 41.656389\n",
      " 41 => 41.232359\n",
      " 42 => 40.823958\n",
      " 43 => 40.430605\n",
      " 44 => 40.051741\n",
      " 45 => 39.686826\n",
      " 46 => 39.335343\n",
      " 47 => 38.996791\n",
      " 48 => 38.670690\n",
      " 49 => 38.356578\n",
      " 50 => 38.054009\n",
      " 51 => 37.762555\n",
      " 52 => 37.481802\n",
      " 53 => 37.211354\n",
      " 54 => 36.950828\n",
      " 55 => 36.699856\n",
      " 56 => 36.458083\n",
      " 57 => 36.225169\n",
      " 58 => 36.000784\n",
      " 59 => 35.784612\n",
      " 60 => 35.576350\n",
      " 61 => 35.375704\n",
      " 62 => 35.182392\n",
      " 63 => 34.996142\n",
      " 64 => 34.816693\n",
      " 65 => 34.643792\n",
      " 66 => 34.477199\n",
      " 67 => 34.316679\n",
      " 68 => 34.162007\n",
      " 69 => 34.012968\n",
      " 70 => 33.869354\n",
      " 71 => 33.730963\n",
      " 72 => 33.597603\n",
      " 73 => 33.469089\n",
      " 74 => 33.345240\n",
      " 75 => 33.225886\n",
      " 76 => 33.110860\n",
      " 77 => 33.000002\n",
      " 78 => 32.893160\n",
      " 79 => 32.790184\n",
      " 80 => 32.690933\n",
      "Quien dedicó 9 horas de estudio sacará un 8 como nota en el examen\n"
     ]
    },
    {
     "data": {
      "image/png": "[encoded data removed]",
      "text/plain": [
       "<Figure size 640x480 with 1 Axes>"
      ]
     },
     "metadata": {},
     "output_type": "display_data"
    }
   ],
   "source": [
    "from ClassNeuronaLineal import NeuronaLineal\n",
    "\n",
    "print('X',X)\n",
    "x_train = X.reshape(-1,1)    # selecciona entradas y formatea a Nx1\n",
    "y_train = Y.reshape(-1,1)    # selecciona salidas y formatea a Nx1\n",
    "print('x_train', x_train)\n",
    "# entrena neurona lineal y grafica\n",
    "modelo = NeuronaLineal(alpha=0.005, n_iter=500, cotaE=0.1, draw=1, title=['X', 'Y'])\n",
    "modelo = modelo.fit(x_train, y_train)\n",
    "print('w =', modelo.w_[0])\n",
    "print('b =', modelo.b_[0])\n",
    "\n",
    "# imprime errores de cada iteracion:\n",
    "print('Errores:')\n",
    "for i, err in enumerate(modelo.errors_):\n",
    "    print('%3d => %f' % (i, err[0]))\n",
    "\n",
    "\n",
    "dato = 9 # horas de estudio dedicadas\n",
    "print('Quien dedicó %d horas de estudio sacará un %d como nota en el examen' % (dato, modelo.predict([dato])[0]))   # prediccion"
   ]
  },
  {
   "cell_type": "code",
   "execution_count": null,
   "metadata": {
    "colab": {
     "base_uri": "https://localhost:8080/"
    },
    "executionInfo": {
     "elapsed": 1067,
     "status": "ok",
     "timestamp": 1694237063988,
     "user": {
      "displayName": "Cesar Estrebou",
      "userId": "12510511812709829812"
     },
     "user_tz": 180
    },
    "id": "5tVUOzcfGwCw",
    "outputId": "f03c8537-cdc0-4ef5-9b06-fbd5bd097e1f"
   },
   "outputs": [
    {
     "name": "stdout",
     "output_type": "stream",
     "text": [
      "Quien dedicó  1 horas de estudio sacará un  3 como nota en el examen\n",
      "Quien dedicó  2 horas de estudio sacará un  4 como nota en el examen\n",
      "Quien dedicó  3 horas de estudio sacará un  5 como nota en el examen\n",
      "Quien dedicó  4 horas de estudio sacará un  5 como nota en el examen\n",
      "Quien dedicó  5 horas de estudio sacará un  6 como nota en el examen\n",
      "Quien dedicó  6 horas de estudio sacará un  6 como nota en el examen\n",
      "Quien dedicó  7 horas de estudio sacará un  7 como nota en el examen\n",
      "Quien dedicó  8 horas de estudio sacará un  8 como nota en el examen\n",
      "Quien dedicó  9 horas de estudio sacará un  8 como nota en el examen\n",
      "Quien dedicó 10 horas de estudio sacará un  9 como nota en el examen\n",
      "Quien dedicó 11 horas de estudio sacará un 10 como nota en el examen\n"
     ]
    }
   ],
   "source": [
    "# prueba con pesos de otro entrenamiento\n",
    "#w = 0.6281767157431366\n",
    "#b = 3.2010171504435605\n",
    "modelo.w_ = [0.63]\n",
    "modelo.b_ = [3.20]\n",
    "\n",
    "for i in range(1, 12):\n",
    "    dato = i # horas de estudio dedicadas\n",
    "    print('Quien dedicó %2d horas de estudio sacará un %2d como nota en el examen' % (dato, modelo.predict([dato])[0]))   # prediccion"
   ]
  }
 ],
 "metadata": {
  "colab": {
   "authorship_tag": "ABX9TyNcP/DAQWaOPkhIG2YfJ9+/",
   "provenance": [
    {
     "file_id": "1FV-Ydu5NBJ7DvGNfrlwMxfBHzXCqsO4A",
     "timestamp": 1667001788387
    }
   ]
  },
  "gpuClass": "standard",
  "kernelspec": {
   "display_name": "Python 3 (ipykernel)",
   "language": "python",
   "name": "python3"
  },
  "language_info": {
   "codemirror_mode": {
    "name": "ipython",
    "version": 3
   },
   "file_extension": ".py",
   "mimetype": "text/x-python",
   "name": "python",
   "nbconvert_exporter": "python",
   "pygments_lexer": "ipython3",
   "version": "3.11.5"
  }
 },
 "nbformat": 4,
 "nbformat_minor": 4
}
