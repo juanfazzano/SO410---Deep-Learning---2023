{
 "cells": [
  {
   "cell_type": "code",
   "execution_count": 21,
   "id": "3214a203-1797-4c4c-bf1a-f8ee693ffb59",
   "metadata": {},
   "outputs": [],
   "source": [
    "from sympy import symbols, diff\n",
    "\n",
    "x, y = symbols('x y', real=True) \n",
    "\n",
    "def df(x, y):\n",
    "    return x / ((2*(x**2)) + (3*(y**2)) + 1)\n",
    "\n",
    "\n",
    "def df_dx(px, py):\n",
    "    df_dx = diff(f, x)\n",
    "    return df_dx.evalf(subs = { x:px, y:py } )\n",
    "\n",
    "\n",
    "def df_dy(px, py):\n",
    "    df_dy = diff(f, y)\n",
    "    return df_dy.evalf(subs = { x:px, y:py } )\n",
    "\n"
   ]
  },
  {
   "cell_type": "code",
   "execution_count": 34,
   "id": "82997bf6-d6f9-4e04-8fcd-0dbe771fe650",
   "metadata": {},
   "outputs": [
    {
     "data": {
      "text/latex": [
       "$\\displaystyle 0.147380564901309$"
      ],
      "text/plain": [
       "0.147380564901309"
      ]
     },
     "execution_count": 34,
     "metadata": {},
     "output_type": "execute_result"
    }
   ],
   "source": [
    "x_ini = 0.5\n",
    "y_ini = 0.75\n",
    "\n",
    "alfa = 0.1\n",
    "\n",
    "df(x_ini, y_ini) # 0.1568\n",
    "\n",
    "dx = df_dx(x_ini, y_ini) # 0.2153\n",
    "\n",
    "dy = df_dy(x_ini, y_ini) # -0.2214\n",
    "\n",
    "gradiente_x = x_ini - dx * alfa # 0.4784 --> decrece\n",
    "gradiente_y = y_ini - dy * alfa # 0.7721 --> crece\n",
    "\n",
    "df(gradiente_x, gradiente_y) # 0.1473\n"
   ]
  },
  {
   "cell_type": "code",
   "execution_count": null,
   "id": "afcdaef9-de23-4b17-9883-d5e8a385e196",
   "metadata": {},
   "outputs": [],
   "source": []
  }
 ],
 "metadata": {
  "kernelspec": {
   "display_name": "Python 3 (ipykernel)",
   "language": "python",
   "name": "python3"
  },
  "language_info": {
   "codemirror_mode": {
    "name": "ipython",
    "version": 3
   },
   "file_extension": ".py",
   "mimetype": "text/x-python",
   "name": "python",
   "nbconvert_exporter": "python",
   "pygments_lexer": "ipython3",
   "version": "3.11.5"
  }
 },
 "nbformat": 4,
 "nbformat_minor": 5
}
