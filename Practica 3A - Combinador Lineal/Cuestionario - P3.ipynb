{
 "cells": [
  {
   "cell_type": "code",
   "execution_count": 5,
   "id": "43de10af-40f6-4f1a-b9b8-b49f7ba56960",
   "metadata": {},
   "outputs": [],
   "source": [
    "from funciones import meshgridXY, graficar3D, optimize_function\n",
    "import math\n",
    "# Define función y evalua la funcion segun los valores de R y H\n",
    "def fun(r, h):\n",
    "    return r ** 2 * h * math.pi\n",
    "\n",
    "def dr_fun(r, h): # derivada parcial respecto de r\n",
    "    return 2 * r * h * math.pi / 3\n",
    "\n",
    "def dh_fun(r, h): # derivada parcial respecto de h\n",
    "    return r ** 2 * math.pi / 3  \n",
    "\n",
    "\n",
    "X, Y = meshgridXY()\n",
    "Z = fun(X, Y)"
   ]
  },
  {
   "cell_type": "code",
   "execution_count": 6,
   "id": "283cc9a1-c928-46c8-a428-445468f04efa",
   "metadata": {},
   "outputs": [
    {
     "name": "stdout",
     "output_type": "stream",
     "text": [
      "iteraciones = 22   x= 0.00059   y=3.20000   v=0.00000354\n",
      "\n",
      "iteraciones = 10   x= 0.00015   y=5.93921   v=0.00000045\n",
      "\n",
      "iteraciones = 40   x= 0.00275   y=1.22394   v=0.00002900\n",
      "\n"
     ]
    }
   ],
   "source": [
    "alfa_value = 0.05\n",
    "MAX_ITE_value = 100\n",
    "cota_error_value = 10e-6\n",
    "optimizer = optimize_function(dr_fun, dh_fun, fun)\n",
    "\n",
    "x_initial, y_initial = 5, 5\n",
    "optimizer(x_initial, y_initial, alfa_value, MAX_ITE_value, cota_error_value)\n",
    "print()\n",
    "\n",
    "x_initial, y_initial = 1, 6\n",
    "optimizer(x_initial, y_initial, alfa_value, MAX_ITE_value, cota_error_value)\n",
    "print()\n",
    "\n",
    "x_initial, y_initial = 0.6, 1.3\n",
    "optimizer(x_initial, y_initial, alfa_value, MAX_ITE_value, cota_error_value)\n",
    "print()"
   ]
  },
  {
   "cell_type": "code",
   "execution_count": null,
   "id": "895b33bf-2ed8-4006-89db-5b2f8dc62682",
   "metadata": {},
   "outputs": [],
   "source": []
  }
 ],
 "metadata": {
  "kernelspec": {
   "display_name": "Python 3 (ipykernel)",
   "language": "python",
   "name": "python3"
  },
  "language_info": {
   "codemirror_mode": {
    "name": "ipython",
    "version": 3
   },
   "file_extension": ".py",
   "mimetype": "text/x-python",
   "name": "python",
   "nbconvert_exporter": "python",
   "pygments_lexer": "ipython3",
   "version": "3.11.5"
  }
 },
 "nbformat": 4,
 "nbformat_minor": 5
}
