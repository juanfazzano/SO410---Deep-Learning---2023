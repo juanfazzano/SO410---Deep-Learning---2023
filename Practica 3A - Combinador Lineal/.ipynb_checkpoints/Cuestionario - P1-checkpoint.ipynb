{
 "cells": [
  {
   "cell_type": "code",
   "execution_count": null,
   "id": "3214a203-1797-4c4c-bf1a-f8ee693ffb59",
   "metadata": {},
   "outputs": [],
   "source": [
    "from sympy import symbols, diff\n",
    "\n",
    "x, y = symbols('x y', real=True) \n",
    "\n",
    "f = x / ((2*(x**2)) + (3*(y**2)) + 1)\n",
    "\n",
    "# x=j & y=k\n",
    "\n",
    "def df(x, y):\n",
    "    return x / ((2*(x**2)) + (3*(y**2)) + 1)\n",
    "\n",
    "\n",
    "def df_dx(px, py):\n",
    "    df_dx = diff(f, x)\n",
    "    return df_dx.evalf(subs = { x:px, y:py } )\n",
    "\n",
    "\n",
    "def df_dy(px, py):\n",
    "    df_dy = diff(f, y)\n",
    "    return df_dy.evalf(subs = { x:px, y:py } )\n",
    "\n",
    "f"
   ]
  }
 ],
 "metadata": {
  "kernelspec": {
   "display_name": "Python 3 (ipykernel)",
   "language": "python",
   "name": "python3"
  },
  "language_info": {
   "codemirror_mode": {
    "name": "ipython",
    "version": 3
   },
   "file_extension": ".py",
   "mimetype": "text/x-python",
   "name": "python",
   "nbconvert_exporter": "python",
   "pygments_lexer": "ipython3",
   "version": "3.11.5"
  }
 },
 "nbformat": 4,
 "nbformat_minor": 5
}
