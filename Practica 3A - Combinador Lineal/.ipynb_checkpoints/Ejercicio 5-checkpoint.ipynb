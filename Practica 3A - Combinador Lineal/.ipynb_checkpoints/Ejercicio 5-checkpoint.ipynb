{
 "cells": [
  {
   "cell_type": "markdown",
   "id": "b586d607-cfd9-46b7-9efa-83ca7cee8291",
   "metadata": {},
   "source": [
    "# Ejercicio 5\n",
    "### A partir de las siguientes calificaciones de alumnos de curso, se desea obtener la recta de regresión que permita predecir la nota que un estudiante obtendrá en Física a partir de su calificación obtenida en Matemáticas."
   ]
  },
  {
   "cell_type": "code",
   "execution_count": 85,
   "id": "07e2f6e9-f285-40a6-868a-1bdf43b3eaf7",
   "metadata": {},
   "outputs": [],
   "source": [
    "import numpy as np\n",
    "import matplotlib.pyplot as plt"
   ]
  },
  {
   "cell_type": "code",
   "execution_count": 92,
   "id": "ec281ca8-ec55-45d7-94d0-da86792a616a",
   "metadata": {},
   "outputs": [
    {
     "data": {
      "text/plain": [
       "array([ 2,  3,  4,  4,  5,  6,  6,  7,  7,  8, 10, 10])"
      ]
     },
     "execution_count": 92,
     "metadata": {},
     "output_type": "execute_result"
    }
   ],
   "source": [
    "calificaciones=[\n",
    "    [2, 1],\n",
    "    [3, 3],\n",
    "    [4, 2],\n",
    "    [4, 4],\n",
    "    [5, 4],\n",
    "    [6, 4],\n",
    "    [6, 6],\n",
    "    [7, 4],\n",
    "    [7, 6],\n",
    "    [8, 7],\n",
    "    [10, 9],\n",
    "    [10, 10]\n",
    "]\n",
    "\n",
    "calificaciones = np.array(calificaciones)\n",
    "\n",
    "# Separa las dos columnas en dos arrays diferentes\n",
    "matematica = calificaciones[:, 0]\n",
    "fisica = calificaciones[:, 1]\n",
    "matematica"
   ]
  },
  {
   "cell_type": "markdown",
   "id": "4a626ee5-0d32-4b90-acab-fda9e0e0d867",
   "metadata": {},
   "source": [
    "### a) Calcule la correlación lineal entre estas dos variables y dibuje el diagrama de dispersión correspondiente. ¿La recta de regresión será de utilidad?"
   ]
  },
  {
   "cell_type": "code",
   "execution_count": 87,
   "id": "aea20d80-9079-4c2b-9c89-ee7cd4a565c3",
   "metadata": {},
   "outputs": [
    {
     "name": "stdout",
     "output_type": "stream",
     "text": [
      "Correlación lineal: 0.9355071411331455\n"
     ]
    }
   ],
   "source": [
    "# Calcular la correlación lineal\n",
    "correlacion = np.corrcoef(matematica, fisica)[0, 1]\n",
    "print(f\"Correlación lineal: {correlacion}\")"
   ]
  },
  {
   "cell_type": "code",
   "execution_count": 88,
   "id": "febe0650-a5a7-422a-a341-cb6322cc8f43",
   "metadata": {},
   "outputs": [
    {
     "data": {
      "image/png": "[encoded data removed]",
      "text/plain": [
       "<Figure size 640x480 with 1 Axes>"
      ]
     },
     "metadata": {},
     "output_type": "display_data"
    }
   ],
   "source": [
    "# Crear el gráfico de dispersión\n",
    "plt.scatter(matematica, fisica, marker='o', color='blue', alpha=0.7)\n",
    "\n",
    "# Agregar etiquetas a los ejes\n",
    "plt.xlabel('matematicas')\n",
    "plt.ylabel('fisica')\n",
    "\n",
    "# Agregar un título al gráfico\n",
    "plt.title('Gráfico de Dispersión Lineal')\n",
    "\n",
    "# Mostrar el gráfico\n",
    "plt.grid(True)\n",
    "plt.show()\n"
   ]
  },
  {
   "cell_type": "code",
   "execution_count": 89,
   "id": "816a411f-fb79-4d4a-9806-79f777f3e6ab",
   "metadata": {},
   "outputs": [
    {
     "name": "stdout",
     "output_type": "stream",
     "text": [
      "w = 0.986111111111111\n",
      "b = -0.9166666666666641\n",
      "Si saco 9 en matematicas, va a sacar 7.958333333333336 en fisica\n"
     ]
    }
   ],
   "source": [
    "a, b = np.polyfit(matematica, fisica, 1)\n",
    "\n",
    "print(f\"w = {a}\")\n",
    "print(f\"b = {b}\")\n",
    "\n",
    "# Calcular la nota de fisica esperada para X nota en matematica\n",
    "nota_matematica = 9\n",
    "nota_esperada = a * nota_matematica + b\n",
    "\n",
    "print(f\"Si saco {nota_matematica} en matematicas, va a sacar {nota_esperada} en fisica\")\n"
   ]
  },
  {
   "cell_type": "markdown",
   "id": "e33ed3a4-a3ad-4267-a4aa-305de9b41966",
   "metadata": {},
   "source": [
    "Creo que la recta representa bien la relacion entre los campos de la tabla. Por lo tanto la recta es de utilidad."
   ]
  },
  {
   "cell_type": "markdown",
   "id": "17544356-7684-45bb-9b8c-613999381f85",
   "metadata": {},
   "source": [
    "### b) Indique la ecuación del error cuadrático medio que se debería minimizar si se utilizara la técnica de descenso de gradiente."
   ]
  },
  {
   "cell_type": "code",
   "execution_count": 100,
   "id": "79a068b0-55af-4876-ad6d-4c3a83f44a64",
   "metadata": {},
   "outputs": [
    {
     "name": "stdout",
     "output_type": "stream",
     "text": [
      "Iteración 50/500, ECM: 0.4830138474299844\n",
      "Iteración 100/500, ECM: 0.4742653703397891\n",
      "Iteración 150/500, ECM: 0.4666604844326939\n",
      "Iteración 200/500, ECM: 0.46004970074272517\n",
      "Iteración 250/500, ECM: 0.4543030713350714\n",
      "Iteración 300/500, ECM: 0.44930763492425396\n",
      "Iteración 350/500, ECM: 0.4449651963982398\n",
      "Iteración 400/500, ECM: 0.4411903966006935\n",
      "Iteración 450/500, ECM: 0.43790903442914\n",
      "Iteración 500/500, ECM: 0.4350566082665926\n",
      "w = 0.912352770707108\n",
      "b = -0.40207919667790276\n",
      "ECM: 0.8700070735709882\n"
     ]
    }
   ],
   "source": [
    "\n",
    "X = np.array(matematica)\n",
    "Y = np.array(fisica)\n",
    "\n",
    "# Inicialización de parámetros\n",
    "w = 0  # Pendiente inicial\n",
    "b = 0  # Ordenada al origen inicial\n",
    "alpha = 0.01  # Tasa de aprendizaje\n",
    "MAX_ITE = 500# Número de iteraciones\n",
    "\n",
    "n = len(X)\n",
    "# Listas para almacenar los errores en cada iteración\n",
    "errores = []\n",
    "\n",
    "# Descenso de gradiente\n",
    "for _ in range(MAX_ITE):\n",
    "    # Calcular las predicciones\n",
    "    y_pred = w * X + b\n",
    "    \n",
    "    # Calcular los errores\n",
    "    error = y_pred - Y\n",
    "    \n",
    "    # Calcular el error cuadrático medio (ECM) en esta iteración\n",
    "    ### ECM = Error Cuadratico Medio\n",
    "    ECM = 1/(2*n) * np.sum(error ** 2)\n",
    "    \n",
    "    # Actualizar los parámetros w y b usando las derivadas parciales de la ECM\n",
    "    w -= (1/n) * alpha * np.sum(error * X)\n",
    "    b -= (1/n) * alpha * np.sum(error)\n",
    "    \n",
    "    # Agregar el ECM a la lista de errores\n",
    "    errores.append(ECM)\n",
    "    \n",
    "    # Imprimir el ECM en cada iteración\n",
    "    if (_ + 1) % 50 == 0:\n",
    "        print(f\"Iteración {_ + 1}/{MAX_ITE}, ECM: {ECM}\")\n",
    "\n",
    "# Imprimir los valores finales de w y b\n",
    "print(f\"w = {w}\")\n",
    "print(f\"b = {b}\")\n",
    "ECM = np.mean((fisica - (w * matematica + b))**2)\n",
    "print(f'ECM: {ECM}')"
   ]
  },
  {
   "cell_type": "code",
   "execution_count": null,
   "id": "1f45931a-e5cf-4b93-b9bd-f74fefc88763",
   "metadata": {},
   "outputs": [],
   "source": []
  },
  {
   "cell_type": "code",
   "execution_count": 91,
   "id": "bb9cfbb6-4384-45c3-9df2-d0b80383cb66",
   "metadata": {},
   "outputs": [
    {
     "name": "stdout",
     "output_type": "stream",
     "text": [
      "Mate 7 con la nota con w y b. Fisica =: 7.3999999999999995\n",
      "Mate 7 con la nota con w y b (inventados). Fisica =: 5.984390198271853\n"
     ]
    }
   ],
   "source": [
    "# Valores de los parámetros entrenados\n",
    "w_entrenado = 0.7\n",
    "b_entrenado = 2.5\n",
    "\n",
    "# Función para hacer predicciones\n",
    "def predecir_nota(nota_matematicas, w, b):\n",
    "    return w * nota_matematicas + b\n",
    "\n",
    "nota_mate_new = 7\n",
    "\n",
    "\n",
    "nota_predicha = predecir_nota(nota_mate_new, w_entrenado, b_entrenado)\n",
    "print(f\"Mate {nuevo_valor_horas_estudio} con la nota con w y b. Fisica =: {nota_predicha}\")\n",
    "\n",
    "nota_predicha = predecir_nota(nota_mate_new, w, b)\n",
    "print(f\"Mate {nuevo_valor_horas_estudio} con la nota con w y b (inventados). Fisica =: {nota_predicha}\")\n",
    "\n"
   ]
  },
  {
   "cell_type": "markdown",
   "id": "e99c78b3-f7e2-4793-b0d9-1310051effa5",
   "metadata": {},
   "source": [
    "### c) Indique la ecuación de error que se minimiza al utilizar la técnica de descenso de gradiente estocástico. ¿qué ventaja tiene su uso con respecto a la ecuación indicada en b)?"
   ]
  },
  {
   "cell_type": "markdown",
   "id": "1d24c284-f122-4189-89ee-4bfe4e6aa08e",
   "metadata": {},
   "source": [
    "Cuando se utiliza la técnica de descenso de gradiente estocástico (SGD, por sus siglas en inglés), se minimiza una versión estocástica de la ecuación de error cuadrático medio (ECM) que se mencionó en la pregunta anterior. La ventaja principal de SGD con respecto a la ECM completa es que es más eficiente computacionalmente, especialmente en conjuntos de datos grandes."
   ]
  },
  {
   "cell_type": "markdown",
   "id": "db5eacd5-3b85-4a40-be40-c13129ae64cf",
   "metadata": {},
   "source": [
    "## ECM = https://www.youtube.com/watch?v=ymPVk1DNUzM\n",
    "## SGD = https://www.youtube.com/watch?v=3_6t07JljPM"
   ]
  },
  {
   "cell_type": "markdown",
   "id": "efc2ab5f-b52c-4399-9fa4-6af9eb60876b",
   "metadata": {},
   "source": [
    "###  d) Utilice la técnica de descenso de gradiente estocástico para obtener los coeficientes de la recta de regresión que permita predecir la nota que un estudiante obtendrá en Física a partir de su calificación obtenida en Matemáticas."
   ]
  },
  {
   "cell_type": "code",
   "execution_count": 105,
   "id": "3badf208-4941-4dd6-b59b-c8d2be7766d6",
   "metadata": {},
   "outputs": [
    {
     "name": "stdout",
     "output_type": "stream",
     "text": [
      "Valor óptimo de w: 0.8497010772553725\n",
      "Valor óptimo de b: -1.042893795408813\n",
      "ECM: 1.836256264953156\n"
     ]
    }
   ],
   "source": [
    "# Hiperparámetros\n",
    "alpha = 0.01  # Tasa de aprendizaje\n",
    "MAX_ITE = 1000  # Número máximo de iteraciones\n",
    "\n",
    "# Inicializa los parámetros del modelo (w y b)\n",
    "w = 0\n",
    "b = 0\n",
    "\n",
    "# Descenso de gradiente estocástico\n",
    "for ite in range(MAX_ITE):\n",
    "    for i in range(len(calificaciones)):\n",
    "        # Selecciona un ejemplo de entrenamiento al azar\n",
    "        random_index = np.random.randint(len(calificaciones))\n",
    "        xi = matematica[random_index]\n",
    "        yi = fisica[random_index]\n",
    "        \n",
    "        # Predicción del modelo\n",
    "        y_pred = w * xi + b\n",
    "        \n",
    "        # Cálculo del error\n",
    "        error = yi - y_pred\n",
    "        \n",
    "        # Actualiza los parámetros utilizando el gradiente\n",
    "        w += alpha * error * xi\n",
    "        b += alpha * error\n",
    "\n",
    "# Calcula el MSE\n",
    "ECM = np.mean((fisica - (w * matematica + b))**2)\n",
    "print(\"Valor óptimo de w:\", w)\n",
    "print(\"Valor óptimo de b:\", b)\n",
    "print(\"ECM:\", ECM)\n"
   ]
  },
  {
   "cell_type": "markdown",
   "id": "01eaee98-7dc6-423b-8e58-d0b6e47cf951",
   "metadata": {},
   "source": [
    "El Error Cuadrático Medio (ECM) es una métrica utilizada para evaluar el rendimiento de un modelo de regresión. En este contexto, el ECM representa la calidad de las predicciones del modelo en relación con los valores reales. Cuanto menor sea el valor del ECM, mejor será el rendimiento del modelo.\n",
    "\n",
    "El valor del ECM que obtuviste, que es aproximadamente 0.8700070735709882, indica que las predicciones de tu modelo tienen un error cuadrático medio promedio de alrededor de 0.87 en relación con las calificaciones reales de Física en tu conjunto de datos. En otras palabras, el modelo tiende a cometer errores en la predicción de las calificaciones de Física, y el error promedio cuadrático de estas predicciones es de aproximadamente 0.87.\n",
    "\n",
    "Para interpretar el valor del ECM de manera más específica, es útil compararlo con otros modelos o establecer un contexto específico para determinar si es aceptable o no. En general, un valor de ECM más bajo indica un mejor ajuste del modelo a los datos, pero la interpretación específica depende del dominio del problema y de las expectativas del rendimiento del modelo."
   ]
  },
  {
   "cell_type": "markdown",
   "id": "5ebb6e2c-4ac3-4b6d-9424-3fa39e3f1ed4",
   "metadata": {},
   "source": [
    "### e) Utilice la recta obtenida en d) para predecir la calificación que obtendrá en Física un estudiante que obtuvo un 9 en el examen de matemáticas."
   ]
  },
  {
   "cell_type": "code",
   "execution_count": 106,
   "id": "748b62d1-9da6-45df-aea9-a99d64b41531",
   "metadata": {},
   "outputs": [
    {
     "name": "stdout",
     "output_type": "stream",
     "text": [
      "La calificación predicha en Física es: 6.604415899889539\n"
     ]
    }
   ],
   "source": [
    "# Valores óptimos de los coeficientes obtenidos previamente\n",
    "w_test = 0.65\n",
    "b_test = 0.85\n",
    "\n",
    "# Calificación en Matemáticas del estudiante\n",
    "calificacion_matematicas = 9\n",
    "\n",
    "# Calcula la calificación predicha en Física\n",
    "calificacion_predicha_fisica = w * calificacion_matematicas + b\n",
    "\n",
    "print(\"La calificación predicha en Física es:\", calificacion_predicha_fisica)\n"
   ]
  },
  {
   "cell_type": "code",
   "execution_count": null,
   "id": "60307214-fc07-4482-ae42-1ff32999218c",
   "metadata": {},
   "outputs": [],
   "source": []
  }
 ],
 "metadata": {
  "kernelspec": {
   "display_name": "Python 3 (ipykernel)",
   "language": "python",
   "name": "python3"
  },
  "language_info": {
   "codemirror_mode": {
    "name": "ipython",
    "version": 3
   },
   "file_extension": ".py",
   "mimetype": "text/x-python",
   "name": "python",
   "nbconvert_exporter": "python",
   "pygments_lexer": "ipython3",
   "version": "3.11.5"
  }
 },
 "nbformat": 4,
 "nbformat_minor": 5
}
