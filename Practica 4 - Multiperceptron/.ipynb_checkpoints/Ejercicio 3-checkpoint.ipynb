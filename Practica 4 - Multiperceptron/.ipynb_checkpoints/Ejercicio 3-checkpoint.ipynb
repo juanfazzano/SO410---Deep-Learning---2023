{
 "cells": [
  {
   "cell_type": "markdown",
   "id": "9eb55c95-7bf0-4460-b599-b3ccec30aa54",
   "metadata": {},
   "source": [
    "# Ejercicio 3\n",
    "\n",
    "El archivo Vinos.csv tiene información referida a 13 características químicas y/o visuales de varias muestras de vinos pertenecientes a 3 clases distintas.\n",
    "\n",
    "Utilice el 80% de los ejemplos del archivo Vinos.csv para entrenar un multiperceptrón que sea capaz que distinguir entre las 3 clases de vinos. Observe la tasa de acierto obtenida sobre el 20% restante.\n",
    "\n",
    "Fuente de datos: Wine Data Set - https://archive.ics.uci.edu/ml/datasets/wine"
   ]
  },
  {
   "cell_type": "code",
   "execution_count": 1,
   "id": "99403898-e491-4038-b8a3-dd3a8c04152b",
   "metadata": {},
   "outputs": [],
   "source": [
    "import pandas as pd      # para trabajar con archivos de datos csv, excel, etc: https://pandas.pydata.org/docs/getting_started/tutorials.html\n",
    "import chardet           # para detectar la codificación de texto en archivos\n",
    "import numpy as np\n",
    "\n",
    "from sklearn import preprocessing, model_selection\n",
    "from sklearn.neural_network import MLPClassifier\n",
    "from matplotlib import pyplot as plt"
   ]
  },
  {
   "cell_type": "code",
   "execution_count": 2,
   "id": "394e2388-5ed0-43b8-9083-d557b41cb3f2",
   "metadata": {},
   "outputs": [],
   "source": [
    "def open_file(path, delimiter=';'):\n",
    "    # Detectar la codificación del archivo\n",
    "    with open(path, 'rb') as file:\n",
    "        encoding = chardet.detect(file.read())['encoding']\n",
    "    \n",
    "    # Leer el archivo CSV usando el delimitador correcto\n",
    "    df = pd.read_csv(path, encoding=encoding, delimiter=delimiter)\n",
    "    \n",
    "    return df\n",
    "\n",
    "df = open_file(\"../Datos/Vinos.csv\")\n",
    "# df = df.select_dtypes(include=np.number)\n",
    "# df"
   ]
  },
  {
   "cell_type": "code",
   "execution_count": 10,
   "id": "2f662dff-e3be-47a4-837a-084037ea3a84",
   "metadata": {},
   "outputs": [],
   "source": [
    "# %% separa atributos y clases\n",
    "X_raw = np.array(df.iloc[:,1:])  # recupera todas las columnas salvo la primera (es la clase)\n",
    "Y_raw = np.array(df.iloc[:,0:1])    # recupera solo la última columna (es la clase)\n",
    "binarizer = preprocessing.LabelBinarizer()\n",
    "Y_raw = binarizer.fit_transform(Y_raw)"
   ]
  },
  {
   "cell_type": "code",
   "execution_count": 11,
   "id": "966f09d5-9646-4550-87c1-5f18fa575fe2",
   "metadata": {},
   "outputs": [
    {
     "name": "stdout",
     "output_type": "stream",
     "text": [
      "\n",
      "Datos de Entrenamiento: 142   Datos de Testeo: 36\n"
     ]
    }
   ],
   "source": [
    "\n",
    "scaler = preprocessing.StandardScaler()\n",
    "X_raw  = scaler.fit_transform(X_raw)\n",
    "\n",
    "# %% Separa ejemplos para enternamiento y testeo\n",
    "\n",
    "TEST_SIZE = 0.2# proporcion entre testeo entre entrenamiento y testeo\n",
    "X_train, X_test, Y_train, Y_test = model_selection.train_test_split(X_raw, Y_raw, test_size=TEST_SIZE)#, random_state=42)\n",
    "\n",
    "print('\\nDatos de Entrenamiento: %d   Datos de Testeo: %d' % (len(Y_train), len(Y_test) ))"
   ]
  },
  {
   "cell_type": "code",
   "execution_count": 16,
   "id": "0db48bbf-9bad-4d68-96e3-2f462610345b",
   "metadata": {},
   "outputs": [
    {
     "name": "stderr",
     "output_type": "stream",
     "text": [
      "/usr/lib/python3.11/site-packages/sklearn/neural_network/_multilayer_perceptron.py:691: ConvergenceWarning: Stochastic Optimizer: Maximum iterations (2500) reached and the optimization hasn't converged yet.\n",
      "  warnings.warn(\n"
     ]
    }
   ],
   "source": [
    "FunH = 'relu'   # identity logistic tanh relu\n",
    "ocultas = (8)\n",
    "\n",
    "alfa = 0.005\n",
    "CotaError = 1.0e-5\n",
    "MAX_ITE = 2500\n",
    "\n",
    "modelo = MLPClassifier(max_iter=MAX_ITE, hidden_layer_sizes=ocultas, alpha=alfa,\n",
    "                           solver='sgd', activation=FunH, tol=CotaError,\n",
    "                       verbose=False).fit(X_train, Y_train)\n",
    "\n",
    "modelo.out_activation_ = 'softmax'\n",
    "\n",
    "#  ########### Medición del entrenamiento ######################\n",
    "Y_pred = modelo.predict(X_train)\n",
    "score = modelo.score(X_train, Y_train)\n"
   ]
  },
  {
   "cell_type": "code",
   "execution_count": 17,
   "id": "e21aff5b-f44b-4da8-a174-f88013c5135e",
   "metadata": {},
   "outputs": [
    {
     "name": "stdout",
     "output_type": "stream",
     "text": [
      "Efectividad:  97.89%\n",
      "Score:   0.98%\n"
     ]
    }
   ],
   "source": [
    "# \"invierte\" la transformacion binaria para obtener los nombres de las clases\n",
    "Y_it = binarizer.inverse_transform(Y_train)\n",
    "Y_pred_it = binarizer.inverse_transform(Y_pred)\n",
    "\n",
    "comparacion = (Y_pred == Y_train)\n",
    "# Contar la cantidad de filas con todos los valores = True\n",
    "comparacion = np.all(comparacion, axis=1)\n",
    "# Calcular la cantidad de filas con todos los valores = True\n",
    "comparacion = np.sum(comparacion)\n",
    "\n",
    "# calculo manual del accuracy\n",
    "print('Efectividad: %6.2f%%' % (100*(comparacion).sum()/len(Y_it)) )\n",
    "print('Score: %6.2f%%' % (score) )"
   ]
  },
  {
   "cell_type": "code",
   "execution_count": null,
   "id": "ebc398c6-c02c-4986-849a-9d858c666cbf",
   "metadata": {},
   "outputs": [],
   "source": []
  },
  {
   "cell_type": "code",
   "execution_count": null,
   "id": "71042730-1cca-4533-8eba-0afb9a1ca1c9",
   "metadata": {},
   "outputs": [],
   "source": []
  }
 ],
 "metadata": {
  "kernelspec": {
   "display_name": "Python 3 (ipykernel)",
   "language": "python",
   "name": "python3"
  },
  "language_info": {
   "codemirror_mode": {
    "name": "ipython",
    "version": 3
   },
   "file_extension": ".py",
   "mimetype": "text/x-python",
   "name": "python",
   "nbconvert_exporter": "python",
   "pygments_lexer": "ipython3",
   "version": "3.11.5"
  }
 },
 "nbformat": 4,
 "nbformat_minor": 5
}
