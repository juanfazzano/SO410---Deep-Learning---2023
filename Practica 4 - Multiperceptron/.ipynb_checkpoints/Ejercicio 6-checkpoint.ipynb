{
 "cells": [
  {
   "cell_type": "markdown",
   "id": "05e6b333-9d57-4901-b79b-42bb89878352",
   "metadata": {},
   "source": [
    "# Ejercicio 6\n",
    "Los archivos Segment_Train.csv y Segment_Test.csv contienen información referida a regiones de 3x3 pixeles pertenecientes a 7 imágenes distintas. Cada una corresponde a uno de los siguientes tipos de superficie: ladrillo, cielo, follaje, cemento, ventana, camino y pasto.\n",
    "\n",
    "Cada región de 3x3 ha sido caracterizada por 19 atributos numéricos:\n",
    "1. region-centroid-col: la columna del pixel central de la región.\n",
    "2. region-centroid-row: la fila del pixel central de la región.\n",
    "3. region-pixel-count: el número de pixeles de la región = 9.\n",
    "4. short-line-density-5: el resultado de un algoritmo de extracción de líneas que cuenta la\n",
    "cantidad de líneas de bajo contraste que atraviesan la región.\n",
    "5. short-line-density-2: ídem anterior para líneas de alto contraste.\n",
    "6. vedge-mean: medida del contraste entre pixeles adyacentes. Este atributo contiene el valor\n",
    "promedio y el siguiente la desviación. Estas medidas sirven para detectar la presencia de un eje\n",
    "vertical.\n",
    "7. vegde-sd: (ver 6)\n",
    "8. hedge-mean: ídem 6 para eje horizontal. Contiene el valor medio y el siguiente la desviación.\n",
    "9. hedge-sd: (ver 8).\n",
    "10. intensity-mean: El promedio calculado sobre la región de la forma (R + G + B)/3\n",
    "11. rawred-mean: el promedio sobre la región de los valores R.\n",
    "12. rawblue-mean: el promedio sobre la región de los valores B.\n",
    "13. rawgreen-mean: el promedio sobre la región de los valores G.\n",
    "14. exred-mean: Medida de exceso de color rojo: (2R - (G + B))\n",
    "15. exblue-mean: Medida de exceso de color azul: (2B - (G + R))\n",
    "16. exgreen-mean: Medida de exceso de color verde: (2G - (R + B))\n",
    "17. value-mean: Transformación no lineal 3D de RGB.\n",
    "18. saturatoin-mean: (ver 17)\n",
    "19. hue-mean: ver 17)\n",
    "20. El atributo 20 corresponde al número de imagen de la cual fue extraída la región de 3x3. Sus valores son: 1 (ladrillo), 2 (cemento), 3(follaje), 4 (pasto), 5 (camino), 6 (cielo), 7 (ventana).\n",
    "\n",
    "Entrene una red neuronal multiperceptrón para que dada una región de 3x3, representada a través de los 19 atributos indicados anteriormente, sea capaz de identificar a cuál de las 7 imágenes corresponde.\n",
    "Utilice los ejemplos del archivo Segment_Train.csv para entrenar y los del archivo Segment_Test.csv para realizar el testeo.\n",
    "\n",
    "Realice al menos 10 ejecuciones independientes de la configuración seleccionada para respaldar sus afirmaciones referidas a la performance del modelo. \n",
    "Fuente: Image Segmentation Data Set: https://archive.ics.uci.edu/ml/datasets/Image+Segmentation"
   ]
  },
  {
   "cell_type": "code",
   "execution_count": 110,
   "id": "e2753202-427e-404a-84ed-11268df97c5d",
   "metadata": {},
   "outputs": [],
   "source": [
    "import pandas as pd      # para trabajar con archivos de datos csv, excel, etc: https://pandas.pydata.org/docs/getting_started/tutorials.html\n",
    "import chardet           # para detectar la codificación de texto en archivos\n",
    "import numpy as np\n",
    "\n",
    "from sklearn import preprocessing, model_selection\n",
    "from sklearn.neural_network import MLPClassifier\n",
    "from matplotlib import pyplot as plt"
   ]
  },
  {
   "cell_type": "code",
   "execution_count": 111,
   "id": "6ecc8a09-6ee5-4d50-9fdc-a8e7fec54bb0",
   "metadata": {},
   "outputs": [],
   "source": [
    "def open_file(path, delimiter=','):\n",
    "    # Detectar la codificación del archivo\n",
    "    with open(path, 'rb') as file:\n",
    "        encoding = chardet.detect(file.read())['encoding']\n",
    "    \n",
    "    # Leer el archivo CSV usando el delimitador correcto\n",
    "    df = pd.read_csv(path, encoding=encoding, delimiter=delimiter)\n",
    "    \n",
    "    return df\n",
    "\n",
    "df_train = open_file(\"../Datos/Segment_Train_Juan.csv\")\n",
    "df_test = open_file(\"../Datos/Segment_Test_Juan.csv\")\n"
   ]
  },
  {
   "cell_type": "markdown",
   "id": "65522bf5-4a37-4c9a-a11b-6181f66f95b5",
   "metadata": {},
   "source": [
    "## TRAIN"
   ]
  },
  {
   "cell_type": "code",
   "execution_count": 112,
   "id": "6f52f1e7-c4bc-42fb-ba78-95bc7666c7d9",
   "metadata": {},
   "outputs": [],
   "source": [
    "### Y train\n",
    "Y_train = np.array(df_train.iloc[:,0]) # 1ro \n",
    "binarizer = preprocessing.LabelBinarizer()\n",
    "Y_train = binarizer.fit_transform(Y_train)\n",
    "\n",
    "### X train\n",
    "X_train = np.array(df_train.iloc[:,1:]) # - 1ro \n",
    "scaler = preprocessing.StandardScaler()\n",
    "X_train  = scaler.fit_transform( X_train )"
   ]
  },
  {
   "cell_type": "markdown",
   "id": "da4bfcb4-5c58-4a1f-a688-e9d054827c85",
   "metadata": {},
   "source": [
    "## TEST"
   ]
  },
  {
   "cell_type": "code",
   "execution_count": 113,
   "id": "2dffd87a-4c9b-45ab-a286-7419503a405e",
   "metadata": {},
   "outputs": [],
   "source": [
    "Y_test = np.array(df_test.iloc[:,0]) # 1ro \n",
    "Y_test = binarizer.transform(Y_test)\n",
    "\n",
    "X_test = np.array(df_test.iloc[:,1:]) # - 1ro \n",
    "X_test  = scaler.transform( X_test )\n"
   ]
  },
  {
   "cell_type": "code",
   "execution_count": 114,
   "id": "9a8b4d02-5c14-49ab-93ef-48f3ca645ad7",
   "metadata": {},
   "outputs": [],
   "source": [
    "FunH = 'identity'   # identity logistic tanh relu\n",
    "ocultas = (6)\n",
    "\n",
    "alfa = 0.001\n",
    "MAX_ITE = 2000\n",
    "\n",
    "modelo = MLPClassifier(max_iter=MAX_ITE, hidden_layer_sizes=ocultas, alpha=alfa,\n",
    "                       solver='sgd', activation=FunH, tol=0.001,\n",
    "                       verbose=False).fit(X_train, Y_train)\n",
    "\n",
    "modelo.out_activation_ = 'softmax'\n"
   ]
  },
  {
   "cell_type": "code",
   "execution_count": 119,
   "id": "a6f532de-2570-485f-874d-1f04974c8fa1",
   "metadata": {
    "scrolled": true
   },
   "outputs": [],
   "source": [
    "X_test = np.array(df_test.iloc[:,1:]) # - 1ro \n",
    "\n",
    "scaler = preprocessing.StandardScaler()\n",
    "X_test  = scaler.fit_transform( X_test )"
   ]
  },
  {
   "cell_type": "markdown",
   "id": "1878cb88-a5e4-4e2e-8b01-587013be23bf",
   "metadata": {},
   "source": [
    "## MLPClassifier"
   ]
  },
  {
   "cell_type": "code",
   "execution_count": 116,
   "id": "78f004f5-17e5-40f9-b705-4f77fb79af57",
   "metadata": {},
   "outputs": [],
   "source": [
    "FunH = 'identity'   # identity logistic tanh relu\n",
    "ocultas = (6)\n",
    "\n",
    "alfa = 0.001\n",
    "MAX_ITE = 100000\n",
    "\n",
    "modelo = MLPClassifier(max_iter=MAX_ITE, hidden_layer_sizes=ocultas, alpha=alfa,\n",
    "                       solver='sgd', activation=FunH, tol=0.001,\n",
    "                       verbose=False).fit(X_train, Y_train)\n",
    "\n",
    "modelo.out_activation_ = 'softmax'\n"
   ]
  },
  {
   "cell_type": "code",
   "execution_count": 117,
   "id": "4e980d0b-8159-4d40-826a-020060332b86",
   "metadata": {},
   "outputs": [],
   "source": [
    "Y_pred = modelo.predict(X_train)\n",
    "score = modelo.score(X_train, Y_train)\n",
    "Y_it = binarizer.inverse_transform(Y_train)\n",
    "Y_pred_it = binarizer.inverse_transform(Y_pred)"
   ]
  },
  {
   "cell_type": "code",
   "execution_count": 118,
   "id": "4d3a0a01-7124-49fa-95c5-af44085ee67f",
   "metadata": {},
   "outputs": [
    {
     "name": "stdout",
     "output_type": "stream",
     "text": [
      "Efectividad:  77.62%\n",
      "Score:   0.74%\n"
     ]
    },
    {
     "data": {
      "text/plain": [
       "[<matplotlib.lines.Line2D at 0x7f24856422d0>]"
      ]
     },
     "execution_count": 118,
     "metadata": {},
     "output_type": "execute_result"
    },
    {
     "data": {
      "image/png": "[encoded data removed]",
      "text/plain": [
       "<Figure size 640x480 with 1 Axes>"
      ]
     },
     "metadata": {},
     "output_type": "display_data"
    }
   ],
   "source": [
    "print('Efectividad: %6.2f%%' % (100*(Y_pred_it == Y_it).sum()/len(Y_it)) )\n",
    "print('Score: %6.2f%%' % (score) )\n",
    "\n",
    "plt.plot(modelo.loss_curve_)"
   ]
  },
  {
   "cell_type": "markdown",
   "id": "5a8d31df-98f8-4438-b878-3e34fde807be",
   "metadata": {},
   "source": [
    "## Medición del testeo"
   ]
  },
  {
   "cell_type": "code",
   "execution_count": 120,
   "id": "3caead9c-f9ec-4bd2-8853-37db34efaa01",
   "metadata": {},
   "outputs": [
    {
     "name": "stdout",
     "output_type": "stream",
     "text": [
      "Efectividad:  73.33%\n",
      "      Score:   0.71%\n"
     ]
    }
   ],
   "source": [
    "#  ########### Medición del testeo ######################\n",
    "Y_pred = modelo.predict(X_test)\n",
    "score = modelo.score(X_test, Y_test)\n",
    "\n",
    "# \"invierte\" la transformacion binaria para obtener los nombres de las clases\n",
    "Y_it = binarizer.inverse_transform(Y_test)\n",
    "Y_pred_it = binarizer.inverse_transform(Y_pred)\n",
    "\n",
    "# calculo manual del accuracy\n",
    "print('Efectividad: %6.2f%%' % (100*(Y_pred_it == Y_it).sum()/len(Y_it)) )\n",
    "print('      Score: %6.2f%%' % (score) )"
   ]
  },
  {
   "cell_type": "code",
   "execution_count": null,
   "id": "ad345b6f-d686-45bb-a2bc-7823b57ceca5",
   "metadata": {},
   "outputs": [],
   "source": []
  }
 ],
 "metadata": {
  "kernelspec": {
   "display_name": "Python 3 (ipykernel)",
   "language": "python",
   "name": "python3"
  },
  "language_info": {
   "codemirror_mode": {
    "name": "ipython",
    "version": 3
   },
   "file_extension": ".py",
   "mimetype": "text/x-python",
   "name": "python",
   "nbconvert_exporter": "python",
   "pygments_lexer": "ipython3",
   "version": "3.11.5"
  }
 },
 "nbformat": 4,
 "nbformat_minor": 5
}
