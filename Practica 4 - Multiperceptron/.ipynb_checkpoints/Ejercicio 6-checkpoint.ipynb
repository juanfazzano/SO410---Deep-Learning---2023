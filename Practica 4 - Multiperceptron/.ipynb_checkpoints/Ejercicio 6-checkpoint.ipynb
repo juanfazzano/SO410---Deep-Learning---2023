{
 "cells": [
  {
   "cell_type": "markdown",
   "id": "05e6b333-9d57-4901-b79b-42bb89878352",
   "metadata": {},
   "source": [
    "# Ejercicio 6\n",
    "Los archivos Segment_Train.csv y Segment_Test.csv contienen información referida a regiones de 3x3 pixeles pertenecientes a 7 imágenes distintas. Cada una corresponde a uno de los siguientes tipos de superficie: ladrillo, cielo, follaje, cemento, ventana, camino y pasto.\n",
    "\n",
    "Cada región de 3x3 ha sido caracterizada por 19 atributos numéricos:\n",
    "1. region-centroid-col: la columna del pixel central de la región.\n",
    "2. region-centroid-row: la fila del pixel central de la región.\n",
    "3. region-pixel-count: el número de pixeles de la región = 9.\n",
    "4. short-line-density-5: el resultado de un algoritmo de extracción de líneas que cuenta la\n",
    "cantidad de líneas de bajo contraste que atraviesan la región.\n",
    "5. short-line-density-2: ídem anterior para líneas de alto contraste.\n",
    "6. vedge-mean: medida del contraste entre pixeles adyacentes. Este atributo contiene el valor\n",
    "promedio y el siguiente la desviación. Estas medidas sirven para detectar la presencia de un eje\n",
    "vertical.\n",
    "7. vegde-sd: (ver 6)\n",
    "8. hedge-mean: ídem 6 para eje horizontal. Contiene el valor medio y el siguiente la desviación.\n",
    "9. hedge-sd: (ver 8).\n",
    "10. intensity-mean: El promedio calculado sobre la región de la forma (R + G + B)/3\n",
    "11. rawred-mean: el promedio sobre la región de los valores R.\n",
    "12. rawblue-mean: el promedio sobre la región de los valores B.\n",
    "13. rawgreen-mean: el promedio sobre la región de los valores G.\n",
    "14. exred-mean: Medida de exceso de color rojo: (2R - (G + B))\n",
    "15. exblue-mean: Medida de exceso de color azul: (2B - (G + R))\n",
    "16. exgreen-mean: Medida de exceso de color verde: (2G - (R + B))\n",
    "17. value-mean: Transformación no lineal 3D de RGB.\n",
    "18. saturatoin-mean: (ver 17)\n",
    "19. hue-mean: ver 17)\n",
    "20. El atributo 20 corresponde al número de imagen de la cual fue extraída la región de 3x3. Sus valores son: 1 (ladrillo), 2 (cemento), 3(follaje), 4 (pasto), 5 (camino), 6 (cielo), 7 (ventana).\n",
    "\n",
    "Entrene una red neuronal multiperceptrón para que dada una región de 3x3, representada a través de los 19 atributos indicados anteriormente, sea capaz de identificar a cuál de las 7 imágenes corresponde.\n",
    "Utilice los ejemplos del archivo Segment_Train.csv para entrenar y los del archivo Segment_Test.csv para realizar el testeo.\n",
    "\n",
    "Realice al menos 10 ejecuciones independientes de la configuración seleccionada para respaldar sus afirmaciones referidas a la performance del modelo. \n",
    "\n",
    "Fuente: Image Segmentation Data Set: https://archive.ics.uci.edu/ml/datasets/Image+Segmentation"
   ]
  },
  {
   "cell_type": "code",
   "execution_count": null,
   "id": "e2753202-427e-404a-84ed-11268df97c5d",
   "metadata": {},
   "outputs": [],
   "source": []
  }
 ],
 "metadata": {
  "kernelspec": {
   "display_name": "Python 3 (ipykernel)",
   "language": "python",
   "name": "python3"
  },
  "language_info": {
   "codemirror_mode": {
    "name": "ipython",
    "version": 3
   },
   "file_extension": ".py",
   "mimetype": "text/x-python",
   "name": "python",
   "nbconvert_exporter": "python",
   "pygments_lexer": "ipython3",
   "version": "3.11.5"
  }
 },
 "nbformat": 4,
 "nbformat_minor": 5
}
