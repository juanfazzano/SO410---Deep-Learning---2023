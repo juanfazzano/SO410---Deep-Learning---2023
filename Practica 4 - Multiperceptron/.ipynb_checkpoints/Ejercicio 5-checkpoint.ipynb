{
 "cells": [
  {
   "cell_type": "markdown",
   "id": "e9adb11d-b7e8-4108-9ea6-3df8939ce91a",
   "metadata": {},
   "source": [
    "# Ejercicio 5\n",
    "El archivo ZOO.csv contiene información de 101 animales caracterizados por los siguientes atributos\n",
    "1. Nombre del animal\n",
    "2. Tiene Pelo\n",
    "3. Plumas\n",
    "4. Huevos\n",
    "5. Leche\n",
    "6. Vuela\n",
    "7. Acuático\n",
    "8. Depredador\n",
    "9. Dentado\n",
    "10. Vertebrado\n",
    "11. Branquias\n",
    "12. Venenoso\n",
    "13. Aletas\n",
    "14. Patas\n",
    "15. Cola\n",
    "16. Domestico\n",
    "17. Tamaño gato\n",
    "18. Clase\n",
    "\n",
    "\n",
    "Salvo los atributos 1 y 18 que contienen texto y el 14 que contiene el número de patas del animal, el resto toma el valor 1 si el animal posee la característica y 0 si no. Hay 7 valores de clase posible (atributo 18):\n",
    "mamífero, ave, pez, invertebrado, insecto, reptil y anfibio.\n",
    "\n",
    "Entrene un multiperceptrón que sea capaz de clasificar un animal en una de las 7 clases. Utilice el 70% de los ejemplos para  ntrenar y el 30% para realizar el testeo. Realice al menos 10 ejecuciones independientes de la configuración seleccionada para respaldar sus afirmaciones referidas a la performance del modelo.\n",
    "Fuente de Datos: Zoo Data Set - https://archive.ics.uci.edu/ml/datasets/zoo"
   ]
  },
  {
   "cell_type": "code",
   "execution_count": 20,
   "id": "0d6331c9-1147-4909-ba7c-0ff1e352ec40",
   "metadata": {},
   "outputs": [],
   "source": [
    "import pandas as pd      # para trabajar con archivos de datos csv, excel, etc: https://pandas.pydata.org/docs/getting_started/tutorials.html\n",
    "import chardet           # para detectar la codificación de texto en archivos\n",
    "import numpy as np\n",
    "\n",
    "from sklearn import preprocessing, model_selection\n",
    "from sklearn.neural_network import MLPClassifier\n",
    "from matplotlib import pyplot as plt"
   ]
  },
  {
   "cell_type": "code",
   "execution_count": 21,
   "id": "3827a37c-9b05-41de-9ab0-c435670d8bdc",
   "metadata": {},
   "outputs": [],
   "source": [
    "def open_file(path, delimiter=','):\n",
    "    # Detectar la codificación del archivo\n",
    "    with open(path, 'rb') as file:\n",
    "        encoding = chardet.detect(file.read())['encoding']\n",
    "    \n",
    "    # Leer el archivo CSV usando el delimitador correcto\n",
    "    df = pd.read_csv(path, encoding=encoding, delimiter=delimiter)\n",
    "    \n",
    "    return df\n",
    "\n",
    "df = open_file(\"../Datos/zoo.csv\")\n",
    "# df"
   ]
  },
  {
   "cell_type": "code",
   "execution_count": 65,
   "id": "3930731d-d47f-49eb-bdc9-2fd9611c107f",
   "metadata": {},
   "outputs": [
    {
     "data": {
      "text/plain": [
       "array([[1, 0, 0, ..., 0, 0, 1],\n",
       "       [1, 0, 0, ..., 1, 0, 1],\n",
       "       [0, 0, 1, ..., 1, 0, 0],\n",
       "       ...,\n",
       "       [1, 0, 0, ..., 1, 0, 1],\n",
       "       [0, 0, 1, ..., 0, 0, 0],\n",
       "       [0, 1, 1, ..., 1, 0, 0]])"
      ]
     },
     "execution_count": 65,
     "metadata": {},
     "output_type": "execute_result"
    }
   ],
   "source": [
    "Y_raw = np.array(df.iloc[:,0:1])\n",
    "Y_raw = [e[0] for e in Y_raw]\n",
    "X_raw = np.array(df.select_dtypes(include=np.number))\n",
    "X_raw"
   ]
  },
  {
   "cell_type": "code",
   "execution_count": 66,
   "id": "28481635-7ef2-4391-9539-c92b236f0b97",
   "metadata": {},
   "outputs": [
    {
     "data": {
      "text/plain": [
       "array([[0, 0, 0, ..., 0, 0, 0],\n",
       "       [0, 0, 1, ..., 0, 0, 0],\n",
       "       [0, 0, 0, ..., 0, 0, 0],\n",
       "       ...,\n",
       "       [0, 0, 0, ..., 0, 0, 0],\n",
       "       [0, 0, 0, ..., 0, 0, 0],\n",
       "       [0, 0, 0, ..., 0, 0, 0]])"
      ]
     },
     "execution_count": 66,
     "metadata": {},
     "output_type": "execute_result"
    }
   ],
   "source": [
    "binarizer = preprocessing.LabelBinarizer()\n",
    "Y_raw = binarizer.fit_transform(Y_raw)\n",
    "Y_raw"
   ]
  },
  {
   "cell_type": "code",
   "execution_count": 55,
   "id": "8f564d81-2b45-40da-be5d-457dbe4329e3",
   "metadata": {},
   "outputs": [
    {
     "data": {
      "text/plain": [
       "array([[ 1.16139451, -0.49690399, -1.18522652, ..., -1.69841555,\n",
       "        -0.38435306,  1.13818037],\n",
       "       [ 1.16139451, -0.49690399, -1.18522652, ...,  0.58878406,\n",
       "        -0.38435306,  1.13818037],\n",
       "       [-0.86103386, -0.49690399,  0.84372057, ...,  0.58878406,\n",
       "        -0.38435306, -0.87859537],\n",
       "       ...,\n",
       "       [ 1.16139451, -0.49690399, -1.18522652, ...,  0.58878406,\n",
       "        -0.38435306,  1.13818037],\n",
       "       [-0.86103386, -0.49690399,  0.84372057, ..., -1.69841555,\n",
       "        -0.38435306, -0.87859537],\n",
       "       [-0.86103386,  2.01246118,  0.84372057, ...,  0.58878406,\n",
       "        -0.38435306, -0.87859537]])"
      ]
     },
     "execution_count": 55,
     "metadata": {},
     "output_type": "execute_result"
    }
   ],
   "source": [
    "scaler = preprocessing.StandardScaler()\n",
    "X_raw  = scaler.fit_transform( X_raw )\n",
    "X_raw"
   ]
  },
  {
   "cell_type": "code",
   "execution_count": 56,
   "id": "460a9605-16ad-4cb9-b92d-57e2d3cc9553",
   "metadata": {},
   "outputs": [],
   "source": [
    "TEST_SIZE = 0.3\n",
    "X_train, X_test, Y_train, Y_test = model_selection.train_test_split(X_raw, Y_raw, test_size=TEST_SIZE)"
   ]
  },
  {
   "cell_type": "code",
   "execution_count": 57,
   "id": "6b2d1b32-b3ba-400f-a9da-533c4d7b3787",
   "metadata": {},
   "outputs": [
    {
     "name": "stderr",
     "output_type": "stream",
     "text": [
      "/usr/lib/python3.11/site-packages/sklearn/neural_network/_multilayer_perceptron.py:691: ConvergenceWarning: Stochastic Optimizer: Maximum iterations (1300) reached and the optimization hasn't converged yet.\n",
      "  warnings.warn(\n"
     ]
    }
   ],
   "source": [
    "FunH = 'identity'   # identity logistic tanh relu\n",
    "ocultas = (6)\n",
    "\n",
    "alfa = 0.001\n",
    "MAX_ITE = 1300\n",
    "\n",
    "modelo = MLPClassifier(max_iter=MAX_ITE, hidden_layer_sizes=ocultas, alpha=alfa,\n",
    "                       solver='sgd', activation=FunH, tol=0.001,\n",
    "                       verbose=False).fit(X_train, Y_train)\n",
    "\n",
    "modelo.out_activation_ = 'softmax'\n"
   ]
  },
  {
   "cell_type": "code",
   "execution_count": 58,
   "id": "68e0aee9-e2c3-4f5c-b589-c9d591f69831",
   "metadata": {},
   "outputs": [],
   "source": [
    "Y_pred = modelo.predict(X_train)\n",
    "score = modelo.score(X_train, Y_train)"
   ]
  },
  {
   "cell_type": "code",
   "execution_count": 59,
   "id": "0c5671c7-b9d2-4353-a9b9-19931b901b8f",
   "metadata": {},
   "outputs": [],
   "source": [
    "Y_it = binarizer.inverse_transform(Y_train)\n",
    "Y_pred_it = binarizer.inverse_transform(Y_pred)"
   ]
  },
  {
   "cell_type": "code",
   "execution_count": 60,
   "id": "731ff043-b8d4-4af4-93dd-97bb29921d10",
   "metadata": {},
   "outputs": [
    {
     "name": "stdout",
     "output_type": "stream",
     "text": [
      "Efectividad:   1.43%\n",
      "Score:   0.00%\n"
     ]
    },
    {
     "data": {
      "text/plain": [
       "[<matplotlib.lines.Line2D at 0x7f841b070f90>]"
      ]
     },
     "execution_count": 60,
     "metadata": {},
     "output_type": "execute_result"
    },
    {
     "data": {
      "image/png": "[encoded data removed]",
      "text/plain": [
       "<Figure size 640x480 with 1 Axes>"
      ]
     },
     "metadata": {},
     "output_type": "display_data"
    }
   ],
   "source": [
    "print('Efectividad: %6.2f%%' % (100*(Y_pred_it == Y_it).sum()/len(Y_it)) )\n",
    "print('Score: %6.2f%%' % (score) )\n",
    "\n",
    "plt.plot(modelo.loss_curve_)"
   ]
  },
  {
   "cell_type": "code",
   "execution_count": 61,
   "id": "ad30f9cf-6fe6-488f-a59c-76a049befac4",
   "metadata": {},
   "outputs": [
    {
     "name": "stdout",
     "output_type": "stream",
     "text": [
      "Efectividad:   0.00%\n",
      "      Score:   0.00%\n"
     ]
    }
   ],
   "source": [
    "#  ########### Medición del testeo ######################\n",
    "Y_pred = modelo.predict(X_test)\n",
    "score = modelo.score(X_test, Y_test)\n",
    "\n",
    "# \"invierte\" la transformacion binaria para obtener los nombres de las clases\n",
    "Y_it = binarizer.inverse_transform(Y_test)\n",
    "Y_pred_it = binarizer.inverse_transform(Y_pred)\n",
    "\n",
    "# calculo manual del accuracy\n",
    "print('Efectividad: %6.2f%%' % (100*(Y_pred_it == Y_it).sum()/len(Y_it)) )\n",
    "print('      Score: %6.2f%%' % (score) )"
   ]
  },
  {
   "cell_type": "code",
   "execution_count": null,
   "id": "8c0bd22d-2fa0-443c-8780-5a4837d952b2",
   "metadata": {},
   "outputs": [],
   "source": []
  },
  {
   "cell_type": "code",
   "execution_count": null,
   "id": "80d9ac4e-9670-4679-877d-c6d6e142b984",
   "metadata": {},
   "outputs": [],
   "source": []
  },
  {
   "cell_type": "code",
   "execution_count": null,
   "id": "29722e16-ef65-4ea0-a40a-53ca40166e84",
   "metadata": {},
   "outputs": [],
   "source": []
  }
 ],
 "metadata": {
  "kernelspec": {
   "display_name": "Python 3 (ipykernel)",
   "language": "python",
   "name": "python3"
  },
  "language_info": {
   "codemirror_mode": {
    "name": "ipython",
    "version": 3
   },
   "file_extension": ".py",
   "mimetype": "text/x-python",
   "name": "python",
   "nbconvert_exporter": "python",
   "pygments_lexer": "ipython3",
   "version": "3.11.5"
  }
 },
 "nbformat": 4,
 "nbformat_minor": 5
}
