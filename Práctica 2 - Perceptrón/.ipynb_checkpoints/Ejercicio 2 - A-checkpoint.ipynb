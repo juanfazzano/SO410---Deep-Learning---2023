{
 "cells": [
  {
   "cell_type": "code",
   "execution_count": 1,
   "id": "aaac564c-054f-4d11-8e7d-1fd26eaedf07",
   "metadata": {},
   "outputs": [],
   "source": [
    "import pandas as pd\n",
    "import numpy as np\n",
    "import chardet\n",
    "from ClassPerceptron import Perceptron"
   ]
  },
  {
   "cell_type": "code",
   "execution_count": 2,
   "id": "b7f44bf9-d379-445b-ad95-708aefeb3b89",
   "metadata": {},
   "outputs": [],
   "source": [
    "def open_file(path):\n",
    "    # open the path with automatic encoding\n",
    "    with open(path, 'rb') as file:\n",
    "        encoding = chardet.detect(file.read())\n",
    "    \n",
    "    return pd.read_csv(path, encoding=encoding['encoding'])"
   ]
  },
  {
   "cell_type": "code",
   "execution_count": 3,
   "id": "c48e1bc4-0bf9-4e04-867c-1ddf3b171938",
   "metadata": {},
   "outputs": [],
   "source": [
    "### VARIABLES\n",
    "data = open_file(\"../Datos/hojas.csv\")\n",
    "# returns all columns except the last one\n",
    "X = np.array(data.iloc[:,:-1])\n",
    "T = np.array((data.iloc[:,-1] == 'Helecho') * 1)\n",
    "W = np.random.uniform(-0.5, 0.5, size=len(X[0]))\n",
    "b = np.random.uniform(-0.5, 0.5)\n",
    "max_iteration = 300\n",
    "alpha = 0.01"
   ]
  },
  {
   "cell_type": "code",
   "execution_count": 4,
   "id": "2d674c25-46b4-4cc9-9456-b2ad5386fa38",
   "metadata": {},
   "outputs": [
    {
     "name": "stdout",
     "output_type": "stream",
     "text": [
      "PESOS INI \t [-0.45800131 -0.42707634]\n",
      "PESOS FIN \t [ 738.24621396 -130.68707634]\n",
      "ERRORES \t 238\n",
      "ULT ERROR \t 0\n"
     ]
    }
   ],
   "source": [
    "print('PESOS INI \\t', W)\n",
    "\n",
    "ppn = Perceptron(alpha=alpha, n_iter=max_iteration)\n",
    "ppn.fit(X, T, W, b)\n",
    "\n",
    "print('PESOS FIN \\t', ppn.w_)\n",
    "print('ERRORES \\t', len(ppn.errors_))\n",
    "print('ULT ERROR \\t', ppn.errors_[-1])"
   ]
  },
  {
   "cell_type": "code",
   "execution_count": 6,
   "id": "1dbe5e7f-84fd-4b97-b375-c32e7aa1cdcd",
   "metadata": {},
   "outputs": [
    {
     "ename": "TypeError",
     "evalue": "can't multiply sequence by non-int of type 'list'",
     "output_type": "error",
     "traceback": [
      "\u001b[0;31m---------------------------------------------------------------------------\u001b[0m",
      "\u001b[0;31mTypeError\u001b[0m                                 Traceback (most recent call last)",
      "Cell \u001b[0;32mIn[6], line 1\u001b[0m\n\u001b[0;32m----> 1\u001b[0m \u001b[43mppn\u001b[49m\u001b[38;5;241;43m.\u001b[39;49m\u001b[43mactivacion\u001b[49m\u001b[43m(\u001b[49m\u001b[43m[\u001b[49m\u001b[38;5;241;43m-\u001b[39;49m\u001b[38;5;241;43m12.1\u001b[39;49m\u001b[43m,\u001b[49m\u001b[38;5;241;43m11.59\u001b[39;49m\u001b[43m]\u001b[49m\u001b[43m,\u001b[49m\u001b[43m \u001b[49m\u001b[43m[\u001b[49m\u001b[38;5;241;43m770\u001b[39;49m\u001b[43m,\u001b[49m\u001b[43m \u001b[49m\u001b[38;5;241;43m5500\u001b[39;49m\u001b[43m]\u001b[49m\u001b[43m,\u001b[49m\u001b[43m  \u001b[49m\u001b[43mb\u001b[49m\u001b[43m)\u001b[49m\n",
      "File \u001b[0;32m~/Documents/Facultad/Deep Learning/Práctica 2 - Perceptrón/ClassPerceptron.py:47\u001b[0m, in \u001b[0;36mPerceptron.activacion\u001b[0;34m(self, W, X, b)\u001b[0m\n\u001b[1;32m     45\u001b[0m \u001b[38;5;28;01mdef\u001b[39;00m \u001b[38;5;21mactivacion\u001b[39m(\u001b[38;5;28mself\u001b[39m, W, X, b):\n\u001b[1;32m     46\u001b[0m     \u001b[38;5;66;03m# w1*x1 + w2*x2 + ⋯ + wn*xn\u001b[39;00m\n\u001b[0;32m---> 47\u001b[0m     suma_ponderada \u001b[38;5;241m=\u001b[39m (\u001b[43mW\u001b[49m\u001b[43m \u001b[49m\u001b[38;5;241;43m*\u001b[39;49m\u001b[43m \u001b[49m\u001b[43mX\u001b[49m)\u001b[38;5;241m.\u001b[39msum() \u001b[38;5;241m+\u001b[39m b\n\u001b[1;32m     48\u001b[0m     \u001b[38;5;28;01mreturn\u001b[39;00m (suma_ponderada \u001b[38;5;241m>\u001b[39m \u001b[38;5;241m0\u001b[39m) \u001b[38;5;241m*\u001b[39m\u001b[38;5;241m1\u001b[39m\n",
      "\u001b[0;31mTypeError\u001b[0m: can't multiply sequence by non-int of type 'list'"
     ]
    }
   ],
   "source": [
    "ppn.activacion(W, [770, 5500],  b)\n"
   ]
  },
  {
   "cell_type": "code",
   "execution_count": null,
   "id": "172fab99-1831-4ff0-8a41-ce95d2af4ca8",
   "metadata": {},
   "outputs": [],
   "source": []
  }
 ],
 "metadata": {
  "kernelspec": {
   "display_name": "Python 3 (ipykernel)",
   "language": "python",
   "name": "python3"
  },
  "language_info": {
   "codemirror_mode": {
    "name": "ipython",
    "version": 3
   },
   "file_extension": ".py",
   "mimetype": "text/x-python",
   "name": "python",
   "nbconvert_exporter": "python",
   "pygments_lexer": "ipython3",
   "version": "3.11.3"
  }
 },
 "nbformat": 4,
 "nbformat_minor": 5
}
