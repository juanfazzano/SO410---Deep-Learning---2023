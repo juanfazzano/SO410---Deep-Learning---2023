{
 "cells": [
  {
   "cell_type": "code",
   "execution_count": 11,
   "id": "d7c6e74c-8903-40af-8e59-2f4d6dff2c58",
   "metadata": {},
   "outputs": [
    {
     "name": "stdout",
     "output_type": "stream",
     "text": [
      "Sorted list: [9, 8, 5, 3, 2, 1]\n"
     ]
    }
   ],
   "source": [
    "import random\n",
    "\n",
    "# Define a list\n",
    "my_list = [5, 2, 8, 1, 9, 3]\n",
    "\n",
    "# Define a dictionary with sorting options\n",
    "sorting_dict = {\n",
    "    1: lambda x: random.shuffle(x),    # Random sort\n",
    "    2: lambda x: x.sort(),             # Upward sort\n",
    "    3: lambda x: x.sort(reverse=True)  # Downward sort\n",
    "}\n",
    "\n",
    "# Choose a sorting option (1, 2, or 3)\n",
    "sorting_option = 3  # Change this to 1, 2, or 3 as needed\n",
    "\n",
    "# Check if the sorting option exists in the dictionary\n",
    "if sorting_option in sorting_dict:\n",
    "    # Apply the selected sorting option to the list\n",
    "    sorting_dict[sorting_option](my_list)\n",
    "    print(f\"Sorted list: {my_list}\")\n",
    "else:\n",
    "    print(\"Invalid sorting option\")\n"
   ]
  },
  {
   "cell_type": "code",
   "execution_count": 12,
   "id": "6bbc274a-ccad-41a2-ba23-c0d263154fb5",
   "metadata": {},
   "outputs": [
    {
     "name": "stdout",
     "output_type": "stream",
     "text": [
      "+---------+-------+-----------+\n",
      "| Name    |   Age | Country   |\n",
      "+=========+=======+===========+\n",
      "| Alice   |    28 | USA       |\n",
      "+---------+-------+-----------+\n",
      "| Bob     |    32 | Canada    |\n",
      "+---------+-------+-----------+\n",
      "| Charlie |    22 | UK        |\n",
      "+---------+-------+-----------+\n"
     ]
    }
   ],
   "source": [
    "from tabulate import tabulate\n",
    "data = [\n",
    "    [\"Name\", \"Age\", \"Country\"],\n",
    "    [\"Alice\", 28, \"USA\"],\n",
    "    [\"Bob\", 32, \"Canada\"],\n",
    "    [\"Charlie\", 22, \"UK\"],\n",
    "]\n",
    "table = tabulate(data, headers=\"firstrow\", tablefmt=\"grid\")\n",
    "print(table)\n"
   ]
  },
  {
   "cell_type": "code",
   "execution_count": null,
   "id": "687f3ead-b4d2-451e-930c-3c6c0a493758",
   "metadata": {},
   "outputs": [],
   "source": []
  }
 ],
 "metadata": {
  "kernelspec": {
   "display_name": "Python 3 (ipykernel)",
   "language": "python",
   "name": "python3"
  },
  "language_info": {
   "codemirror_mode": {
    "name": "ipython",
    "version": 3
   },
   "file_extension": ".py",
   "mimetype": "text/x-python",
   "name": "python",
   "nbconvert_exporter": "python",
   "pygments_lexer": "ipython3",
   "version": "3.11.3"
  }
 },
 "nbformat": 4,
 "nbformat_minor": 5
}
