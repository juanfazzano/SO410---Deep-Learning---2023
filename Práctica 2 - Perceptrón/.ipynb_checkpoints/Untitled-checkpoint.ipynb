{
 "cells": [
  {
   "cell_type": "code",
   "execution_count": null,
   "id": "bcbc95c0-7c3f-42ac-86c6-dc0da6737dc4",
   "metadata": {},
   "outputs": [],
   "source": [
    "import numpy as np\n",
    "import pandas as pd\n",
    "from sklearn.preprocessing import StandardScaler\n",
    "\n",
    "# Definir la clase Perceptrón\n",
    "class Perceptron:\n",
    "    def __init__(self, input_size, lr=1, epochs=100):\n",
    "        self.W = np.zeros(input_size + 1)\n",
    "        self.epochs = epochs\n",
    "        self.lr = lr\n",
    "    \n",
    "    def activation_fn(self, x):\n",
    "        return 1 if x >= 0 else 0\n",
    "\n",
    "    def predict(self, x):\n",
    "        x = np.insert(x, 0, 1)\n",
    "        z = self.W.T.dot(x)\n",
    "        return self.activation_fn(z)\n",
    "\n",
    "    def fit(self, X, d):\n",
    "        for _ in range(self.epochs):\n",
    "            for i in range(d.shape[0]):\n",
    "                x = np.insert(X[i], 0, 1)\n",
    "                y = self.predict(X[i])\n",
    "                e = d[i] - y\n",
    "                self.W = self.W + self.lr * e * x\n",
    "\n",
    "# Leer el archivo hojas.csv\n",
    "file_path = './Practica/Datos/hojas.csv'\n",
    "df = pd.read_csv(file_path)\n",
    "\n",
    "# Extraer características y etiquetas\n",
    "X = df[['Perimetro', 'Area']].values\n",
    "y = df['Clase'].apply(lambda x: 1 if x == 'Helecho' else 0).values\n",
    "\n",
    "# Normalizar los datos\n",
    "scaler = StandardScaler()\n",
    "X_scaled = scaler.fit_transform(X)\n",
    "\n",
    "# Entrenar el Perceptrón\n",
    "perceptron = Perceptron(input_size=2, lr=0.01, epochs=300)\n",
    "perceptron.fit(X_scaled, y)\n",
    "\n",
    "# Mostrar los pesos del Perceptrón entrenado\n",
    "print(\"Pesos del Perceptrón:\", perceptron.W)"
   ]
  }
 ],
 "metadata": {
  "kernelspec": {
   "display_name": "Python 3 (ipykernel)",
   "language": "python",
   "name": "python3"
  },
  "language_info": {
   "codemirror_mode": {
    "name": "ipython",
    "version": 3
   },
   "file_extension": ".py",
   "mimetype": "text/x-python",
   "name": "python",
   "nbconvert_exporter": "python",
   "pygments_lexer": "ipython3",
   "version": "3.11.3"
  }
 },
 "nbformat": 4,
 "nbformat_minor": 5
}
