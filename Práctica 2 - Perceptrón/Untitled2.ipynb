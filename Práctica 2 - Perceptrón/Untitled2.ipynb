{
 "cells": [
  {
   "cell_type": "code",
   "execution_count": 35,
   "id": "8eba353a-698f-40d6-97f4-9c8ee48a5eda",
   "metadata": {},
   "outputs": [
    {
     "ename": "NameError",
     "evalue": "name 'values' is not defined",
     "output_type": "error",
     "traceback": [
      "\u001b[0;31m---------------------------------------------------------------------------\u001b[0m",
      "\u001b[0;31mNameError\u001b[0m                                 Traceback (most recent call last)",
      "Cell \u001b[0;32mIn[35], line 22\u001b[0m\n\u001b[1;32m     18\u001b[0m W \u001b[38;5;241m=\u001b[39m [\u001b[38;5;241m3.09\u001b[39m, \u001b[38;5;241m0\u001b[39m]\n\u001b[1;32m     20\u001b[0m b \u001b[38;5;241m=\u001b[39m \u001b[38;5;241m0.69\u001b[39m \n\u001b[0;32m---> 22\u001b[0m \u001b[38;5;28;01mfor\u001b[39;00m i \u001b[38;5;129;01min\u001b[39;00m \u001b[43mvalues\u001b[49m(data):\n\u001b[1;32m     23\u001b[0m     \u001b[38;5;66;03m# activacion = W[0]*i[0] + W[1]*i[1] + b\u001b[39;00m\n\u001b[1;32m     24\u001b[0m     \u001b[38;5;66;03m# print(i, activacion)\u001b[39;00m\n\u001b[1;32m     25\u001b[0m     \u001b[38;5;28mprint\u001b[39m(i)\n",
      "\u001b[0;31mNameError\u001b[0m: name 'values' is not defined"
     ]
    }
   ],
   "source": [
    "import numpy as np\n",
    "import pandas as pd\n",
    "def activacion(W, X, b):\n",
    "    suma_ponderada = (W * X).sum() + b\n",
    "    return 1 if suma_ponderada > 0 else 0\n",
    "\n",
    "# importar data\n",
    "# data = np.genfromtxt('../Datos/ejercicio1.csv', delimiter=',', dtype=None, names=True, encoding=None)\n",
    "data = pd.read_csv('../Datos/ejercicio1.csv')\n",
    "\n",
    "# Numerizar el atributo DUREZA\n",
    "data['DUREZA_NUM'] = data['DUREZA'].map({'BAJA': 0, 'MEDIA': 30, 'ALTA': 60})\n",
    "data\n",
    "# Peso\n",
    "W = [6.51, -6.17]\n",
    "W = [-12.10, 11.59]\n",
    "W = [0.12, -0.29] # 0.29 * DUREZA - 0.12 * TEMPERATURA = 0.21\n",
    "W = [3.09, 0]\n",
    "\n",
    "b = 0.69 \n",
    "\n",
    "for i in values(data):\n",
    "    # activacion = W[0]*i[0] + W[1]*i[1] + b\n",
    "    # print(i, activacion)\n",
    "    print(i)\n",
    "    "
   ]
  },
  {
   "cell_type": "code",
   "execution_count": null,
   "id": "d9ff5183-b07c-4337-a11a-b73ffd19a4f8",
   "metadata": {},
   "outputs": [],
   "source": []
  }
 ],
 "metadata": {
  "kernelspec": {
   "display_name": "Python 3 (ipykernel)",
   "language": "python",
   "name": "python3"
  },
  "language_info": {
   "codemirror_mode": {
    "name": "ipython",
    "version": 3
   },
   "file_extension": ".py",
   "mimetype": "text/x-python",
   "name": "python",
   "nbconvert_exporter": "python",
   "pygments_lexer": "ipython3",
   "version": "3.11.3"
  }
 },
 "nbformat": 4,
 "nbformat_minor": 5
}
