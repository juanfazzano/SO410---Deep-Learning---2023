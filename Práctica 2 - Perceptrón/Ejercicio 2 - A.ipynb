{
 "cells": [
  {
   "cell_type": "code",
   "execution_count": 1,
   "id": "aaac564c-054f-4d11-8e7d-1fd26eaedf07",
   "metadata": {},
   "outputs": [],
   "source": [
    "import pandas as pd\n",
    "import numpy as np\n",
    "import chardet\n",
    "from ClassPerceptron import Perceptron"
   ]
  },
  {
   "cell_type": "code",
   "execution_count": 2,
   "id": "b7f44bf9-d379-445b-ad95-708aefeb3b89",
   "metadata": {},
   "outputs": [],
   "source": [
    "def open_file(path):\n",
    "    # open the path with automatic encoding\n",
    "    with open(path, 'rb') as file:\n",
    "        encoding = chardet.detect(file.read())\n",
    "    \n",
    "    return pd.read_csv(path, encoding=encoding['encoding'])"
   ]
  },
  {
   "cell_type": "code",
   "execution_count": 3,
   "id": "c48e1bc4-0bf9-4e04-867c-1ddf3b171938",
   "metadata": {},
   "outputs": [],
   "source": [
    "### VARIABLES\n",
    "data = open_file(\"../Datos/hojas.csv\")\n",
    "# returns all columns except the last one\n",
    "X = np.array(data.iloc[:,:-1])\n",
    "T = np.array((data.iloc[:,-1] == 'Helecho') * 1)\n",
    "W = np.random.uniform(-0.5, 0.5, size=len(X[0]))\n",
    "b = np.random.uniform(-0.5, 0.5)\n",
    "max_iteration = 300\n",
    "alpha = 0.01"
   ]
  },
  {
   "cell_type": "code",
   "execution_count": 4,
   "id": "2d674c25-46b4-4cc9-9456-b2ad5386fa38",
   "metadata": {},
   "outputs": [
    {
     "name": "stdout",
     "output_type": "stream",
     "text": [
      "PESOS INI \t [-0.3252311  0.0529547]\n",
      "PESOS FIN \t [ 655.912325  -115.5770453]\n",
      "ERRORES \t 180\n",
      "ULT ERROR \t 0\n"
     ]
    }
   ],
   "source": [
    "print('PESOS INI \\t', W)\n",
    "\n",
    "ppn = Perceptron(alpha=alpha, n_iter=max_iteration)\n",
    "ppn.fit(X, T, W, b)\n",
    "\n",
    "print('PESOS FIN \\t', ppn.w_)\n",
    "print('ERRORES \\t', len(ppn.errors_))\n",
    "print('ULT ERROR \\t', ppn.errors_[-1])"
   ]
  },
  {
   "cell_type": "code",
   "execution_count": 5,
   "id": "1dbe5e7f-84fd-4b97-b375-c32e7aa1cdcd",
   "metadata": {},
   "outputs": [
    {
     "data": {
      "text/plain": [
       "0"
      ]
     },
     "execution_count": 5,
     "metadata": {},
     "output_type": "execute_result"
    }
   ],
   "source": [
    "ppn.activacion(W, [770, 5500],  b)\n"
   ]
  },
  {
   "cell_type": "code",
   "execution_count": null,
   "id": "172fab99-1831-4ff0-8a41-ce95d2af4ca8",
   "metadata": {},
   "outputs": [],
   "source": []
  }
 ],
 "metadata": {
  "kernelspec": {
   "display_name": "Python 3 (ipykernel)",
   "language": "python",
   "name": "python3"
  },
  "language_info": {
   "codemirror_mode": {
    "name": "ipython",
    "version": 3
   },
   "file_extension": ".py",
   "mimetype": "text/x-python",
   "name": "python",
   "nbconvert_exporter": "python",
   "pygments_lexer": "ipython3",
   "version": "3.11.5"
  }
 },
 "nbformat": 4,
 "nbformat_minor": 5
}
