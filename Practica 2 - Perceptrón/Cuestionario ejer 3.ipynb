{
 "cells": [
  {
   "cell_type": "code",
   "execution_count": 3,
   "id": "6ad3d0b4-17fd-4a88-9f38-fc1481816b5e",
   "metadata": {},
   "outputs": [],
   "source": [
    "import pandas as pd\n",
    "import numpy as np\n",
    "import chardet\n",
    "from ClassPerceptron import Perceptron\n",
    "from sklearn import model_selection,preprocessing\n",
    "def open_file(path):\n",
    "    # open the path with automatic encoding\n",
    "    with open(path, 'rb') as file:\n",
    "        encoding = chardet.detect(file.read())\n",
    "    \n",
    "    return pd.read_csv(path, encoding=encoding['encoding'])\n",
    "### VARIABLES\n",
    "data = open_file(\"../Datos/Semillas.csv\")\n",
    "data = data.drop(['Area', 'Perimetro'], axis=1)\n",
    "\n",
    "# returns all columns except the last one\n",
    "X = np.array(data.iloc[:,:-1])\n",
    "max_iteration = 200\n",
    "alpha = 0.05"
   ]
  },
  {
   "cell_type": "code",
   "execution_count": 18,
   "id": "290eca9c-e6b4-4d46-8232-5b57eeb7d1af",
   "metadata": {},
   "outputs": [
    {
     "name": "stdout",
     "output_type": "stream",
     "text": [
      "+---------+-------------------+---------------+\n",
      "| Clase   |   100% de acierto |   Iteraciones |\n",
      "+=========+===================+===============+\n",
      "| Tipo3   |          100      |           200 |\n",
      "+---------+-------------------+---------------+\n",
      "| Tipo1   |           90.4762 |           200 |\n",
      "+---------+-------------------+---------------+\n",
      "| Tipo2   |          100      |            41 |\n",
      "+---------+-------------------+---------------+\n"
     ]
    }
   ],
   "source": [
    "def Wb():\n",
    "\n",
    "    W = np.random.uniform(-0.5, 0.5, size=len(X[0]))\n",
    "    b = np.random.uniform(-0.5, 0.5)\n",
    "    return W, b\n",
    "    \n",
    "def train(X, T, alpha):\n",
    "    W, b = Wb()\n",
    "    ppn = Perceptron(alpha=alpha, n_iter=max_iteration, random_state=None)\n",
    "    ppn.fit(X, T, W, b)\n",
    "    return ppn\n",
    "\n",
    "def test(ppn, X, T):\n",
    "\n",
    "    Y_test = ppn.predict(X)\n",
    "    nAciertos = sum(Y_test == T)\n",
    "    return (100*nAciertos/X_test.shape[0])\n",
    "TABLA = [[\"Clase\", \"100% de acierto\", \"Iteraciones\"]]\n",
    "\n",
    "for Ti in set(data['Clase']):\n",
    "    T = np.array((data.iloc[:,-1] == Ti) * 1)\n",
    "    #--- CONJUNTOS DE ENTRENAMIENTO Y TESTEO ---\n",
    "    X_train, X_test, T_train, T_test = model_selection.train_test_split(\n",
    "        X, T, test_size=0.20)#, random_state=42)\n",
    "    # print(X_train)\n",
    "    normalizador= preprocessing.StandardScaler()\n",
    "    X_train = normalizador.fit_transform(X_train)\n",
    "    X_test  = normalizador.transform(X_test)\n",
    "    # print(T_train)\n",
    "    # print(T_test)\n",
    "    ppn = train(X_train, T_train, alpha)\n",
    "    iteraciones = len(ppn.errors_)\n",
    "\n",
    "    nAciertos = test(ppn, X_test, T_test)\n",
    "    TABLA.append([Ti, nAciertos, iteraciones])\n",
    "\n",
    "from tabulate import tabulate\n",
    "table = tabulate(TABLA, headers=\"firstrow\", tablefmt=\"grid\")\n",
    "print(table)\n"
   ]
  },
  {
   "cell_type": "code",
   "execution_count": null,
   "id": "34808211-9c62-4bc1-bed3-77e6f3d1d37a",
   "metadata": {},
   "outputs": [],
   "source": []
  },
  {
   "cell_type": "code",
   "execution_count": null,
   "id": "9c505e61-1a08-4bac-8c3e-57dee4421a5e",
   "metadata": {},
   "outputs": [],
   "source": []
  },
  {
   "cell_type": "code",
   "execution_count": null,
   "id": "23212e0e-fe06-404e-abb4-ea9068d28985",
   "metadata": {},
   "outputs": [],
   "source": []
  }
 ],
 "metadata": {
  "kernelspec": {
   "display_name": "Python 3 (ipykernel)",
   "language": "python",
   "name": "python3"
  },
  "language_info": {
   "codemirror_mode": {
    "name": "ipython",
    "version": 3
   },
   "file_extension": ".py",
   "mimetype": "text/x-python",
   "name": "python",
   "nbconvert_exporter": "python",
   "pygments_lexer": "ipython3",
   "version": "3.11.3"
  }
 },
 "nbformat": 4,
 "nbformat_minor": 5
}
