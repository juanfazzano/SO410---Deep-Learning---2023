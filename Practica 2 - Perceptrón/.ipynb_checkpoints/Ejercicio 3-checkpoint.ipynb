{
 "cells": [
  {
   "cell_type": "markdown",
   "id": "c215aa36-6f81-4ff0-addf-d8770f915bdd",
   "metadata": {},
   "source": [
    "# Ejercicio 3"
   ]
  },
  {
   "cell_type": "markdown",
   "id": "988907d9-77cf-477d-9a01-3da71912ae04",
   "metadata": {},
   "source": [
    "El archivo SEMILLAS.csv contiene información de granos que pertenecen a tres variedades diferentes de trigo: Kama, Rosa y Canadiense. El total es de 210 ejemplos a razón de 70 ejemplos para cada tipo de grano, seleccionados al azar para el experimento. La información registrada corresponde al resultado de la visualización de alta calidad de la estructura interna del núcleo efectuada utilizando una técnica de rayos X blandos. Este tipo de estudio no es destructivo y es considerablemente más económico que otras técnicas de imagen más sofisticadas como la microscopía de barrido o la tecnología láser. Las imágenes se grabaron en placas KODAK de rayos x de 13x18 cm. Los estudios se realizaron utilizando granos de trigo cosechados combinados procedentes de campos experimentales, explorados en el Instituto de Agrofísica de la Academia Polaca de Ciencias en Lublin. Para construir los datos, se midieron siete parámetros geométricos de cada grano de trigo:\n",
    "> i. área A,\n",
    " \n",
    "> ii. perímetro P,\n",
    "\n",
    "> iii. compacidad C = 4 * pi * A / P ^ 2,\n",
    "\n",
    ">iv. longitud del núcleo,\n",
    "\n",
    ">v. ancho del núcleo,\n",
    "\n",
    ">vi. coeficiente de asimetría\n",
    "\n",
    ">vii. longitud del surco del núcleo\n",
    "\n",
    "A partir de los 210 ejemplos, luego de normalizarlos utilizando los valores de media y desvío, se logró entrenar un perceptrón capaz de identificar, con una precisión del 100%, uno de los tres tipos de semillas. Para realizar el entrenamiento se utilizó una velocidad de aprendizaje de 0.05 y un máximo de 200 iteraciones. Indique cuál es el tipo de semilla que puede ser reconocido correctamente por un perceptrón."
   ]
  },
  {
   "cell_type": "code",
   "execution_count": 9,
   "id": "ccf45b74-6cd5-498f-a892-02ea93983289",
   "metadata": {},
   "outputs": [],
   "source": [
    "import pandas as pd\n",
    "import numpy as np\n",
    "import chardet\n",
    "from ClassPerceptron import Perceptron\n",
    "from sklearn import model_selection,preprocessing"
   ]
  },
  {
   "cell_type": "code",
   "execution_count": 10,
   "id": "67bd24bb-aea0-4241-ab69-a995d9e259df",
   "metadata": {},
   "outputs": [],
   "source": [
    "def open_file(path):\n",
    "    # open the path with automatic encoding\n",
    "    with open(path, 'rb') as file:\n",
    "        encoding = chardet.detect(file.read())\n",
    "    \n",
    "    return pd.read_csv(path, encoding=encoding['encoding'])"
   ]
  },
  {
   "cell_type": "code",
   "execution_count": 11,
   "id": "7be1095b-cf32-4e44-9156-2513fe2c0fbf",
   "metadata": {},
   "outputs": [],
   "source": [
    "### VARIABLES\n",
    "data = open_file(\"../Datos/Semillas.csv\")\n",
    "# returns all columns except the last one\n",
    "X = np.array(data.iloc[:,:-1])\n",
    "max_iteration = 200\n",
    "alpha = 0.05"
   ]
  },
  {
   "cell_type": "code",
   "execution_count": 12,
   "id": "dc4df5d4-4799-4a9c-9800-c25136491ea8",
   "metadata": {},
   "outputs": [],
   "source": [
    "def Wb():\n",
    "\n",
    "    W = np.random.uniform(-0.5, 0.5, size=len(X[0]))\n",
    "    b = np.random.uniform(-0.5, 0.5)\n",
    "    return W, b\n",
    "    \n",
    "def train(X, T, alpha):\n",
    "    W, b = Wb()\n",
    "    ppn = Perceptron(alpha=alpha, n_iter=max_iteration, random_state=None)\n",
    "    ppn.fit(X, T, W, b)\n",
    "    return ppn\n",
    "\n",
    "def test(ppn, X, T):\n",
    "\n",
    "    Y_test = ppn.predict(X)\n",
    "    nAciertos = sum(Y_test == T)\n",
    "    return (100*nAciertos/X_test.shape[0])\n"
   ]
  },
  {
   "cell_type": "code",
   "execution_count": 96,
   "id": "a77d4e5b-e710-423c-84aa-d0b664079106",
   "metadata": {},
   "outputs": [
    {
     "name": "stdout",
     "output_type": "stream",
     "text": [
      "+---------+-------------------+---------------+\n",
      "| Clase   |   100% de acierto |   Iteraciones |\n",
      "+=========+===================+===============+\n",
      "| Tipo2   |           100     |            20 |\n",
      "+---------+-------------------+---------------+\n",
      "| Tipo3   |           100     |           200 |\n",
      "+---------+-------------------+---------------+\n",
      "| Tipo1   |            97.619 |           200 |\n",
      "+---------+-------------------+---------------+\n"
     ]
    }
   ],
   "source": [
    "TABLA = [[\"Clase\", \"100% de acierto\", \"Iteraciones\"]]\n",
    "\n",
    "for Ti in set(data['Clase']):\n",
    "    T = np.array((data.iloc[:,-1] == Ti) * 1)\n",
    "    #--- CONJUNTOS DE ENTRENAMIENTO Y TESTEO ---\n",
    "    X_train, X_test, T_train, T_test = model_selection.train_test_split(\n",
    "        X, T, test_size=0.20)#, random_state=42)\n",
    "    # print(X_train)\n",
    "    normalizador= preprocessing.StandardScaler()\n",
    "    X_train = normalizador.fit_transform(X_train)\n",
    "    X_test  = normalizador.transform(X_test)\n",
    "    # print(T_train)\n",
    "    # print(T_test)\n",
    "    ppn = train(X_train, T_train, alpha)\n",
    "    iteraciones = len(ppn.errors_)\n",
    "\n",
    "    nAciertos = test(ppn, X_test, T_test)\n",
    "    TABLA.append([Ti, nAciertos, iteraciones])\n",
    "\n",
    "from tabulate import tabulate\n",
    "table = tabulate(TABLA, headers=\"firstrow\", tablefmt=\"grid\")\n",
    "print(table)\n"
   ]
  },
  {
   "cell_type": "raw",
   "id": "966b1bba-f9ff-4426-8db9-f25b70231dc0",
   "metadata": {},
   "source": [
    "La verdad me estan dando todos aprox 2 iteraciones con el 100 de aciertos... ehhhhh como continuo??"
   ]
  },
  {
   "cell_type": "code",
   "execution_count": null,
   "id": "6a47e013-bd33-4d5e-addd-d1697e942f9b",
   "metadata": {},
   "outputs": [],
   "source": []
  }
 ],
 "metadata": {
  "kernelspec": {
   "display_name": "Python 3 (ipykernel)",
   "language": "python",
   "name": "python3"
  },
  "language_info": {
   "codemirror_mode": {
    "name": "ipython",
    "version": 3
   },
   "file_extension": ".py",
   "mimetype": "text/x-python",
   "name": "python",
   "nbconvert_exporter": "python",
   "pygments_lexer": "ipython3",
   "version": "3.11.3"
  }
 },
 "nbformat": 4,
 "nbformat_minor": 5
}
