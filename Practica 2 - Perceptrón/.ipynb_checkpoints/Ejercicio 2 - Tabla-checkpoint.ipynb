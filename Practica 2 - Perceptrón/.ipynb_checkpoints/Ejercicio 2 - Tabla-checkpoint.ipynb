{
 "cells": [
  {
   "cell_type": "code",
   "execution_count": 1,
   "id": "f4c2cc97-a13b-4655-a09c-ec5d62e3ae72",
   "metadata": {},
   "outputs": [],
   "source": [
    "import pandas as pd\n",
    "import numpy as np\n",
    "import chardet\n",
    "from ClassPerceptron import Perceptron\n",
    "from sklearn import model_selection,preprocessing"
   ]
  },
  {
   "cell_type": "code",
   "execution_count": 2,
   "id": "8d4f8cdb-9004-41a7-9e97-ac0983649d7c",
   "metadata": {},
   "outputs": [],
   "source": [
    "def open_file(path):\n",
    "    # open the path with automatic encoding\n",
    "    with open(path, 'rb') as file:\n",
    "        encoding = chardet.detect(file.read())\n",
    "    \n",
    "    return pd.read_csv(path, encoding=encoding['encoding'])"
   ]
  },
  {
   "cell_type": "code",
   "execution_count": 3,
   "id": "1c4873bc-4f53-4167-afca-88d066db964b",
   "metadata": {},
   "outputs": [],
   "source": [
    "### CONSTANTES\n",
    "NORMALIZACION = {0:'Sin Normalizar',\n",
    "                1: 'Lineal Uniforme',\n",
    "                2: 'Media y Desvio'}\n",
    "\n",
    "ORDEN = {0:'Aleatorio',\n",
    "        1: 'Ascendente',\n",
    "        2: 'Descendente'}\n",
    "\n",
    "alphas = [0.2, 0.005]\n",
    "\n",
    "data = open_file(\"../Datos/hojas.csv\")\n",
    "max_iteration = 100\n"
   ]
  },
  {
   "cell_type": "code",
   "execution_count": 4,
   "id": "87d26f0d-8135-4df8-b0c8-1ca9fdc52d1f",
   "metadata": {},
   "outputs": [],
   "source": [
    "def Wb():\n",
    "    W = np.random.uniform(-0.5, 0.5, size=len(X[0]))\n",
    "    b = np.random.uniform(-1, 1)\n",
    "    return W, b\n",
    "    \n",
    "def train(X, T, alpha):\n",
    "    W, b = Wb()\n",
    "    ppn = Perceptron(alpha=alpha, n_iter=max_iteration, random_state=None)\n",
    "    ppn.fit(X, T, W, b)\n",
    "    return ppn\n",
    "\n",
    "def test(ppn, X, T):\n",
    "\n",
    "    Y_test = ppn.predict(X)\n",
    "    nAciertos = sum(Y_test == T)\n",
    "    return (100*nAciertos/X_test.shape[0])\n"
   ]
  },
  {
   "cell_type": "code",
   "execution_count": 31,
   "id": "b1688658-066e-41d4-8481-55c006fa17ca",
   "metadata": {},
   "outputs": [],
   "source": [
    "from sklearn import model_selection,preprocessing\n",
    "\n",
    "def normalizacion(aux, X):\n",
    "    if aux==1: \n",
    "        normalizador= preprocessing.MinMaxScaler()\n",
    "    elif aux==2:\n",
    "        normalizador= preprocessing.StandardScaler()\n",
    "    else:\n",
    "        return X\n",
    "    X = normalizador.fit_transform(X)\n",
    "    return X\n",
    "\n",
    "def orden(aux, data):\n",
    "    if aux == 0:\n",
    "        # Ordenar de forma aleatoria\n",
    "        data = data.sample(frac=1)  # Mezclar las filas de forma aleatoria\n",
    "    elif aux == 1:\n",
    "        # Ordenar de forma ascendente\n",
    "        data = np.sort(data, order=['Area', 'Perimetro'])               \n",
    "    elif aux == 2:\n",
    "        # Ordenar de forma descendente\n",
    "        data.sort(key=lambda x: float(x['Area']), reverse=True)\n",
    "    return data"
   ]
  },
  {
   "cell_type": "code",
   "execution_count": 42,
   "id": "b1ac894d-7b37-45e4-a88d-bff8eea1dcd5",
   "metadata": {},
   "outputs": [
    {
     "name": "stdout",
     "output_type": "stream",
     "text": [
      "+-----------------+-------------+---------+-------------------+----------------------------+\n",
      "| Normalización   | Orden       |   Alpha |   100% de acierto |   Promedio de iteraciones  |\n",
      "+=================+=============+=========+===================+============================+\n",
      "| Sin Normalizar  | Aleatorio   |   0.2   |               100 |                         14 |\n",
      "+-----------------+-------------+---------+-------------------+----------------------------+\n",
      "| Sin Normalizar  | Aleatorio   |   0.005 |               100 |                          8 |\n",
      "+-----------------+-------------+---------+-------------------+----------------------------+\n",
      "| Sin Normalizar  | Ascendente  |   0.2   |               100 |                         14 |\n",
      "+-----------------+-------------+---------+-------------------+----------------------------+\n",
      "| Sin Normalizar  | Ascendente  |   0.005 |               100 |                         72 |\n",
      "+-----------------+-------------+---------+-------------------+----------------------------+\n",
      "| Sin Normalizar  | Descendente |   0.2   |               100 |                         72 |\n",
      "+-----------------+-------------+---------+-------------------+----------------------------+\n",
      "| Sin Normalizar  | Descendente |   0.005 |               100 |                         78 |\n",
      "+-----------------+-------------+---------+-------------------+----------------------------+\n",
      "| Lineal Uniforme | Aleatorio   |   0.2   |               100 |                         14 |\n",
      "+-----------------+-------------+---------+-------------------+----------------------------+\n",
      "| Lineal Uniforme | Aleatorio   |   0.005 |                75 |                         56 |\n",
      "+-----------------+-------------+---------+-------------------+----------------------------+\n",
      "| Lineal Uniforme | Ascendente  |   0.2   |               100 |                          2 |\n",
      "+-----------------+-------------+---------+-------------------+----------------------------+\n",
      "| Lineal Uniforme | Ascendente  |   0.005 |                75 |                         32 |\n",
      "+-----------------+-------------+---------+-------------------+----------------------------+\n",
      "| Lineal Uniforme | Descendente |   0.2   |               100 |                         16 |\n",
      "+-----------------+-------------+---------+-------------------+----------------------------+\n",
      "| Lineal Uniforme | Descendente |   0.005 |               100 |                        100 |\n",
      "+-----------------+-------------+---------+-------------------+----------------------------+\n",
      "| Media y Desvio  | Aleatorio   |   0.2   |                75 |                          3 |\n",
      "+-----------------+-------------+---------+-------------------+----------------------------+\n",
      "| Media y Desvio  | Aleatorio   |   0.005 |               100 |                         38 |\n",
      "+-----------------+-------------+---------+-------------------+----------------------------+\n",
      "| Media y Desvio  | Ascendente  |   0.2   |                75 |                          5 |\n",
      "+-----------------+-------------+---------+-------------------+----------------------------+\n",
      "| Media y Desvio  | Ascendente  |   0.005 |                75 |                         29 |\n",
      "+-----------------+-------------+---------+-------------------+----------------------------+\n",
      "| Media y Desvio  | Descendente |   0.2   |                75 |                          3 |\n",
      "+-----------------+-------------+---------+-------------------+----------------------------+\n",
      "| Media y Desvio  | Descendente |   0.005 |                75 |                         21 |\n",
      "+-----------------+-------------+---------+-------------------+----------------------------+\n"
     ]
    }
   ],
   "source": [
    "TABLA = [[\"Normalización\", \"Orden\", \"Alpha\",\"100% de acierto\", \"Promedio de iteraciones \"]]\n",
    "for N in NORMALIZACION:\n",
    "    for O in ORDEN:\n",
    "        # data = orden(O, data)\n",
    "        X = np.array(data.iloc[:,:-1])\n",
    "        T = np.array((data.iloc[:,-1] == 'Helecho') * 1)\n",
    "        # normalizador= preprocessing.StandardScaler()\n",
    "        # X = normalizador.fit_transform(X)  # Ajustar y transformar tus datos\n",
    "        X = normalizacion(N, X)\n",
    "        for alpha in alphas:\n",
    "            #--- CONJUNTOS DE ENTRENAMIENTO Y TESTEO ---\n",
    "            X_train, X_test, T_train, T_test = model_selection.train_test_split(\n",
    "                X, T, test_size=0.30, random_state=42)\n",
    "            ppn = train(X_train, T_train, alpha) \n",
    "            iteraciones = len(ppn.errors_)\n",
    "\n",
    "            nAciertos = test(ppn, X_test, T_test)\n",
    "            TABLA.append([NORMALIZACION[N], ORDEN[O], alpha, nAciertos, iteraciones])\n",
    "        \n",
    "\n",
    "from tabulate import tabulate\n",
    "table = tabulate(TABLA, headers=\"firstrow\", tablefmt=\"grid\")\n",
    "print(table)\n"
   ]
  },
  {
   "cell_type": "code",
   "execution_count": null,
   "id": "f46368cb-80cc-4388-9218-316aac9ccd83",
   "metadata": {},
   "outputs": [],
   "source": []
  },
  {
   "cell_type": "code",
   "execution_count": null,
   "id": "540055da-3da9-4c11-9c40-dccff3fa2349",
   "metadata": {},
   "outputs": [],
   "source": []
  }
 ],
 "metadata": {
  "kernelspec": {
   "display_name": "Python 3 (ipykernel)",
   "language": "python",
   "name": "python3"
  },
  "language_info": {
   "codemirror_mode": {
    "name": "ipython",
    "version": 3
   },
   "file_extension": ".py",
   "mimetype": "text/x-python",
   "name": "python",
   "nbconvert_exporter": "python",
   "pygments_lexer": "ipython3",
   "version": "3.11.5"
  }
 },
 "nbformat": 4,
 "nbformat_minor": 5
}
