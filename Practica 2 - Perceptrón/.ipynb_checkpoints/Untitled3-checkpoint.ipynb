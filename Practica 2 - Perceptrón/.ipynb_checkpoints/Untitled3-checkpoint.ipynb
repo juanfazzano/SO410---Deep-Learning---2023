{
 "cells": [
  {
   "cell_type": "code",
   "execution_count": 27,
   "id": "bd396d85-f546-4ca0-95bf-9c3fc553deb0",
   "metadata": {},
   "outputs": [
    {
     "name": "stdout",
     "output_type": "stream",
     "text": [
      "curb-weight\n",
      "atipicos_sup= 4515\n",
      "atipicos_inf= 565\n",
      "curb-weight\n",
      "0\n",
      "\n",
      "engine-size\n",
      "atipicos_sup= 229\n",
      "atipicos_inf= 9\n",
      "engine-size\n",
      "258\n",
      "258\n",
      "326\n",
      "234\n",
      "234\n",
      "308\n",
      "304\n",
      "7\n",
      "\n"
     ]
    },
    {
     "ename": "ValueError",
     "evalue": "cannot convert float NaN to integer",
     "output_type": "error",
     "traceback": [
      "\u001b[0;31m---------------------------------------------------------------------------\u001b[0m",
      "\u001b[0;31mValueError\u001b[0m                                Traceback (most recent call last)",
      "Cell \u001b[0;32mIn[27], line 20\u001b[0m\n\u001b[1;32m     18\u001b[0m min_val \u001b[38;5;241m=\u001b[39m \u001b[38;5;28mint\u001b[39m(np\u001b[38;5;241m.\u001b[39mmin(data))\n\u001b[1;32m     19\u001b[0m max_val \u001b[38;5;241m=\u001b[39m \u001b[38;5;28mint\u001b[39m(np\u001b[38;5;241m.\u001b[39mmax(data))\n\u001b[0;32m---> 20\u001b[0m q1 \u001b[38;5;241m=\u001b[39m \u001b[38;5;28;43mint\u001b[39;49m\u001b[43m(\u001b[49m\u001b[43mnp\u001b[49m\u001b[38;5;241;43m.\u001b[39;49m\u001b[43mpercentile\u001b[49m\u001b[43m(\u001b[49m\u001b[43mdata\u001b[49m\u001b[43m,\u001b[49m\u001b[43m \u001b[49m\u001b[38;5;241;43m25\u001b[39;49m\u001b[43m)\u001b[49m\u001b[43m)\u001b[49m\n\u001b[1;32m     21\u001b[0m median \u001b[38;5;241m=\u001b[39m np\u001b[38;5;241m.\u001b[39mmedian(data)\n\u001b[1;32m     22\u001b[0m q3 \u001b[38;5;241m=\u001b[39m \u001b[38;5;28mint\u001b[39m(np\u001b[38;5;241m.\u001b[39mpercentile(data, \u001b[38;5;241m75\u001b[39m))\n",
      "\u001b[0;31mValueError\u001b[0m: cannot convert float NaN to integer"
     ]
    }
   ],
   "source": [
    "import pandas as pd\n",
    "import numpy as np\n",
    "import chardet\n",
    "def open_file(path):\n",
    "    # open the path with automatic encoding\n",
    "    with open(path, 'rb') as file:\n",
    "        encoding = chardet.detect(file.read())\n",
    "    \n",
    "    return pd.read_csv(path, encoding=encoding['encoding'])\n",
    "\n",
    "AUTO = open_file(\"../Datos/automobile-simple.csv\")\n",
    "AUTO = AUTO.drop(['make', 'fuel-type', 'num-of-doors', 'body-style'], axis=1)\n",
    "\n",
    "# data = list(data['eco-rating'])\n",
    "for i in AUTO:\n",
    "    data = AUTO[i]\n",
    "    # Cálculos estadísticos\n",
    "    min_val = np.min(data)\n",
    "    max_val = np.max(data)\n",
    "    q1 = np.percentile(data, 25)\n",
    "    median = np.median(data)\n",
    "    q3 = np.percentile(data, 75)\n",
    "    RIC = q3 - q1\n",
    "    atipicos_sup= q1 + 3*RIC \n",
    "    atipicos_inf= q3 - 3*RIC \n",
    "    print(i)\n",
    "\n",
    "    print('atipicos_sup=',atipicos_sup)\n",
    "    print('atipicos_inf=',atipicos_inf)\n",
    "    print(i)\n",
    "    cant = 0\n",
    "    for j in data:\n",
    "        # print(i)\n",
    "        if j>atipicos_sup or j<atipicos_inf:\n",
    "            cant +=1\n",
    "            print(j)\n",
    "    print(cant)\n",
    "    print()\n"
   ]
  },
  {
   "cell_type": "code",
   "execution_count": 32,
   "id": "9371e721-aeb7-4fe8-bba2-526bab76503a",
   "metadata": {},
   "outputs": [
    {
     "name": "stdout",
     "output_type": "stream",
     "text": [
      "curb-weight\n",
      "outliers_upper= 5305.0\n",
      "outliers_lower= -225.0\n",
      "curb-weight\n",
      "0\n",
      "\n",
      "engine-size\n",
      "outliers_upper= 273.0\n",
      "outliers_lower= -35.0\n",
      "engine-size\n",
      "326\n",
      "308\n",
      "304\n",
      "3\n",
      "\n",
      "horsepower\n",
      "outliers_upper= nan\n",
      "outliers_lower= nan\n",
      "horsepower\n",
      "0\n",
      "\n",
      "city-mpg\n",
      "outliers_upper= 63.0\n",
      "outliers_lower= -14.0\n",
      "city-mpg\n",
      "0\n",
      "\n",
      "highway-mpg\n",
      "outliers_upper= 61.0\n",
      "outliers_lower= -2.0\n",
      "highway-mpg\n",
      "0\n",
      "\n",
      "price\n",
      "outliers_upper= nan\n",
      "outliers_lower= nan\n",
      "price\n",
      "0\n",
      "\n",
      "volume\n",
      "outliers_upper= 965529.0000000003\n",
      "outliers_lower= 267211.7999999997\n",
      "volume\n",
      "0\n",
      "\n",
      "eco-rating\n",
      "outliers_upper= 107.16810619463848\n",
      "outliers_lower= -24.423602495958985\n",
      "eco-rating\n",
      "0\n",
      "\n"
     ]
    }
   ],
   "source": [
    "import pandas as pd\n",
    "import numpy as np\n",
    "\n",
    "def open_file(path):\n",
    "    return pd.read_csv(path, encoding='utf-8')\n",
    "\n",
    "AUTO = open_file(\"../Datos/automobile-simple.csv\")\n",
    "AUTO = AUTO.drop(['make', 'fuel-type', 'num-of-doors', 'body-style'], axis=1)\n",
    "\n",
    "for i in AUTO:\n",
    "    data = AUTO[i]\n",
    "    # Cálculos estadísticos\n",
    "    min_val = np.min(data)\n",
    "    max_val = np.max(data)\n",
    "    q1 = np.percentile(data, 25)\n",
    "    median = np.median(data)\n",
    "    q3 = np.percentile(data, 75)\n",
    "    IQR = q3 - q1\n",
    "    outliers_lower = q1 - 3.0 * IQR\n",
    "    outliers_upper = q3 + 3.0 * IQR\n",
    "    print(i)\n",
    "\n",
    "    print('outliers_upper=', outliers_upper)\n",
    "    print('outliers_lower=', outliers_lower)\n",
    "    print(i)\n",
    "    cant = 0\n",
    "    for j in data:\n",
    "        if j > outliers_upper or j < outliers_lower:\n",
    "            cant += 1\n",
    "            print(j)\n",
    "    print(cant)\n",
    "    print()\n"
   ]
  },
  {
   "cell_type": "code",
   "execution_count": 41,
   "id": "805b185a-632d-4f07-9f97-e8de87b66e65",
   "metadata": {},
   "outputs": [
    {
     "name": "stdout",
     "output_type": "stream",
     "text": [
      "sup 95\n",
      "inf 110\n",
      "same 0\n"
     ]
    }
   ],
   "source": [
    "AUTO = open_file(\"../Datos/automobile-simple.csv\")\n",
    "data = AUTO['eco-rating']\n",
    "MEDIA = data.sum()/len(data)\n",
    "MEDIA\n",
    "inf = 0\n",
    "sup = 0\n",
    "same = 0\n",
    "for i in data:\n",
    "    if i>MEDIA:\n",
    "        sup+=1\n",
    "    elif i<MEDIA:\n",
    "        inf+=1\n",
    "    else:\n",
    "        same+=1\n",
    "\n",
    "print('sup', sup)\n",
    "print('inf', inf)\n",
    "print('same', same)"
   ]
  },
  {
   "cell_type": "code",
   "execution_count": 43,
   "id": "8c50e27e-5d43-4142-9fb7-2bffd0a48db6",
   "metadata": {},
   "outputs": [
    {
     "name": "stdout",
     "output_type": "stream",
     "text": [
      "Columnas con valores atípicos:\n",
      "Index(['engine-size', 'horsepower', 'price'], dtype='object')\n"
     ]
    }
   ],
   "source": [
    "import pandas as pd\n",
    "\n",
    "# Cargar el archivo CSV en un DataFrame\n",
    "AUTO = pd.read_csv(\"../Datos/automobile-simple.csv\")\n",
    "columnas_a_excluir = ['make', 'fuel-type', 'num-of-doors', 'body-style']\n",
    "AUTO = AUTO.drop(columnas_a_excluir, axis=1)\n",
    "\n",
    "# Calcular el primer cuartil (q1) y el tercer cuartil (q3) para cada columna\n",
    "q1 = AUTO.quantile(0.25)\n",
    "q3 = AUTO.quantile(0.75)\n",
    "\n",
    "# Calcular el rango intercuartil (IQR) para cada columna\n",
    "IQR = q3 - q1\n",
    "\n",
    "# Definir el umbral para valores atípicos (atipico_inf y atipico_sup)\n",
    "umbral_inf = q1 - 3.0 * IQR\n",
    "umbral_sup = q3 + 3.0 * IQR\n",
    "\n",
    "# Contar cuántas columnas tienen valores atípicos\n",
    "columnas_con_atipicos = ((AUTO < umbral_inf) | (AUTO > umbral_sup)).any()\n",
    "\n",
    "# Imprimir el resultado\n",
    "print(\"Columnas con valores atípicos:\")\n",
    "print(columnas_con_atipicos[columnas_con_atipicos].index)\n"
   ]
  },
  {
   "cell_type": "code",
   "execution_count": 44,
   "id": "29b6cb5d-f6b3-4147-ba6d-9fcbe8fcfceb",
   "metadata": {},
   "outputs": [
    {
     "ename": "ModuleNotFoundError",
     "evalue": "No module named 'seaborn'",
     "output_type": "error",
     "traceback": [
      "\u001b[0;31m---------------------------------------------------------------------------\u001b[0m",
      "\u001b[0;31mModuleNotFoundError\u001b[0m                       Traceback (most recent call last)",
      "Cell \u001b[0;32mIn[44], line 2\u001b[0m\n\u001b[1;32m      1\u001b[0m \u001b[38;5;28;01mimport\u001b[39;00m \u001b[38;5;21;01mpandas\u001b[39;00m \u001b[38;5;28;01mas\u001b[39;00m \u001b[38;5;21;01mpd\u001b[39;00m\n\u001b[0;32m----> 2\u001b[0m \u001b[38;5;28;01mimport\u001b[39;00m \u001b[38;5;21;01mseaborn\u001b[39;00m \u001b[38;5;28;01mas\u001b[39;00m \u001b[38;5;21;01msns\u001b[39;00m\n\u001b[1;32m      3\u001b[0m \u001b[38;5;28;01mimport\u001b[39;00m \u001b[38;5;21;01mmatplotlib\u001b[39;00m\u001b[38;5;21;01m.\u001b[39;00m\u001b[38;5;21;01mpyplot\u001b[39;00m \u001b[38;5;28;01mas\u001b[39;00m \u001b[38;5;21;01mplt\u001b[39;00m\n\u001b[1;32m      5\u001b[0m \u001b[38;5;66;03m# Cargar el archivo CSV en un DataFrame\u001b[39;00m\n",
      "\u001b[0;31mModuleNotFoundError\u001b[0m: No module named 'seaborn'"
     ]
    }
   ],
   "source": [
    "import pandas as pd\n",
    "import seaborn as sns\n",
    "import matplotlib.pyplot as plt\n",
    "\n",
    "# Cargar el archivo CSV en un DataFrame\n",
    "AUTO = pd.read_csv(\"../Datos/automobile-simple.csv\")\n",
    "\n",
    "# Excluir las columnas específicas ('make', 'fuel-type', 'num-of-doors', 'body-style')\n",
    "columnas_a_excluir = ['make', 'fuel-type', 'num-of-doors', 'body-style']\n",
    "AUTO = AUTO.drop(columnas_a_excluir, axis=1)\n",
    "\n",
    "# Calcular la matriz de correlación entre las columnas numéricas\n",
    "correlacion = AUTO.corr()\n",
    "\n",
    "# Crear un mapa de calor de la matriz de correlación\n",
    "plt.figure(figsize=(10, 8))\n",
    "sns.heatmap(correlacion, annot=True, cmap=\"coolwarm\", fmt=\".2f\")\n",
    "plt.title(\"Gráfico de Correlación Lineal\")\n",
    "plt.show()\n"
   ]
  }
 ],
 "metadata": {
  "kernelspec": {
   "display_name": "Python 3 (ipykernel)",
   "language": "python",
   "name": "python3"
  },
  "language_info": {
   "codemirror_mode": {
    "name": "ipython",
    "version": 3
   },
   "file_extension": ".py",
   "mimetype": "text/x-python",
   "name": "python",
   "nbconvert_exporter": "python",
   "pygments_lexer": "ipython3",
   "version": "3.11.3"
  }
 },
 "nbformat": 4,
 "nbformat_minor": 5
}
