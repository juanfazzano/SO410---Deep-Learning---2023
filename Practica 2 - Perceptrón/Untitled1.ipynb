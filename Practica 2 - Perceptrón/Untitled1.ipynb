{
 "cells": [
  {
   "cell_type": "code",
   "execution_count": null,
   "id": "a3346bc7-0885-4724-bc19-07c55137b6f1",
   "metadata": {},
   "outputs": [],
   "source": [
    "import pandas as pd\n",
    "import numpy as np\n",
    "import chardet\n",
    "from ClassPerceptron import Perceptron\n",
    "from sklearn import model_selection,preprocessing\n",
    "\n",
    "def open_file(path):\n",
    "    # open the path with automatic encoding\n",
    "    with open(path, 'rb') as file:\n",
    "        encoding = chardet.detect(file.read())\n",
    "    \n",
    "    return pd.read_csv(path, encoding=encoding['encoding'])\n",
    "data = open_file(\"../Datos/zoo.csv\")"
   ]
  },
  {
   "cell_type": "code",
   "execution_count": null,
   "id": "7bfc5fe9-9f60-496d-b728-79ce027a5b9f",
   "metadata": {},
   "outputs": [],
   "source": []
  }
 ],
 "metadata": {
  "kernelspec": {
   "display_name": "Python 3 (ipykernel)",
   "language": "python",
   "name": "python3"
  },
  "language_info": {
   "codemirror_mode": {
    "name": "ipython",
    "version": 3
   },
   "file_extension": ".py",
   "mimetype": "text/x-python",
   "name": "python",
   "nbconvert_exporter": "python",
   "pygments_lexer": "ipython3",
   "version": "3.11.3"
  }
 },
 "nbformat": 4,
 "nbformat_minor": 5
}
