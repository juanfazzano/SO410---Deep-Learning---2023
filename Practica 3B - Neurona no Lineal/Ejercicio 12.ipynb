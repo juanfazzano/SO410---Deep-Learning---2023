{
 "cells": [
  {
   "cell_type": "markdown",
   "id": "453529e3-7966-494c-8bdb-b45da57d85dc",
   "metadata": {},
   "source": [
    "# Ejercicio 12\n",
    "### Utilice una red neuronal formada por una única capa de salida de 3 neuronas para clasificar las muestras de vino del archivo Vinos.csv descripto en el ejercicio anterior.\n",
    "### Realice 30 ejecuciones independientes utilizando el 60% y 80% de los ejemplos como entrenamiento y el resto como testeo.\n",
    "### Utilice un máximo de 400 iteraciones y velocidades de aprendizaje 0.1, 0.2 y 0.3.\n",
    "### Complete la siguiente tabla con los resultados de las siguientes configuraciones\n",
    "\n",
    "    a) Función de activación ‘sigmoid’ y función de costo ‘ECM’ (error cuadrático medio)\n",
    "\n",
    "    b) Función de activación ‘sigmoid’ y función de costo ‘EC_binaria’ (entropía cruzada binaria)\n",
    "\n",
    "    c) Función de activación ‘tanh’ y función de costo ‘ECM’ (error cuadrático medio)\n",
    "\n",
    "    d) Capa ‘Softmax’ y función de costo ‘EC’ (entropía cruzada)"
   ]
  },
  {
   "cell_type": "code",
   "execution_count": 6,
   "id": "8ab5204a-821b-4d8c-9c06-bceb241b8dce",
   "metadata": {},
   "outputs": [],
   "source": [
    "import pandas as pd\n",
    "import chardet\n",
    "import numpy as np\n",
    "from sklearn import preprocessing, model_selection\n",
    "from matplotlib import pyplot as plt\n",
    "from ClassRNMulticlase import RNMulticlase"
   ]
  },
  {
   "cell_type": "code",
   "execution_count": 8,
   "id": "41638214-7c2a-471a-b03b-3f16b1613ec0",
   "metadata": {},
   "outputs": [],
   "source": [
    "def open_file(path, delimiter=';'):\n",
    "    # Detectar la codificación del archivo\n",
    "    with open(path, 'rb') as file:\n",
    "        encoding = chardet.detect(file.read())['encoding']\n",
    "    \n",
    "    # Leer el archivo CSV usando el delimitador correcto\n",
    "    df = pd.read_csv(path, encoding=encoding, delimiter=delimiter)\n",
    "    \n",
    "    return df\n",
    "\n",
    "df = open_file(\"../Datos/Vinos.csv\")"
   ]
  },
  {
   "cell_type": "code",
   "execution_count": null,
   "id": "f68adfff-ef9a-4c3f-afbf-aab0308befd4",
   "metadata": {},
   "outputs": [],
   "source": [
    "T_raw = df.iloc[:, 0]\n",
    "X_raw = df.iloc[:, 1:]\n",
    "\n",
    "clases = np.unique(T_raw)  # obtiene las clases sin repeticiones\n",
    "print('Las clases del dataset son :', clases)\n",
    "\n",
    "# Normalizacion con media y desviacion\n",
    "scaler = preprocessing.StandardScaler()\n",
    "# scaler = preprocessing.MinMaxScaler()\n",
    "X = scaler.fit_transform(X_raw)"
   ]
  }
 ],
 "metadata": {
  "kernelspec": {
   "display_name": "Python 3 (ipykernel)",
   "language": "python",
   "name": "python3"
  },
  "language_info": {
   "codemirror_mode": {
    "name": "ipython",
    "version": 3
   },
   "file_extension": ".py",
   "mimetype": "text/x-python",
   "name": "python",
   "nbconvert_exporter": "python",
   "pygments_lexer": "ipython3",
   "version": "3.11.5"
  }
 },
 "nbformat": 4,
 "nbformat_minor": 5
}
