{
 "cells": [
  {
   "cell_type": "code",
   "execution_count": 5,
   "id": "05344c2c-d794-4395-b7db-f5c92f05c478",
   "metadata": {},
   "outputs": [
    {
     "data": {
      "text/plain": [
       "array([3.88837508, 1.9064815 , 0.92249924])"
      ]
     },
     "execution_count": 5,
     "metadata": {},
     "output_type": "execute_result"
    }
   ],
   "source": [
    "import numpy as np\n",
    "from ClassNeuronaLineal import NeuronaLineal\n",
    "\n",
    "# Datos de entrada (tres dígitos binarios) y sus correspondientes valores decimales\n",
    "X = np.array([[0, 0, 0],\n",
    "              [0, 0, 1],\n",
    "              [0, 1, 0],\n",
    "              [0, 1, 1],\n",
    "              [1, 0, 0],\n",
    "              [1, 0, 1],\n",
    "              [1, 1, 0],\n",
    "              [1, 1, 1]])\n",
    "\n",
    "# Salidas correspondientes (valores decimales)\n",
    "T = np.array([0, 1, 2, 3, 4, 5, 6, 7])\n",
    "\n",
    "alfa = 0.05\n",
    "MAX_ITE = 200\n",
    "CotaError = 10e-03\n",
    "\n",
    "modelo = NeuronaLineal(alpha=alfa, n_iter=MAX_ITE, cotaE=CotaError)\n",
    "modelo.fit(X, T)\n",
    "modelo.w_"
   ]
  },
  {
   "cell_type": "code",
   "execution_count": null,
   "id": "3422429a-8ed6-4d8b-9cf8-0658f060b239",
   "metadata": {},
   "outputs": [],
   "source": []
  }
 ],
 "metadata": {
  "kernelspec": {
   "display_name": "Python 3 (ipykernel)",
   "language": "python",
   "name": "python3"
  },
  "language_info": {
   "codemirror_mode": {
    "name": "ipython",
    "version": 3
   },
   "file_extension": ".py",
   "mimetype": "text/x-python",
   "name": "python",
   "nbconvert_exporter": "python",
   "pygments_lexer": "ipython3",
   "version": "3.11.5"
  }
 },
 "nbformat": 4,
 "nbformat_minor": 5
}
