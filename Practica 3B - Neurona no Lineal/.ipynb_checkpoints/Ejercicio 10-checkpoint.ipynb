{
 "cells": [
  {
   "cell_type": "markdown",
   "id": "00d74126-4eab-4555-9baf-d1084a6a0dd7",
   "metadata": {},
   "source": [
    "# Ejercicio 10\n",
    "\n",
    "El archivo Semillas.csv contiene información de granos que pertenecen a tres variedades diferentes de\n",
    "trigo.\n",
    "Entrene una neurona no lineal para determinar si una semilla es de “TIPO 2” o no.\n",
    "Utilice el 60% de los ejemplos para entrenar y el 40% para realizar el testeo.\n",
    "Realice 30 ejecuciones independientes de la configuración seleccionada para respaldar sus afirmaciones\n",
    "referidas a la precisión obtenida tanto para el conjunto de entrenamiento como para el de testeo. Utilice\n",
    "un máximo de 200 iteraciones y una cota de error de 1𝑒 − 03.\n",
    "\n",
    "a) Utilizando ‘sigmoid’ como función de activación.\n",
    "\n",
    "b) Utilizando ‘tanh’ como función de activación.\n",
    "\n",
    "- Iteraciones es la cantidad promedio de iteraciones realizadas en las 30 ejecuciones\n",
    "- Accuracy train es el promedio de las 30 tasas de acierto obtenidas en las distintas ejecuciones.\n",
    "- Ite accuracy es el número de iteración promedio en el que se encontró el máximo accuracy por\n",
    "primera vez.\n",
    "- Veces (datos train) indica cuántas de las 30 ejecuciones alcanzaron el 100% de acierto durante el\n",
    "entrenamiento.\n",
    "- Accuracy test y Veces (datos Test) contienen lo mismo que Accuracy train y “Veces (datos train)\n",
    "pero sobre los datos de testeo, respectivamente."
   ]
  },
  {
   "cell_type": "code",
   "execution_count": 2,
   "id": "d82dce26-5f04-400e-b797-e45ff3a8e0bf",
   "metadata": {},
   "outputs": [],
   "source": [
    "import pandas as pd      # para trabajar con archivos de datos csv, excel, etc: https://pandas.pydata.org/docs/getting_started/tutorials.html\n",
    "import chardet           # para detectar la codificación de texto en archivos\n",
    "import numpy as np\n",
    "from sklearn import preprocessing, model_selection\n",
    "from matplotlib import pyplot as plt\n",
    "from ClassNeuronaGral import NeuronaGradiente"
   ]
  },
  {
   "cell_type": "code",
   "execution_count": 3,
   "id": "107e903b-df05-42a7-9d15-b5f5076d711d",
   "metadata": {},
   "outputs": [],
   "source": [
    "def open_file(path):\n",
    "    # open the path with automatic encoding\n",
    "    with open(path, 'rb') as file:\n",
    "        encoding = chardet.detect(file.read())\n",
    "    \n",
    "    return pd.read_csv(path, encoding=encoding['encoding'])\n",
    "\n",
    "df = open_file(\"../Datos/Semillas.csv\")"
   ]
  },
  {
   "cell_type": "code",
   "execution_count": 4,
   "id": "5d7991b4-b9f8-4dbd-a137-da1a1e639915",
   "metadata": {},
   "outputs": [
    {
     "name": "stdout",
     "output_type": "stream",
     "text": [
      "Las clases del dataset son : ['Tipo1' 'Tipo2' 'Tipo3']\n"
     ]
    }
   ],
   "source": [
    "\n",
    "X_raw = np.array(df.iloc[:,0:-1])  # recupera todas las columnas salvo la última (es la clase)\n",
    "T_raw = np.array(df.iloc[:,-1])    # recupera solo la última columna (es la clase)\n",
    "\n",
    "clases = np.unique(T_raw)  # obtiene las clases sin repeticiones\n",
    "print('Las clases del dataset son :', clases)\n",
    "\n",
    "# Normalizacion con media y desviacion\n",
    "scaler = preprocessing.StandardScaler()\n",
    "# scaler = preprocessing.MinMaxScaler()\n",
    "X = scaler.fit_transform(X_raw)"
   ]
  },
  {
   "cell_type": "code",
   "execution_count": 5,
   "id": "8583c1e7-7418-4b9e-8a62-d15cd6fa8d25",
   "metadata": {},
   "outputs": [
    {
     "name": "stdout",
     "output_type": "stream",
     "text": [
      "\n",
      "Neurona con sigmoid\n",
      "Clase Tipo1 con  93.33% de efectividad con 200 iteraciones\n",
      "Clase Tipo2 con  98.57% de efectividad con 200 iteraciones\n",
      "Clase Tipo3 con  97.14% de efectividad con 200 iteraciones\n"
     ]
    }
   ],
   "source": [
    "###############################################################################\n",
    "# neurona no lineal sigmoid\n",
    "ERROR = 1e-03\n",
    "ALFA = 0.1\n",
    "FUN = 'sigmoid'\n",
    "MAX_ITE = 200\n",
    "\n",
    "print('\\nNeurona con %s' %FUN)\n",
    "\n",
    "\n",
    "# hace entrenamiento por cada clase\n",
    "for cls_name in clases:\n",
    "    # Establece resultado esperado según la clase. 1=clase esperada, 0=otra clase\n",
    "\n",
    "    T = 1 * (T_raw == cls_name) ### T TOMA LOS VALORES POR CADA CLASE\n",
    "    # Entrena perceptrón\n",
    "    modelo = NeuronaGradiente(alpha=ALFA, n_iter=MAX_ITE, FUN=FUN, cotaE=ERROR)\n",
    "    modelo.fit(X, T)\n",
    "    (W, b, iteraciones) = (modelo.w_, modelo.b_, len(modelo.errors_))\n",
    "    \n",
    "    Y = modelo.predict(X) \n",
    "    ### T --> LO QUE DEBERIA PREDECIR\n",
    "    ### Y --> LO QUE SE PREDIJO\n",
    "    \n",
    "    efectividad = 100.0*np.sum(Y==T)/len(Y)\n",
    "\n",
    "    print(\"Clase %s con %6.2f%% de efectividad con %d iteraciones\" % (cls_name, efectividad, iteraciones ))\n",
    "\n"
   ]
  },
  {
   "cell_type": "code",
   "execution_count": 20,
   "id": "e45a9b30-c842-4023-8e0e-2be583192287",
   "metadata": {},
   "outputs": [
    {
     "name": "stdout",
     "output_type": "stream",
     "text": [
      "30 ejec con sigmoid y con alfa = 0.1 ejecutadas correctamente\n",
      "30 ejec con sigmoid y con alfa = 0.2 ejecutadas correctamente\n",
      "30 ejec con sigmoid y con alfa = 0.3 ejecutadas correctamente\n",
      "30 ejec con tanh y con alfa = 0.1 ejecutadas correctamente\n",
      "30 ejec con tanh y con alfa = 0.2 ejecutadas correctamente\n",
      "30 ejec con tanh y con alfa = 0.3 ejecutadas correctamente\n",
      "Codigo ejecutado correctamente\n"
     ]
    }
   ],
   "source": [
    "###############################################################################\n",
    "# neurona no lineal sigmoid\n",
    "\n",
    "TABLA = [[\"Funcion\", \"Alfa\", \"Iteraciones\",\"Accuracy train\", \"Ite accuracy\",\"Veces (datos Train)\", \"Accuracy test\", \"Veces (Datos Test)\"]]\n",
    "TABLA = [[\"Funcion\", \"Alfa\", \"Iteraciones\",\"Accuracy train\",\"Veces (datos Train)\", \"Accuracy test\", \"Veces (Datos Test)\"]]\n",
    "\n",
    "for FUN in ['sigmoid', 'tanh']:\n",
    "    for ALFA in [0.1, 0.2, 0.3]:\n",
    "        ERROR = 1e-03\n",
    "        MAX_ITE = 200\n",
    "        CORRIDAS = 30\n",
    "        TEST_SIZE = .4\n",
    "        \n",
    "        # print('\\nNeurona con %s' %FUN)\n",
    "        \n",
    "        # hace entrenamiento por cada clase\n",
    "        cls_name = 'Tipo2'\n",
    "        prom_ite = 0\n",
    "        prom_acc_train = 0\n",
    "        prom_acc_test = 0\n",
    "        veces_train = 0\n",
    "        veces_test = 0\n",
    "        if FUN=='sigmoid':\n",
    "            T = 1*(T_raw==cls_name)\n",
    "        else:\n",
    "            T = 2*(T_raw==cls_name)-1\n",
    "  \n",
    "        for nro_ite in range(CORRIDAS):\n",
    "            # Establece resultado esperado según la clase. 1=clase esperada, 0=otra clase\n",
    "        \n",
    "            X_train, X_test, Y_train, Y_test = model_selection.train_test_split(X, T, test_size=TEST_SIZE)#, random_state=42)\n",
    "            # Entrena perceptrón\n",
    "            modelo = NeuronaGradiente(alpha=ALFA, n_iter=MAX_ITE, FUN=FUN, cotaE=ERROR)\n",
    "            modelo.fit(X_train, Y_train)\n",
    "        \n",
    "            (W, b, iteraciones) = (modelo.w_, modelo.b_, len(modelo.errors_))\n",
    "        \n",
    "            prom_ite = prom_ite + iteraciones\n",
    "        \n",
    "            # efectividad entrenamiento\n",
    "            Y_pred = modelo.predict(X_train)\n",
    "            efectividad = 100.0*np.sum(Y_train==Y_pred)/len(Y_pred)\n",
    "            prom_acc_train = prom_acc_train + efectividad\n",
    "            if (100-efectividad>0.0000001):\n",
    "                veces_train = veces_train + 1\n",
    "        \n",
    "            # efectividad entrenamiento\n",
    "            Y_pred = modelo.predict(X_test)\n",
    "            efectividad = 100.0*np.sum(Y_test==Y_pred)/len(Y_pred)\n",
    "            prom_acc_test = prom_acc_test + efectividad\n",
    "            if (100-efectividad>0.0000001):\n",
    "              veces_test = veces_test + 1\n",
    "        \n",
    "            # print(\"Clase %s con %6.2f%% de efectividad con %d iteraciones\" % (cls_name, efectividad, iteraciones ))\n",
    "        TABLA.append([FUN, ALFA, (prom_ite/CORRIDAS), (prom_acc_train/CORRIDAS), veces_train, (prom_acc_test/CORRIDAS), veces_test])\n",
    "        print(f'30 ejec con {FUN} y con alfa = {ALFA} ejecutadas correctamente')\n",
    "\n",
    "\n",
    "print('Codigo ejecutado correctamente')"
   ]
  },
  {
   "cell_type": "code",
   "execution_count": 21,
   "id": "f5d09cd7-c613-4dbc-b120-8563411dd993",
   "metadata": {},
   "outputs": [
    {
     "name": "stdout",
     "output_type": "stream",
     "text": [
      "+-----------+--------+---------------+------------------+-----------------------+-----------------+----------------------+\n",
      "| Funcion   |   Alfa |   Iteraciones |   Accuracy train |   Veces (datos Train) |   Accuracy test |   Veces (Datos Test) |\n",
      "+===========+========+===============+==================+=======================+=================+======================+\n",
      "| sigmoid   |    0.1 |       199.267 |          98.6508 |                    26 |         97.2222 |                   28 |\n",
      "+-----------+--------+---------------+------------------+-----------------------+-----------------+----------------------+\n",
      "| sigmoid   |    0.2 |       193.9   |          99.127  |                    21 |         97.5794 |                   28 |\n",
      "+-----------+--------+---------------+------------------+-----------------------+-----------------+----------------------+\n",
      "| sigmoid   |    0.3 |       197.8   |          99.3386 |                    22 |         97.8571 |                   28 |\n",
      "+-----------+--------+---------------+------------------+-----------------------+-----------------+----------------------+\n",
      "| tanh      |    0.1 |       198.767 |          99.8148 |                     7 |         97.619  |                   26 |\n",
      "+-----------+--------+---------------+------------------+-----------------------+-----------------+----------------------+\n",
      "| tanh      |    0.2 |       179.433 |          99.8413 |                     6 |         97.4603 |                   28 |\n",
      "+-----------+--------+---------------+------------------+-----------------------+-----------------+----------------------+\n",
      "| tanh      |    0.3 |       170.767 |          99.7354 |                     8 |         97.9762 |                   23 |\n",
      "+-----------+--------+---------------+------------------+-----------------------+-----------------+----------------------+\n"
     ]
    }
   ],
   "source": [
    "from tabulate import tabulate\n",
    "table = tabulate(TABLA, headers=\"firstrow\", tablefmt=\"grid\")\n",
    "print(table)"
   ]
  }
 ],
 "metadata": {
  "kernelspec": {
   "display_name": "Python 3 (ipykernel)",
   "language": "python",
   "name": "python3"
  },
  "language_info": {
   "codemirror_mode": {
    "name": "ipython",
    "version": 3
   },
   "file_extension": ".py",
   "mimetype": "text/x-python",
   "name": "python",
   "nbconvert_exporter": "python",
   "pygments_lexer": "ipython3",
   "version": "3.11.5"
  }
 },
 "nbformat": 4,
 "nbformat_minor": 5
}
