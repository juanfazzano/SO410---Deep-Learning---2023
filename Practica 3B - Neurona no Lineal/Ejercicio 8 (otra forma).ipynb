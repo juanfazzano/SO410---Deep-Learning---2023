{
 "cells": [
  {
   "cell_type": "code",
   "execution_count": 10,
   "id": "05344c2c-d794-4395-b7db-f5c92f05c478",
   "metadata": {},
   "outputs": [
    {
     "data": {
      "text/plain": [
       "array([3.89542629, 1.90334037, 0.91193392])"
      ]
     },
     "execution_count": 10,
     "metadata": {},
     "output_type": "execute_result"
    }
   ],
   "source": [
    "import numpy as np\n",
    "from ClassNeuronaLineal import NeuronaLineal\n",
    "\n",
    "# Datos de entrada (tres dígitos binarios) y sus correspondientes valores decimales\n",
    "X = np.array([[0, 0, 0],\n",
    "              [0, 0, 1],\n",
    "              [0, 1, 0],\n",
    "              [0, 1, 1],\n",
    "              [1, 0, 0],\n",
    "              [1, 0, 1],\n",
    "              [1, 1, 0],\n",
    "              [1, 1, 1]])\n",
    "\n",
    "# Salidas correspondientes (valores decimales)\n",
    "T = np.array([0, 1, 2, 3, 4, 5, 6, 7])\n",
    "\n",
    "alfa = 0.05\n",
    "MAX_ITE = 200\n",
    "CotaError = 10e-03\n",
    "\n",
    "modelo = NeuronaLineal(alpha=alfa, n_iter=MAX_ITE, cotaE=CotaError)\n",
    "modelo.fit(X, T)\n",
    "modelo.w_"
   ]
  },
  {
   "cell_type": "code",
   "execution_count": 11,
   "id": "648073e1-3155-4e1c-9607-aacb40aa8494",
   "metadata": {},
   "outputs": [
    {
     "data": {
      "text/plain": [
       "200"
      ]
     },
     "execution_count": 11,
     "metadata": {},
     "output_type": "execute_result"
    }
   ],
   "source": [
    "modelo.n_iter"
   ]
  },
  {
   "cell_type": "code",
   "execution_count": 12,
   "id": "d73c8844-0c01-4a1c-b962-5343cd1a2767",
   "metadata": {},
   "outputs": [
    {
     "data": {
      "text/plain": [
       "array([[1., 0., 0., 0.],\n",
       "       [1., 0., 0., 1.],\n",
       "       [1., 0., 1., 0.],\n",
       "       [1., 0., 1., 1.],\n",
       "       [1., 1., 0., 0.],\n",
       "       [1., 1., 0., 1.],\n",
       "       [1., 1., 1., 0.],\n",
       "       [1., 1., 1., 1.]])"
      ]
     },
     "execution_count": 12,
     "metadata": {},
     "output_type": "execute_result"
    }
   ],
   "source": [
    "X_bias = np.c_[np.ones(X.shape[0]), X]\n",
    "X_bias"
   ]
  },
  {
   "cell_type": "code",
   "execution_count": 13,
   "id": "e4e06653-0c88-472e-818a-e137dff6cebd",
   "metadata": {},
   "outputs": [
    {
     "data": {
      "text/plain": [
       "array([0.36204048, 3.90242209, 1.92121328, 0.94081433])"
      ]
     },
     "execution_count": 13,
     "metadata": {},
     "output_type": "execute_result"
    }
   ],
   "source": [
    "T = np.array([0, 1, 2, 3, 4, 5, 6, 7])\n",
    "\n",
    "alfa = 0.05\n",
    "MAX_ITE = 200\n",
    "CotaError = 10e-03\n",
    "\n",
    "modelo = NeuronaLineal(alpha=alfa, n_iter=MAX_ITE, cotaE=CotaError)\n",
    "modelo.fit(X_bias, T)\n",
    "modelo.w_"
   ]
  },
  {
   "cell_type": "code",
   "execution_count": 14,
   "id": "2631b560-c716-453d-b4ae-0113b05c3f8c",
   "metadata": {},
   "outputs": [
    {
     "data": {
      "text/plain": [
       "200"
      ]
     },
     "execution_count": 14,
     "metadata": {},
     "output_type": "execute_result"
    }
   ],
   "source": [
    "modelo.n_iter"
   ]
  },
  {
   "cell_type": "code",
   "execution_count": null,
   "id": "ef598eb4-dd0a-4656-a279-17c19d63f070",
   "metadata": {},
   "outputs": [],
   "source": []
  }
 ],
 "metadata": {
  "kernelspec": {
   "display_name": "Python 3 (ipykernel)",
   "language": "python",
   "name": "python3"
  },
  "language_info": {
   "codemirror_mode": {
    "name": "ipython",
    "version": 3
   },
   "file_extension": ".py",
   "mimetype": "text/x-python",
   "name": "python",
   "nbconvert_exporter": "python",
   "pygments_lexer": "ipython3",
   "version": "3.11.5"
  }
 },
 "nbformat": 4,
 "nbformat_minor": 5
}
