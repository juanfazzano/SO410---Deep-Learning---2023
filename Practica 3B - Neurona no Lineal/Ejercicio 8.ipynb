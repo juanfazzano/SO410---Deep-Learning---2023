{
 "cells": [
  {
   "cell_type": "markdown",
   "id": "520b8245-47ae-4ce8-8162-3dca16753fbd",
   "metadata": {},
   "source": [
    "# Ejercicio 8\n",
    "### Entrene un combinador lineal que reciba tres dígitos binarios y devuelva el número decimal correspondiente.\n",
    "\n",
    "a. Utilizando el bias o peso W0\n",
    "\n",
    "b. Utilizando únicamente las tres entradas correspondientes a los dígitos binarios sin el bias.\n",
    "\n",
    "### Compare la cantidad de iteraciones necesarias para obtener el vector de pesos correcto en ambos casos. Observe el valor del arco correspondiente al bias en a)"
   ]
  },
  {
   "cell_type": "code",
   "execution_count": 4,
   "id": "4055ce2a-cc18-49fc-b9ba-22b838b2cb5a",
   "metadata": {},
   "outputs": [
    {
     "name": "stdout",
     "output_type": "stream",
     "text": [
      "Pesos con bias: [0.00849301 3.9949951  1.99510088 0.99519369]\n",
      "Pesos sin bias: [3.99998307 1.99994842 1.00006851]\n"
     ]
    }
   ],
   "source": [
    "import numpy as np\n",
    "\n",
    "# Datos de entrada (tres dígitos binarios) y sus correspondientes valores decimales\n",
    "X = np.array([[0, 0, 0],\n",
    "              [0, 0, 1],\n",
    "              [0, 1, 0],\n",
    "              [0, 1, 1],\n",
    "              [1, 0, 0],\n",
    "              [1, 0, 1],\n",
    "              [1, 1, 0],\n",
    "              [1, 1, 1]])\n",
    "\n",
    "# Salidas correspondientes (valores decimales)\n",
    "Y = np.array([0, 1, 2, 3, 4, 5, 6, 7])\n",
    "\n",
    "# Agregar una columna de unos para el bias\n",
    "X_bias = np.c_[np.ones(X.shape[0]), X]\n",
    "\n",
    "# Inicializar pesos aleatorios\n",
    "np.random.seed(0)\n",
    "weights_with_bias = np.random.randn(X_bias.shape[1])\n",
    "\n",
    "# Inicializar pesos sin bias\n",
    "weights_no_bias = np.random.randn(X.shape[1])\n",
    "\n",
    "# Hiperparámetros\n",
    "learning_rate = 0.01\n",
    "epochs = 500\n",
    "\n",
    "# Entrenamiento con bias\n",
    "for _ in range(epochs):\n",
    "    prediction_with_bias = np.dot(X_bias, weights_with_bias)\n",
    "    error_with_bias = prediction_with_bias - Y\n",
    "    gradient_with_bias = np.dot(X_bias.T, error_with_bias)\n",
    "    weights_with_bias -= learning_rate * gradient_with_bias\n",
    "\n",
    "# Entrenamiento sin bias\n",
    "for _ in range(epochs):\n",
    "    prediction_no_bias = np.dot(X, weights_no_bias)\n",
    "    error_no_bias = prediction_no_bias - Y\n",
    "    gradient_no_bias = np.dot(X.T, error_no_bias)\n",
    "    weights_no_bias -= learning_rate * gradient_no_bias\n",
    "print(\"Pesos con bias:\", weights_with_bias)\n",
    "print(\"Pesos sin bias:\", weights_no_bias)\n"
   ]
  },
  {
   "cell_type": "markdown",
   "id": "01f62187-46ea-446c-9eff-f9a95cce4054",
   "metadata": {},
   "source": [
    "Los valores de los pesos que se obtuvieron después del entrenamiento son los siguientes:\n",
    "\n",
    "a) Utilizando el bias (W0):\n",
    "   - W0 (Bias): 0.00849301\n",
    "   - W1: 3.9949951\n",
    "   - W2: 1.99510088\n",
    "   - W3: 0.99519369\n",
    "\n",
    "b) Sin utilizar el bias:\n",
    "   - W1: 3.99998307\n",
    "   - W2: 1.99994842\n",
    "   - W3: 1.00006851\n",
    "\n",
    "Estos pesos representan los parámetros del modelo entrenado que permite convertir tres dígitos binarios en su equivalente decimal a través de una combinación lineal de las entradas. En ambos casos, el modelo es capaz de realizar la conversión correctamente.\n",
    "\n",
    "La diferencia principal entre los dos conjuntos de pesos es la presencia o ausencia del bias (W0). Cuando se utiliza el bias, el modelo puede representar desplazamientos (offsets) en los datos, lo que puede ser útil en algunos casos. En contraste, el modelo sin bias no tiene en cuenta desplazamientos y solo realiza una combinación lineal de las entradas. La elección de si incluir o no el bias depende de la naturaleza del problema y de los datos que estés tratando de modelar."
   ]
  },
  {
   "cell_type": "code",
   "execution_count": null,
   "id": "cc155cc1-70c7-49ce-9fab-13471cb20f6a",
   "metadata": {},
   "outputs": [],
   "source": []
  }
 ],
 "metadata": {
  "kernelspec": {
   "display_name": "Python 3 (ipykernel)",
   "language": "python",
   "name": "python3"
  },
  "language_info": {
   "codemirror_mode": {
    "name": "ipython",
    "version": 3
   },
   "file_extension": ".py",
   "mimetype": "text/x-python",
   "name": "python",
   "nbconvert_exporter": "python",
   "pygments_lexer": "ipython3",
   "version": "3.11.5"
  }
 },
 "nbformat": 4,
 "nbformat_minor": 5
}
