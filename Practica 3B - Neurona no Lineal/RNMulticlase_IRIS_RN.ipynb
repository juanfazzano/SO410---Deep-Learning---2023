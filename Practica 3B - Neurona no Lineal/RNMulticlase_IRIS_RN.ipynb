{
 "cells": [
  {
   "cell_type": "code",
   "execution_count": 2,
   "id": "f3fbf3c3",
   "metadata": {},
   "outputs": [],
   "source": [
    "%matplotlib inline\n",
    "import pandas as pd\n",
    "import numpy as np\n",
    "from sklearn import preprocessing, metrics, model_selection\n",
    "\n",
    "import time\n",
    "#from matplotlib import pyplot as plt\n",
    "from matplotlib import pylab as plt\n",
    "from IPython import display\n",
    "\n",
    "from grafica import *\n",
    "from ClassRNMulticlase import RNMulticlase"
   ]
  },
  {
   "cell_type": "code",
   "execution_count": 4,
   "id": "782b01a0",
   "metadata": {},
   "outputs": [
    {
     "data": {
      "text/html": [
       "<div>\n",
       "<style scoped>\n",
       "    .dataframe tbody tr th:only-of-type {\n",
       "        vertical-align: middle;\n",
       "    }\n",
       "\n",
       "    .dataframe tbody tr th {\n",
       "        vertical-align: top;\n",
       "    }\n",
       "\n",
       "    .dataframe thead th {\n",
       "        text-align: right;\n",
       "    }\n",
       "</style>\n",
       "<table border=\"1\" class=\"dataframe\">\n",
       "  <thead>\n",
       "    <tr style=\"text-align: right;\">\n",
       "      <th></th>\n",
       "      <th>sepallength</th>\n",
       "      <th>sepalwidth</th>\n",
       "      <th>petallength</th>\n",
       "      <th>petalwidth</th>\n",
       "      <th>class</th>\n",
       "    </tr>\n",
       "  </thead>\n",
       "  <tbody>\n",
       "    <tr>\n",
       "      <th>0</th>\n",
       "      <td>5.1</td>\n",
       "      <td>3.5</td>\n",
       "      <td>1.4</td>\n",
       "      <td>0.2</td>\n",
       "      <td>Iris-setosa</td>\n",
       "    </tr>\n",
       "    <tr>\n",
       "      <th>1</th>\n",
       "      <td>4.9</td>\n",
       "      <td>3.0</td>\n",
       "      <td>1.4</td>\n",
       "      <td>0.2</td>\n",
       "      <td>Iris-setosa</td>\n",
       "    </tr>\n",
       "    <tr>\n",
       "      <th>2</th>\n",
       "      <td>4.7</td>\n",
       "      <td>3.2</td>\n",
       "      <td>1.3</td>\n",
       "      <td>0.2</td>\n",
       "      <td>Iris-setosa</td>\n",
       "    </tr>\n",
       "    <tr>\n",
       "      <th>3</th>\n",
       "      <td>4.6</td>\n",
       "      <td>3.1</td>\n",
       "      <td>1.5</td>\n",
       "      <td>0.2</td>\n",
       "      <td>Iris-setosa</td>\n",
       "    </tr>\n",
       "    <tr>\n",
       "      <th>4</th>\n",
       "      <td>5.0</td>\n",
       "      <td>3.6</td>\n",
       "      <td>1.4</td>\n",
       "      <td>0.2</td>\n",
       "      <td>Iris-setosa</td>\n",
       "    </tr>\n",
       "    <tr>\n",
       "      <th>...</th>\n",
       "      <td>...</td>\n",
       "      <td>...</td>\n",
       "      <td>...</td>\n",
       "      <td>...</td>\n",
       "      <td>...</td>\n",
       "    </tr>\n",
       "    <tr>\n",
       "      <th>145</th>\n",
       "      <td>6.7</td>\n",
       "      <td>3.0</td>\n",
       "      <td>5.2</td>\n",
       "      <td>2.3</td>\n",
       "      <td>Iris-virginica</td>\n",
       "    </tr>\n",
       "    <tr>\n",
       "      <th>146</th>\n",
       "      <td>6.3</td>\n",
       "      <td>2.5</td>\n",
       "      <td>5.0</td>\n",
       "      <td>1.9</td>\n",
       "      <td>Iris-virginica</td>\n",
       "    </tr>\n",
       "    <tr>\n",
       "      <th>147</th>\n",
       "      <td>6.5</td>\n",
       "      <td>3.0</td>\n",
       "      <td>5.2</td>\n",
       "      <td>2.0</td>\n",
       "      <td>Iris-virginica</td>\n",
       "    </tr>\n",
       "    <tr>\n",
       "      <th>148</th>\n",
       "      <td>6.2</td>\n",
       "      <td>3.4</td>\n",
       "      <td>5.4</td>\n",
       "      <td>2.3</td>\n",
       "      <td>Iris-virginica</td>\n",
       "    </tr>\n",
       "    <tr>\n",
       "      <th>149</th>\n",
       "      <td>5.9</td>\n",
       "      <td>3.0</td>\n",
       "      <td>5.1</td>\n",
       "      <td>1.8</td>\n",
       "      <td>Iris-virginica</td>\n",
       "    </tr>\n",
       "  </tbody>\n",
       "</table>\n",
       "<p>150 rows × 5 columns</p>\n",
       "</div>"
      ],
      "text/plain": [
       "     sepallength  sepalwidth  petallength  petalwidth           class\n",
       "0            5.1         3.5          1.4         0.2     Iris-setosa\n",
       "1            4.9         3.0          1.4         0.2     Iris-setosa\n",
       "2            4.7         3.2          1.3         0.2     Iris-setosa\n",
       "3            4.6         3.1          1.5         0.2     Iris-setosa\n",
       "4            5.0         3.6          1.4         0.2     Iris-setosa\n",
       "..           ...         ...          ...         ...             ...\n",
       "145          6.7         3.0          5.2         2.3  Iris-virginica\n",
       "146          6.3         2.5          5.0         1.9  Iris-virginica\n",
       "147          6.5         3.0          5.2         2.0  Iris-virginica\n",
       "148          6.2         3.4          5.4         2.3  Iris-virginica\n",
       "149          5.9         3.0          5.1         1.8  Iris-virginica\n",
       "\n",
       "[150 rows x 5 columns]"
      ]
     },
     "execution_count": 4,
     "metadata": {},
     "output_type": "execute_result"
    }
   ],
   "source": [
    "datos = pd.read_csv('../Datos/Iris.csv')\n",
    "datos"
   ]
  },
  {
   "cell_type": "code",
   "execution_count": 5,
   "id": "b6b4b05f",
   "metadata": {},
   "outputs": [
    {
     "name": "stdout",
     "output_type": "stream",
     "text": [
      "Primeros ejemplos con sus valores de rta.esperados\n",
      "\n",
      "X\n",
      " [[5.1 3.5 1.4 0.2]\n",
      " [4.9 3.  1.4 0.2]\n",
      " [4.7 3.2 1.3 0.2]\n",
      " [4.6 3.1 1.5 0.2]\n",
      " [5.  3.6 1.4 0.2]]\n",
      "T\n",
      " [[1. 0. 0.]\n",
      " [1. 0. 0.]\n",
      " [1. 0. 0.]\n",
      " [1. 0. 0.]\n",
      " [1. 0. 0.]]\n"
     ]
    }
   ],
   "source": [
    "X = np.array(datos.iloc[:, :4])\n",
    "T = np.array(datos['class'])\n",
    "nomClases = datos['class'].value_counts()\n",
    "# creating instance of one-hot-encoder\n",
    "enc = preprocessing.OneHotEncoder(handle_unknown='ignore')\n",
    "T = enc.fit_transform(T.reshape(-1,1)).toarray()\n",
    "\n",
    "print(\"Primeros ejemplos con sus valores de rta.esperados\\n\")\n",
    "print(\"X\\n\", X[0:5,:])\n",
    "print(\"T\\n\", T[0:5,:])\n"
   ]
  },
  {
   "cell_type": "code",
   "execution_count": 6,
   "id": "b117412d",
   "metadata": {},
   "outputs": [],
   "source": [
    "#--- CONJUNTOS DE ENTRENAMIENTO Y TESTEO ---\n",
    "X_train, X_test, T_train, T_test = model_selection.train_test_split(X, T, test_size=0.50) #, random_state=42)\n",
    "normalizador = preprocessing.StandardScaler()\n",
    "X_train = normalizador.fit_transform(X_train)\n",
    "X_test = normalizador.transform(X_test)\n"
   ]
  },
  {
   "cell_type": "code",
   "execution_count": 7,
   "id": "687f847b",
   "metadata": {},
   "outputs": [],
   "source": [
    "# Opciones para la función de activación: 'sigmoid', 'tanh' o 'softmax'\n",
    "# Opciones para la función de costo : 'ECM', 'EC_binaria', 'EC'\n",
    "# Combinaciones válidas: 'sigmoid'-'ECM', 'sigmoid'-'EC_binaria', 'tanh'-'ECM', 'softmax'-'EC'\n",
    "\n",
    "funcion = 'sigmoid'  \n",
    "funcionCOSTO = 'ECM'\n",
    "\n",
    "if (funcion == 'tanh'):\n",
    "    T_train = 2*T_train-1\n",
    "    T_test  = 2*T_test-1\n",
    "\n",
    "rn = RNMulticlase(alpha=0.1, n_iter=800, cotaE=1e-06, FUN=funcion, COSTO=funcionCOSTO, random_state=None)\n",
    "resul = rn.fit(X_train, T_train)"
   ]
  },
  {
   "cell_type": "code",
   "execution_count": 8,
   "id": "18ec3974",
   "metadata": {},
   "outputs": [
    {
     "name": "stdout",
     "output_type": "stream",
     "text": [
      "Pesos obtenidos\n",
      "\n",
      "[[-1.45578959  1.78457598 -2.64974109 -2.18980811]\n",
      " [ 1.97646106 -2.22959343  3.35348915 -4.71711238]\n",
      " [-0.27284637 -1.66448099  5.18730986  5.73802102]]\n",
      "[[-2.43014865]\n",
      " [-0.89719594]\n",
      " [-7.68564161]]\n"
     ]
    }
   ],
   "source": [
    "print(\"Pesos obtenidos\\n\")\n",
    "print(rn.w_)\n",
    "print(rn.b_)"
   ]
  },
  {
   "cell_type": "code",
   "execution_count": 9,
   "id": "1fd69b48",
   "metadata": {},
   "outputs": [
    {
     "data": {
      "image/png": "[encoded data removed]",
      "text/plain": [
       "<Figure size 640x480 with 1 Axes>"
      ]
     },
     "metadata": {},
     "output_type": "display_data"
    }
   ],
   "source": [
    "plt.plot(range(1, len(rn.errors_) + 1), rn.errors_, marker='o')\n",
    "plt.xlabel('Iteraciones')\n",
    "plt.ylabel(funcionCOSTO)\n",
    "plt.show()"
   ]
  },
  {
   "cell_type": "code",
   "execution_count": 10,
   "id": "379b1e2e",
   "metadata": {},
   "outputs": [
    {
     "data": {
      "image/png": "[encoded data removed]",
      "text/plain": [
       "<Figure size 640x480 with 1 Axes>"
      ]
     },
     "metadata": {},
     "output_type": "display_data"
    }
   ],
   "source": [
    "plt.plot(range(1, len(rn.accuracy_) + 1), rn.accuracy_, marker='o')\n",
    "plt.xlabel('Iteraciones')\n",
    "plt.ylabel('accuracy')\n",
    "plt.show()"
   ]
  },
  {
   "cell_type": "code",
   "execution_count": 11,
   "id": "4626dfc3",
   "metadata": {},
   "outputs": [
    {
     "name": "stdout",
     "output_type": "stream",
     "text": [
      "acc.Train = 0.84    acc.Test = 0.73\n"
     ]
    }
   ],
   "source": [
    "#-- accuracy en entrenamiento y testeo ---\n",
    "acc_Train = rn.accuracy(X_train, T_train)\n",
    "acc_Test = rn.accuracy(X_test, T_test)\n",
    "print(\"acc.Train = %.2f    acc.Test = %.2f\" % (acc_Train, acc_Test))"
   ]
  },
  {
   "cell_type": "markdown",
   "id": "19e5844a",
   "metadata": {},
   "source": [
    "## Otras funciones de RNMulticlase"
   ]
  },
  {
   "cell_type": "code",
   "execution_count": 12,
   "id": "2116f767",
   "metadata": {},
   "outputs": [
    {
     "data": {
      "text/plain": [
       "array([[ -8.84,   3.76,   0.82],\n",
       "       [ -8.76,   0.73,   2.2 ],\n",
       "       [  7.22,  -5.88, -21.61],\n",
       "       [  6.39,  -2.91, -22.36],\n",
       "       [-10.19,  -2.23,   5.92]])"
      ]
     },
     "execution_count": 12,
     "metadata": {},
     "output_type": "execute_result"
    }
   ],
   "source": [
    "# netas de la capa de salida\n",
    "netas = rn.net_input(X_test[:5, :])\n",
    "np.round(netas,2)"
   ]
  },
  {
   "cell_type": "code",
   "execution_count": 13,
   "id": "aebc1264",
   "metadata": {},
   "outputs": [
    {
     "name": "stdout",
     "output_type": "stream",
     "text": [
      "Funcion de activacion :  sigmoid\n"
     ]
    },
    {
     "data": {
      "text/plain": [
       "array([[0.  , 0.98, 0.69],\n",
       "       [0.  , 0.68, 0.9 ],\n",
       "       [1.  , 0.  , 0.  ],\n",
       "       [1.  , 0.05, 0.  ],\n",
       "       [0.  , 0.1 , 1.  ]])"
      ]
     },
     "execution_count": 13,
     "metadata": {},
     "output_type": "execute_result"
    }
   ],
   "source": [
    "# aplicamos la función de activación\n",
    "print(\"Funcion de activacion : \", funcion)\n",
    "salidas = rn.evaluar(netas)\n",
    "np.round(salidas,2)"
   ]
  },
  {
   "cell_type": "code",
   "execution_count": 14,
   "id": "f94c3e2b",
   "metadata": {},
   "outputs": [
    {
     "name": "stdout",
     "output_type": "stream",
     "text": [
      "valores obtenidos\n",
      "[[0.   0.98 0.69]\n",
      " [0.   0.68 0.9 ]\n",
      " [1.   0.   0.  ]\n",
      " [1.   0.05 0.  ]\n",
      " [0.   0.1  1.  ]]\n"
     ]
    }
   ],
   "source": [
    "# salida continua de cada neurona\n",
    "y_hat = rn.predict_nOut(X_test[:5, :])\n",
    "\n",
    "print(\"valores obtenidos\")\n",
    "print(np.round(y_hat,2))"
   ]
  },
  {
   "cell_type": "code",
   "execution_count": 15,
   "id": "cf48f818",
   "metadata": {},
   "outputs": [
    {
     "name": "stdout",
     "output_type": "stream",
     "text": [
      "valores obtenidos\n",
      "[[0.   0.98 0.69]\n",
      " [0.   0.68 0.9 ]\n",
      " [1.   0.   0.  ]\n",
      " [1.   0.05 0.  ]\n",
      " [0.   0.1  1.  ]]\n",
      "\n",
      "valores obtenidos luego de convertirlos en binario\n",
      "[[0 1 1]\n",
      " [0 1 1]\n",
      " [1 0 0]\n",
      " [1 0 0]\n",
      " [0 0 1]]\n",
      "\n",
      "valores esperados\n",
      "[[0. 1. 0.]\n",
      " [0. 0. 1.]\n",
      " [1. 0. 0.]\n",
      " [1. 0. 0.]\n",
      " [0. 0. 1.]]\n"
     ]
    }
   ],
   "source": [
    "# Para las funciones sigmoides, los valores obtenidos deben ser \n",
    "# convertidos en binario ANTES de comparar con la rta esperada\n",
    "# La función softmax responde la posición del máximo\n",
    "print(\"valores obtenidos\")\n",
    "print(np.round(y_hat,2))\n",
    "\n",
    "if (funcion=='tanh'):\n",
    "    y_hat = (y_hat>0)*1\n",
    "    \n",
    "if (funcion=='sigmoid'):\n",
    "    y_hat = (y_hat>0.5)*1\n",
    "\n",
    "print(\"\\nvalores obtenidos luego de convertirlos en binario\")\n",
    "print(y_hat)   \n",
    "   \n",
    "print(\"\\nvalores esperados\")\n",
    "print(T_test[:5, :])     "
   ]
  },
  {
   "cell_type": "code",
   "execution_count": 16,
   "id": "5d16802a",
   "metadata": {},
   "outputs": [
    {
     "name": "stdout",
     "output_type": "stream",
     "text": [
      "[1 1 0 0 2]\n",
      "[1 2 0 0 2]\n"
     ]
    }
   ],
   "source": [
    "y_binario = rn.predict(X_test[:5, :])\n",
    "print(y_binario)\n",
    "print(np.argmax(T_test[:5,:], axis=1))"
   ]
  },
  {
   "cell_type": "code",
   "execution_count": 17,
   "id": "d5fc870a",
   "metadata": {},
   "outputs": [
    {
     "data": {
      "text/plain": [
       "0.8"
      ]
     },
     "execution_count": 17,
     "metadata": {},
     "output_type": "execute_result"
    }
   ],
   "source": [
    "rn.accuracy(X_test[:5, :], T_test[:5, :])"
   ]
  },
  {
   "cell_type": "code",
   "execution_count": null,
   "id": "c15a0610",
   "metadata": {},
   "outputs": [],
   "source": []
  },
  {
   "cell_type": "code",
   "execution_count": null,
   "id": "5c137e03-5049-4b78-a681-2d9e07fdfabc",
   "metadata": {},
   "outputs": [],
   "source": []
  }
 ],
 "metadata": {
  "kernelspec": {
   "display_name": "Python 3 (ipykernel)",
   "language": "python",
   "name": "python3"
  },
  "language_info": {
   "codemirror_mode": {
    "name": "ipython",
    "version": 3
   },
   "file_extension": ".py",
   "mimetype": "text/x-python",
   "name": "python",
   "nbconvert_exporter": "python",
   "pygments_lexer": "ipython3",
   "version": "3.11.5"
  }
 },
 "nbformat": 4,
 "nbformat_minor": 5
}
