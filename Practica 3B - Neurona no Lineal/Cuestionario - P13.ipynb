{
 "cells": [
  {
   "cell_type": "code",
   "execution_count": 2,
   "id": "0df2fd2b-9a8f-4b1a-9cd7-540613ae1e8d",
   "metadata": {},
   "outputs": [
    {
     "data": {
      "text/plain": [
       "6"
      ]
     },
     "execution_count": 2,
     "metadata": {},
     "output_type": "execute_result"
    }
   ],
   "source": [
    "import pandas as pd\n",
    "import chardet\n",
    "import numpy as np\n",
    "\n",
    "def open_file(path):\n",
    "    # open the path with automatic encoding\n",
    "    with open(path, 'rb') as file:\n",
    "        encoding = chardet.detect(file.read())\n",
    "    \n",
    "    return pd.read_csv(path, encoding=encoding['encoding'])\n",
    "\n",
    "data = open_file(\"../Datos/AUTOS.csv\")\n",
    "\n",
    "data = data.select_dtypes(include=np.number)\n",
    "data\n",
    "\n",
    "columnas_con_nulos = data.columns[data.isna().any()]\n",
    "cantidad_columnas_con_nulos = len(columnas_con_nulos)\n",
    "cantidad_columnas_con_nulos"
   ]
  },
  {
   "cell_type": "code",
   "execution_count": null,
   "id": "367ba37b-e4c5-413e-a4a4-f7e399a2c065",
   "metadata": {},
   "outputs": [],
   "source": []
  }
 ],
 "metadata": {
  "kernelspec": {
   "display_name": "Python 3 (ipykernel)",
   "language": "python",
   "name": "python3"
  },
  "language_info": {
   "codemirror_mode": {
    "name": "ipython",
    "version": 3
   },
   "file_extension": ".py",
   "mimetype": "text/x-python",
   "name": "python",
   "nbconvert_exporter": "python",
   "pygments_lexer": "ipython3",
   "version": "3.11.5"
  }
 },
 "nbformat": 4,
 "nbformat_minor": 5
}
